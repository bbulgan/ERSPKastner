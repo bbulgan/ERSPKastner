{
 "cells": [
  {
   "cell_type": "code",
   "execution_count": 45,
   "metadata": {},
   "outputs": [],
   "source": [
    "import csv\n",
    "import sys\n",
    "import pprint\n",
    " \n",
    "# Function to convert a csv file to a list of dictionaries.  \n",
    "# Takes in one variable called \"variables_file\"\n",
    "def csv_dict_list(variables_file):\n",
    "     \n",
    "    # Open variable-based csv, \n",
    "    # iterate over the rows and map values to a list of dictionaries \n",
    "    # containing key/value pairs\n",
    "    reader = csv.reader(open(variables_file, \"r\"))\n",
    "    dict_list = []\n",
    "    for row in reader:\n",
    "        direct = row[0]\n",
    "        dict_list.append(direct)\n",
    "    return dict_list\n",
    "\n",
    "# Calls the csv_dict_list function, passing the named csv\n",
    "def parseAll():\n",
    "    unit7 = csv_dict_list(\"./locationData/Unit7PeakTimes.csv\")\n",
    "    unit8 = csv_dict_list(\"./locationData/Unit8PeakTimes.csv\")\n",
    "    unit13 = csv_dict_list(\"./locationData/Unit13PeakTimes.csv\")\n",
    "    unit20 = csv_dict_list(\"./locationData/Unit20PeakTimes.csv\")\n",
    "    return unit7, unit8, unit13, unit20\n",
    "\n",
    "u7, u8, u13, u20 = parseAll()\n",
    "bigArray = [u7, u8, u13, u20]\n",
    "\n",
    "    "
   ]
  },
  {
   "cell_type": "code",
   "execution_count": 67,
   "metadata": {},
   "outputs": [],
   "source": [
    "def timeDiff(big):\n",
    "    bigFATarray = []\n",
    "    for snapIndex in range(0, len(big[0])):\n",
    "        oneElementInBigFatArray = []\n",
    "        for firstAUVIndex in range(0, 4):\n",
    "            for secondAUVIndex in range(firstAUVIndex+1, 4):\n",
    "                auv1 = float(big[firstAUVIndex][snapIndex])\n",
    "                auv2 = float(big[secondAUVIndex][snapIndex])           \n",
    "                difference = auv1 - auv2           \n",
    "                oneElementInBigFatArray.append(difference)\n",
    "        bigFATarray.append(oneElementInBigFatArray)\n",
    "    return bigFATarray"
   ]
  },
  {
   "cell_type": "code",
   "execution_count": 69,
   "metadata": {},
   "outputs": [
    {
     "name": "stdout",
     "output_type": "stream",
     "text": [
      "[0.008198348116822629, 0.06328147661867778, 0.030991893253538016, 0.05508312850185515, 0.022793545136715387, -0.03228958336513976]\n"
     ]
    }
   ],
   "source": [
    "processedArray = timeDiff(bigArray)"
   ]
  },
  {
   "cell_type": "code",
   "execution_count": null,
   "metadata": {},
   "outputs": [],
   "source": []
  }
 ],
 "metadata": {
  "kernelspec": {
   "display_name": "Python 3",
   "language": "python",
   "name": "python3"
  },
  "language_info": {
   "codemirror_mode": {
    "name": "ipython",
    "version": 3
   },
   "file_extension": ".py",
   "mimetype": "text/x-python",
   "name": "python",
   "nbconvert_exporter": "python",
   "pygments_lexer": "ipython3",
   "version": "3.6.3"
  }
 },
 "nbformat": 4,
 "nbformat_minor": 2
}
