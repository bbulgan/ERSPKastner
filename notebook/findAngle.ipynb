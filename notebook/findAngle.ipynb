{
 "cells": [
  {
   "cell_type": "code",
   "execution_count": 114,
   "metadata": {},
   "outputs": [
    {
     "ename": "ModuleNotFoundError",
     "evalue": "No module named 'maplotlib'",
     "output_type": "error",
     "traceback": [
      "\u001b[0;31m---------------------------------------------------------------------------\u001b[0m",
      "\u001b[0;31mModuleNotFoundError\u001b[0m                       Traceback (most recent call last)",
      "\u001b[0;32m<ipython-input-114-ec99edc0dc4a>\u001b[0m in \u001b[0;36m<module>\u001b[0;34m()\u001b[0m\n\u001b[1;32m      1\u001b[0m \u001b[0;32mimport\u001b[0m \u001b[0mrandom\u001b[0m \u001b[0;32mas\u001b[0m \u001b[0mrand\u001b[0m\u001b[0;34m\u001b[0m\u001b[0m\n\u001b[1;32m      2\u001b[0m \u001b[0;32mimport\u001b[0m \u001b[0mnumpy\u001b[0m \u001b[0;32mas\u001b[0m \u001b[0mnp\u001b[0m\u001b[0;34m\u001b[0m\u001b[0m\n\u001b[0;32m----> 3\u001b[0;31m \u001b[0;32mimport\u001b[0m \u001b[0mmaplotlib\u001b[0m\u001b[0;34m.\u001b[0m\u001b[0mpyplot\u001b[0m \u001b[0;32mas\u001b[0m \u001b[0mplt\u001b[0m\u001b[0;34m\u001b[0m\u001b[0m\n\u001b[0m",
      "\u001b[0;31mModuleNotFoundError\u001b[0m: No module named 'maplotlib'"
     ]
    }
   ],
   "source": [
    "import random as rand\n",
    "import numpy as np\n",
    "import matplotlib.pyplot as plt"
   ]
  },
  {
   "cell_type": "code",
   "execution_count": 109,
   "metadata": {},
   "outputs": [],
   "source": [
    "auvRange = 20\n",
    "shrimpRange = 100\n",
    "#rate = shrimpRange/auvRange\n",
    "timeNoiseRange = 0.0005\n",
    "distNoiseRange = (1/100)*auvRange\n",
    "\n",
    "auvPos = [[0,0],[0,0],[0,0],[0,0]]\n",
    "auvPosWN = [[0,0],[0,0],[0,0],[0,0]]\n",
    "\n",
    "def createPositions(auvPos):\n",
    "    for i in range(len(auvPos)):\n",
    "        auvPos[i] = [rand.random()*auvRange, rand.random()*auvRange]\n",
    "        rand1 = rand.random()*distNoiseRange\n",
    "        rand2 = rand.random()*distNoiseRange\n",
    "        auvPosWN[i] = [(auvPos[i][0]+rand1),(auvPos[i][1]+rand2)]\n",
    "    return auvPos,auvPosWN\n",
    "auvPos,auvPosWN = createPositions(auvPos)\n",
    "\n",
    "shrimpPos = [rand.random()*shrimpRange, rand.random()*shrimpRange]\n",
    "#print(auvPos)\n",
    "#print(auvPosWN)\n"
   ]
  },
  {
   "cell_type": "code",
   "execution_count": 110,
   "metadata": {},
   "outputs": [],
   "source": [
    "diff = [[0,0],[0,0],[0,0],[0,0]]\n",
    "def getDiffFromShrimp(shrimpPos, auvPos):\n",
    "    for i in range(len(auvPos)):\n",
    "        diff[i] = [shrimpPos[0] - auvPos[i][0],shrimpPos[1] - auvPos[i][1]];\n",
    "        \n",
    "    return diff\n",
    "\n",
    "diff = getDiffFromShrimp(shrimpPos, auvPos)\n",
    "#diff = getDiffFromShrimp(shrimpPos, auvPosWN)\n",
    "#auvPos = auvPosWN"
   ]
  },
  {
   "cell_type": "code",
   "execution_count": 111,
   "metadata": {},
   "outputs": [],
   "source": [
    "functions = []\n",
    "soundSpeed = 1498\n",
    "#gets deltas in seconds\n",
    "def getMags():\n",
    "    mag = [[0,0],[0,0],[0,0],[0,0],[0,0],[0,0]]\n",
    "    k = 0\n",
    "    for i in range(4):\n",
    "        for j in range(i+1, 4):\n",
    "            #print(i,j)\n",
    "            mag[k] = (np.linalg.norm(diff[i])-np.linalg.norm(diff[j])) /1498\n",
    "            #mag[k] = mag[k] + rand.random()*noiseRange;\n",
    "            k = k+1\n",
    "    return mag\n",
    "#i want a for loop that prints 0,1 0,2 0,3 1,2,1,3 2,3 \n",
    "\n",
    "timediff = getMags()"
   ]
  },
  {
   "cell_type": "code",
   "execution_count": 112,
   "metadata": {},
   "outputs": [],
   "source": [
    "def loss(s):\n",
    "    error = np.zeros(6)\n",
    "    k = 0\n",
    "    diff = getDiffFromShrimp(s, auvPos)\n",
    "    for i in range(4):\n",
    "        for j in range(i+1,4):\n",
    "            #print(i,j)\n",
    "            error[k] = timediff[k]-(np.linalg.norm(diff[i])-np.linalg.norm(diff[j]))/1498\n",
    "            k = k+1\n",
    "    return error"
   ]
  },
  {
   "cell_type": "code",
   "execution_count": 113,
   "metadata": {},
   "outputs": [
    {
     "name": "stdout",
     "output_type": "stream",
     "text": [
      "[55.55476787  7.93044129]\n",
      "[85.86138522155116, 6.363526934278429]\n"
     ]
    },
    {
     "ename": "NameError",
     "evalue": "name 'plt' is not defined",
     "output_type": "error",
     "traceback": [
      "\u001b[0;31m---------------------------------------------------------------------------\u001b[0m",
      "\u001b[0;31mNameError\u001b[0m                                 Traceback (most recent call last)",
      "\u001b[0;32m<ipython-input-113-2ab40054b145>\u001b[0m in \u001b[0;36m<module>\u001b[0;34m()\u001b[0m\n\u001b[1;32m      5\u001b[0m \u001b[0mprint\u001b[0m\u001b[0;34m(\u001b[0m\u001b[0mres\u001b[0m\u001b[0;34m.\u001b[0m\u001b[0mx\u001b[0m\u001b[0;34m)\u001b[0m\u001b[0;34m\u001b[0m\u001b[0m\n\u001b[1;32m      6\u001b[0m \u001b[0mprint\u001b[0m\u001b[0;34m(\u001b[0m\u001b[0mshrimpPos\u001b[0m\u001b[0;34m)\u001b[0m\u001b[0;34m\u001b[0m\u001b[0m\n\u001b[0;32m----> 7\u001b[0;31m \u001b[0mplt\u001b[0m\u001b[0;34m.\u001b[0m\u001b[0mplot\u001b[0m\u001b[0;34m(\u001b[0m\u001b[0;36m0\u001b[0m\u001b[0;34m,\u001b[0m\u001b[0;36m0\u001b[0m\u001b[0;34m,\u001b[0m\u001b[0mres\u001b[0m\u001b[0;34m.\u001b[0m\u001b[0mx\u001b[0m\u001b[0;34m[\u001b[0m\u001b[0;36m0\u001b[0m\u001b[0;34m]\u001b[0m\u001b[0;34m,\u001b[0m\u001b[0mres\u001b[0m\u001b[0;34m.\u001b[0m\u001b[0mx\u001b[0m\u001b[0;34m[\u001b[0m\u001b[0;36m1\u001b[0m\u001b[0;34m]\u001b[0m\u001b[0;34m)\u001b[0m\u001b[0;34m\u001b[0m\u001b[0m\n\u001b[0m\u001b[1;32m      8\u001b[0m \u001b[0mplt\u001b[0m\u001b[0;34m.\u001b[0m\u001b[0mshow\u001b[0m\u001b[0;34m\u001b[0m\u001b[0m\n",
      "\u001b[0;31mNameError\u001b[0m: name 'plt' is not defined"
     ]
    }
   ],
   "source": [
    "from scipy.optimize import least_squares\n",
    "#shrimp location estimate\n",
    "initial_estimates=auvPos[0]\n",
    "res = least_squares(loss, initial_estimates)\n",
    "print(res.x)\n",
    "print(shrimpPos)\n",
    "plt.plot(0,0,res.x[0],res.x[1])\n",
    "plt.show"
   ]
  },
  {
   "cell_type": "code",
   "execution_count": null,
   "metadata": {},
   "outputs": [],
   "source": [
    "res.cost\n",
    "#angle\n",
    "print(np.arctan(res.x[1]/res.x[0]))\n",
    "print(np.arctan(shrimpPos[1]/shrimpPos[0]))\n"
   ]
  },
  {
   "cell_type": "code",
   "execution_count": null,
   "metadata": {},
   "outputs": [],
   "source": []
  }
 ],
 "metadata": {
  "kernelspec": {
   "display_name": "Python 3",
   "language": "python",
   "name": "python3"
  },
  "language_info": {
   "codemirror_mode": {
    "name": "ipython",
    "version": 3
   },
   "file_extension": ".py",
   "mimetype": "text/x-python",
   "name": "python",
   "nbconvert_exporter": "python",
   "pygments_lexer": "ipython3",
   "version": "3.6.4"
  }
 },
 "nbformat": 4,
 "nbformat_minor": 2
}
