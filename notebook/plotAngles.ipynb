{
 "cells": [
  {
   "cell_type": "code",
   "execution_count": 15,
   "metadata": {},
   "outputs": [],
   "source": [
    "import random as rand\n",
    "import numpy as np"
   ]
  },
  {
   "cell_type": "code",
   "execution_count": 16,
   "metadata": {},
   "outputs": [],
   "source": [
    "def createPositions(auvPos):\n",
    "    for i in range(len(auvPos)):\n",
    "        auvPos[i] = [rand.random()*auvRange, rand.random()*auvRange]\n",
    "        rand1 = rand.random()*distNoiseRange\n",
    "        rand2 = rand.random()*distNoiseRange\n",
    "        auvPosWN[i] = [(auvPos[i][0]+rand1),(auvPos[i][1]+rand2)]\n",
    "    return auvPos,auvPosWN"
   ]
  },
  {
   "cell_type": "code",
   "execution_count": 17,
   "metadata": {},
   "outputs": [],
   "source": [
    "def getDiffFromShrimp(shrimpPos, auvPos):\n",
    "    for i in range(len(auvPos)):\n",
    "        diff[i] = [shrimpPos[0] - auvPos[i][0],shrimpPos[1] - auvPos[i][1]];\n",
    "        \n",
    "    return diff"
   ]
  },
  {
   "cell_type": "code",
   "execution_count": 18,
   "metadata": {},
   "outputs": [],
   "source": [
    "def getMags():\n",
    "    mag = [[0,0],[0,0],[0,0],[0,0],[0,0],[0,0]]\n",
    "    k = 0\n",
    "    for i in range(4):\n",
    "        for j in range(i+1, 4):\n",
    "            mag[k] = (np.linalg.norm(diff[i])-np.linalg.norm(diff[j])) /1498\n",
    "            k = k+1\n",
    "    return mag"
   ]
  },
  {
   "cell_type": "code",
   "execution_count": 24,
   "metadata": {},
   "outputs": [],
   "source": [
    "def loss(s):\n",
    "    error = np.zeros(6)\n",
    "    k = 0\n",
    "    diff = getDiffFromShrimp(s, auvPos)\n",
    "    for i in range(4):\n",
    "        for j in range(i+1,4):\n",
    "            #print(i,j)\n",
    "            error[k] = timediff[k]-(np.linalg.norm(diff[i])-np.linalg.norm(diff[j]))/1498\n",
    "            k = k+1\n",
    "    return error"
   ]
  },
  {
   "cell_type": "code",
   "execution_count": null,
   "metadata": {},
   "outputs": [],
   "source": []
  },
  {
   "cell_type": "markdown",
   "metadata": {},
   "source": [
    "### Add Gaussian Noise"
   ]
  },
  {
   "cell_type": "code",
   "execution_count": null,
   "metadata": {},
   "outputs": [],
   "source": [
    "def addGauNoise((low,high), range):\n",
    "    noise = np.random.normal(0,1,100)"
   ]
  },
  {
   "cell_type": "code",
   "execution_count": 20,
   "metadata": {},
   "outputs": [],
   "source": [
    "auvRange = 20\n",
    "shrimpRange = 100\n",
    "timeNoiseRange = 0.0005\n",
    "distNoiseRange = (1/100)*auvRange\n",
    "\n",
    "auvPos = np.zeros((4,2))\n",
    "auvPosWN = np.zeros((4,2))\n",
    "\n",
    "auvPos,auvPosWN = createPositions(auvPos)\n",
    "\n",
    "shrimpPos = [rand.random()*shrimpRange, rand.random()*shrimpRange]\n",
    "\n",
    "diff = np.zeros((4,2))\n",
    "\n",
    "functions = []\n",
    "soundSpeed = 1498\n",
    "timediff = getMags()\n",
    "\n"
   ]
  },
  {
   "cell_type": "markdown",
   "metadata": {},
   "source": [
    "### Shrimp Location Estimates"
   ]
  },
  {
   "cell_type": "code",
   "execution_count": 21,
   "metadata": {},
   "outputs": [
    {
     "name": "stdout",
     "output_type": "stream",
     "text": [
      "[1503.34624048  766.98138283]\n",
      "[39.83268555416224, 95.04813668697648]\n"
     ]
    }
   ],
   "source": [
    "from scipy.optimize import least_squares\n",
    "\n",
    "#shrimp location estimate\n",
    "initial_estimates=shrimpPos\n",
    "res = least_squares(loss, initial_estimates)\n",
    "print(res.x)\n",
    "print(shrimpPos)"
   ]
  },
  {
   "cell_type": "markdown",
   "metadata": {},
   "source": [
    "### Angle Estimates"
   ]
  },
  {
   "cell_type": "code",
   "execution_count": 22,
   "metadata": {},
   "outputs": [
    {
     "name": "stdout",
     "output_type": "stream",
     "text": [
      "0.4717606189099546\n",
      "1.173951422664653\n"
     ]
    }
   ],
   "source": [
    "#angle\n",
    "print(np.arctan(res.x[1]/res.x[0]))\n",
    "print(np.arctan(shrimpPos[1]/shrimpPos[0]))"
   ]
  }
 ],
 "metadata": {
  "kernelspec": {
   "display_name": "Python 3",
   "language": "python",
   "name": "python3"
  },
  "language_info": {
   "codemirror_mode": {
    "name": "ipython",
    "version": 3
   },
   "file_extension": ".py",
   "mimetype": "text/x-python",
   "name": "python",
   "nbconvert_exporter": "python",
   "pygments_lexer": "ipython3",
   "version": "3.6.4"
  }
 },
 "nbformat": 4,
 "nbformat_minor": 2
}
