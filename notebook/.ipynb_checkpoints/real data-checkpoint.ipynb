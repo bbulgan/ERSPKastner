{
 "cells": [
  {
   "cell_type": "code",
   "execution_count": 1,
   "metadata": {},
   "outputs": [],
   "source": [
    "import pandas as pd\n",
    "import numpy as np\n",
    "import matplotlib.pyplot as plt"
   ]
  },
  {
   "cell_type": "code",
   "execution_count": 3,
   "metadata": {},
   "outputs": [
    {
     "name": "stdout",
     "output_type": "stream",
     "text": [
      "236880 238080\n"
     ]
    }
   ],
   "source": [
    "init = pd.read_csv('../locationData/time_wav5.csv', header=None).T\n",
    "u7 = pd.read_csv('../locationData/unit7.csv')\n",
    "u8 = pd.read_csv('../locationData/unit8.csv')\n",
    "u13 = pd.read_csv('../locationData/unit13.csv')\n",
    "u20 = pd.read_csv('../locationData/unit8.csv')\n",
    "\n",
    "startTime = init.iloc[1][0]\n",
    "endTime = init.iloc[1][1]\n",
    "print(startTime, endTime)"
   ]
  },
  {
   "cell_type": "code",
   "execution_count": 4,
   "metadata": {},
   "outputs": [],
   "source": [
    "u7['GPS_time']=u7['GPS_time']-startTime\n",
    "u8['GPS_time']=u8['GPS_time']-startTime\n",
    "u13['GPS_time']=u13['GPS_time']-startTime\n",
    "u20['GPS_time']=u20['GPS_time']-startTime\n"
   ]
  },
  {
   "cell_type": "code",
   "execution_count": 5,
   "metadata": {},
   "outputs": [
    {
     "ename": "FileNotFoundError",
     "evalue": "File b'Unit7PeakTimes.csv' does not exist",
     "output_type": "error",
     "traceback": [
      "\u001b[0;31m---------------------------------------------------------------------------\u001b[0m",
      "\u001b[0;31mFileNotFoundError\u001b[0m                         Traceback (most recent call last)",
      "\u001b[0;32m<ipython-input-5-4109f6e1bb14>\u001b[0m in \u001b[0;36m<module>\u001b[0;34m()\u001b[0m\n\u001b[1;32m      2\u001b[0m \u001b[0;34m\u001b[0m\u001b[0m\n\u001b[1;32m      3\u001b[0m \u001b[0;34m\u001b[0m\u001b[0m\n\u001b[0;32m----> 4\u001b[0;31m \u001b[0mu7snaps\u001b[0m \u001b[0;34m=\u001b[0m \u001b[0mpd\u001b[0m\u001b[0;34m.\u001b[0m\u001b[0mread_csv\u001b[0m\u001b[0;34m(\u001b[0m\u001b[0;34m'Unit7PeakTimes.csv'\u001b[0m\u001b[0;34m,\u001b[0m \u001b[0mheader\u001b[0m\u001b[0;34m=\u001b[0m\u001b[0;32mNone\u001b[0m\u001b[0;34m,\u001b[0m \u001b[0mnames\u001b[0m \u001b[0;34m=\u001b[0m \u001b[0;34m[\u001b[0m\u001b[0;34m\"dirtime\"\u001b[0m\u001b[0;34m,\u001b[0m \u001b[0;34m\"reftime\"\u001b[0m\u001b[0;34m]\u001b[0m\u001b[0;34m)\u001b[0m\u001b[0;34m\u001b[0m\u001b[0m\n\u001b[0m\u001b[1;32m      5\u001b[0m \u001b[0;34m\u001b[0m\u001b[0m\n\u001b[1;32m      6\u001b[0m \u001b[0;34m\u001b[0m\u001b[0m\n",
      "\u001b[0;32m/anaconda3/lib/python3.6/site-packages/pandas/io/parsers.py\u001b[0m in \u001b[0;36mparser_f\u001b[0;34m(filepath_or_buffer, sep, delimiter, header, names, index_col, usecols, squeeze, prefix, mangle_dupe_cols, dtype, engine, converters, true_values, false_values, skipinitialspace, skiprows, nrows, na_values, keep_default_na, na_filter, verbose, skip_blank_lines, parse_dates, infer_datetime_format, keep_date_col, date_parser, dayfirst, iterator, chunksize, compression, thousands, decimal, lineterminator, quotechar, quoting, escapechar, comment, encoding, dialect, tupleize_cols, error_bad_lines, warn_bad_lines, skipfooter, skip_footer, doublequote, delim_whitespace, as_recarray, compact_ints, use_unsigned, low_memory, buffer_lines, memory_map, float_precision)\u001b[0m\n\u001b[1;32m    707\u001b[0m                     skip_blank_lines=skip_blank_lines)\n\u001b[1;32m    708\u001b[0m \u001b[0;34m\u001b[0m\u001b[0m\n\u001b[0;32m--> 709\u001b[0;31m         \u001b[0;32mreturn\u001b[0m \u001b[0m_read\u001b[0m\u001b[0;34m(\u001b[0m\u001b[0mfilepath_or_buffer\u001b[0m\u001b[0;34m,\u001b[0m \u001b[0mkwds\u001b[0m\u001b[0;34m)\u001b[0m\u001b[0;34m\u001b[0m\u001b[0m\n\u001b[0m\u001b[1;32m    710\u001b[0m \u001b[0;34m\u001b[0m\u001b[0m\n\u001b[1;32m    711\u001b[0m     \u001b[0mparser_f\u001b[0m\u001b[0;34m.\u001b[0m\u001b[0m__name__\u001b[0m \u001b[0;34m=\u001b[0m \u001b[0mname\u001b[0m\u001b[0;34m\u001b[0m\u001b[0m\n",
      "\u001b[0;32m/anaconda3/lib/python3.6/site-packages/pandas/io/parsers.py\u001b[0m in \u001b[0;36m_read\u001b[0;34m(filepath_or_buffer, kwds)\u001b[0m\n\u001b[1;32m    447\u001b[0m \u001b[0;34m\u001b[0m\u001b[0m\n\u001b[1;32m    448\u001b[0m     \u001b[0;31m# Create the parser.\u001b[0m\u001b[0;34m\u001b[0m\u001b[0;34m\u001b[0m\u001b[0m\n\u001b[0;32m--> 449\u001b[0;31m     \u001b[0mparser\u001b[0m \u001b[0;34m=\u001b[0m \u001b[0mTextFileReader\u001b[0m\u001b[0;34m(\u001b[0m\u001b[0mfilepath_or_buffer\u001b[0m\u001b[0;34m,\u001b[0m \u001b[0;34m**\u001b[0m\u001b[0mkwds\u001b[0m\u001b[0;34m)\u001b[0m\u001b[0;34m\u001b[0m\u001b[0m\n\u001b[0m\u001b[1;32m    450\u001b[0m \u001b[0;34m\u001b[0m\u001b[0m\n\u001b[1;32m    451\u001b[0m     \u001b[0;32mif\u001b[0m \u001b[0mchunksize\u001b[0m \u001b[0;32mor\u001b[0m \u001b[0miterator\u001b[0m\u001b[0;34m:\u001b[0m\u001b[0;34m\u001b[0m\u001b[0m\n",
      "\u001b[0;32m/anaconda3/lib/python3.6/site-packages/pandas/io/parsers.py\u001b[0m in \u001b[0;36m__init__\u001b[0;34m(self, f, engine, **kwds)\u001b[0m\n\u001b[1;32m    816\u001b[0m             \u001b[0mself\u001b[0m\u001b[0;34m.\u001b[0m\u001b[0moptions\u001b[0m\u001b[0;34m[\u001b[0m\u001b[0;34m'has_index_names'\u001b[0m\u001b[0;34m]\u001b[0m \u001b[0;34m=\u001b[0m \u001b[0mkwds\u001b[0m\u001b[0;34m[\u001b[0m\u001b[0;34m'has_index_names'\u001b[0m\u001b[0;34m]\u001b[0m\u001b[0;34m\u001b[0m\u001b[0m\n\u001b[1;32m    817\u001b[0m \u001b[0;34m\u001b[0m\u001b[0m\n\u001b[0;32m--> 818\u001b[0;31m         \u001b[0mself\u001b[0m\u001b[0;34m.\u001b[0m\u001b[0m_make_engine\u001b[0m\u001b[0;34m(\u001b[0m\u001b[0mself\u001b[0m\u001b[0;34m.\u001b[0m\u001b[0mengine\u001b[0m\u001b[0;34m)\u001b[0m\u001b[0;34m\u001b[0m\u001b[0m\n\u001b[0m\u001b[1;32m    819\u001b[0m \u001b[0;34m\u001b[0m\u001b[0m\n\u001b[1;32m    820\u001b[0m     \u001b[0;32mdef\u001b[0m \u001b[0mclose\u001b[0m\u001b[0;34m(\u001b[0m\u001b[0mself\u001b[0m\u001b[0;34m)\u001b[0m\u001b[0;34m:\u001b[0m\u001b[0;34m\u001b[0m\u001b[0m\n",
      "\u001b[0;32m/anaconda3/lib/python3.6/site-packages/pandas/io/parsers.py\u001b[0m in \u001b[0;36m_make_engine\u001b[0;34m(self, engine)\u001b[0m\n\u001b[1;32m   1047\u001b[0m     \u001b[0;32mdef\u001b[0m \u001b[0m_make_engine\u001b[0m\u001b[0;34m(\u001b[0m\u001b[0mself\u001b[0m\u001b[0;34m,\u001b[0m \u001b[0mengine\u001b[0m\u001b[0;34m=\u001b[0m\u001b[0;34m'c'\u001b[0m\u001b[0;34m)\u001b[0m\u001b[0;34m:\u001b[0m\u001b[0;34m\u001b[0m\u001b[0m\n\u001b[1;32m   1048\u001b[0m         \u001b[0;32mif\u001b[0m \u001b[0mengine\u001b[0m \u001b[0;34m==\u001b[0m \u001b[0;34m'c'\u001b[0m\u001b[0;34m:\u001b[0m\u001b[0;34m\u001b[0m\u001b[0m\n\u001b[0;32m-> 1049\u001b[0;31m             \u001b[0mself\u001b[0m\u001b[0;34m.\u001b[0m\u001b[0m_engine\u001b[0m \u001b[0;34m=\u001b[0m \u001b[0mCParserWrapper\u001b[0m\u001b[0;34m(\u001b[0m\u001b[0mself\u001b[0m\u001b[0;34m.\u001b[0m\u001b[0mf\u001b[0m\u001b[0;34m,\u001b[0m \u001b[0;34m**\u001b[0m\u001b[0mself\u001b[0m\u001b[0;34m.\u001b[0m\u001b[0moptions\u001b[0m\u001b[0;34m)\u001b[0m\u001b[0;34m\u001b[0m\u001b[0m\n\u001b[0m\u001b[1;32m   1050\u001b[0m         \u001b[0;32melse\u001b[0m\u001b[0;34m:\u001b[0m\u001b[0;34m\u001b[0m\u001b[0m\n\u001b[1;32m   1051\u001b[0m             \u001b[0;32mif\u001b[0m \u001b[0mengine\u001b[0m \u001b[0;34m==\u001b[0m \u001b[0;34m'python'\u001b[0m\u001b[0;34m:\u001b[0m\u001b[0;34m\u001b[0m\u001b[0m\n",
      "\u001b[0;32m/anaconda3/lib/python3.6/site-packages/pandas/io/parsers.py\u001b[0m in \u001b[0;36m__init__\u001b[0;34m(self, src, **kwds)\u001b[0m\n\u001b[1;32m   1693\u001b[0m         \u001b[0mkwds\u001b[0m\u001b[0;34m[\u001b[0m\u001b[0;34m'allow_leading_cols'\u001b[0m\u001b[0;34m]\u001b[0m \u001b[0;34m=\u001b[0m \u001b[0mself\u001b[0m\u001b[0;34m.\u001b[0m\u001b[0mindex_col\u001b[0m \u001b[0;32mis\u001b[0m \u001b[0;32mnot\u001b[0m \u001b[0;32mFalse\u001b[0m\u001b[0;34m\u001b[0m\u001b[0m\n\u001b[1;32m   1694\u001b[0m \u001b[0;34m\u001b[0m\u001b[0m\n\u001b[0;32m-> 1695\u001b[0;31m         \u001b[0mself\u001b[0m\u001b[0;34m.\u001b[0m\u001b[0m_reader\u001b[0m \u001b[0;34m=\u001b[0m \u001b[0mparsers\u001b[0m\u001b[0;34m.\u001b[0m\u001b[0mTextReader\u001b[0m\u001b[0;34m(\u001b[0m\u001b[0msrc\u001b[0m\u001b[0;34m,\u001b[0m \u001b[0;34m**\u001b[0m\u001b[0mkwds\u001b[0m\u001b[0;34m)\u001b[0m\u001b[0;34m\u001b[0m\u001b[0m\n\u001b[0m\u001b[1;32m   1696\u001b[0m \u001b[0;34m\u001b[0m\u001b[0m\n\u001b[1;32m   1697\u001b[0m         \u001b[0;31m# XXX\u001b[0m\u001b[0;34m\u001b[0m\u001b[0;34m\u001b[0m\u001b[0m\n",
      "\u001b[0;32mpandas/_libs/parsers.pyx\u001b[0m in \u001b[0;36mpandas._libs.parsers.TextReader.__cinit__\u001b[0;34m()\u001b[0m\n",
      "\u001b[0;32mpandas/_libs/parsers.pyx\u001b[0m in \u001b[0;36mpandas._libs.parsers.TextReader._setup_parser_source\u001b[0;34m()\u001b[0m\n",
      "\u001b[0;31mFileNotFoundError\u001b[0m: File b'Unit7PeakTimes.csv' does not exist"
     ]
    }
   ],
   "source": [
    "sampFreq = 65501\n",
    "\n",
    "\n",
    "u7snaps = pd.read_csv('Unit7PeakTimes.csv', header=None, names = [\"dirtime\", \"reftime\"])\n",
    "\n",
    "\n",
    "u8snaps = pd.read_csv('Unit8PeakTimes.csv', header=None, names = [\"dirtime\", \"reftime\"])\n",
    "\n",
    "\n",
    "u13snaps = pd.read_csv('Unit13PeakTimes.csv', header=None, names = [\"dirtime\", \"reftime\"])\n",
    "\n",
    "\n",
    "u20snaps = pd.read_csv('Unit20PeakTimes.csv', header=None, names = [\"dirtime\", \"reftime\"])\n"
   ]
  },
  {
   "cell_type": "code",
   "execution_count": null,
   "metadata": {},
   "outputs": [],
   "source": [
    "from scipy.interpolate import interp1d\n",
    "import matplotlib.pyplot as plt\n",
    "time = u7['GPS_time']\n",
    "xpos = u7['x']\n",
    "ypos = u7['y']"
   ]
  },
  {
   "cell_type": "code",
   "execution_count": null,
   "metadata": {},
   "outputs": [],
   "source": [
    "tnew = np.linspace(0, 1200, num=1201)\n",
    "xinter = interp1d(time, xpos, kind='nearest')\n",
    "yinter = interp1d(time, ypos, kind='nearest')"
   ]
  },
  {
   "cell_type": "code",
   "execution_count": null,
   "metadata": {},
   "outputs": [],
   "source": [
    "#u7pos is an interpolation from 0 to 1000 \n",
    "#u7test"
   ]
  },
  {
   "cell_type": "code",
   "execution_count": null,
   "metadata": {},
   "outputs": [],
   "source": [
    "u7 = u7[u7['GPS_time'] <= 1100]  \n",
    "u8 = u8[u8['GPS_time'] <= 1100]  \n",
    "u13 = u13[u13['GPS_time'] <= 1100]  \n",
    "u20 = u20[u20['GPS_time'] <= 1100]  \n"
   ]
  },
  {
   "cell_type": "code",
   "execution_count": null,
   "metadata": {},
   "outputs": [],
   "source": [
    "tnew = np.linspace(0, 1000, num=1001)\n",
    "u7pos = pd.DataFrame({'time':tnew, 'xpos':interp1d(u7['GPS_time'], u7['x'], kind='nearest')(tnew),\n",
    "                      'ypos':interp1d(u7['GPS_time'], u7['y'], kind='nearest')(tnew)})\n",
    "\n",
    "u8pos = pd.DataFrame({'time':tnew, 'xpos':interp1d(u8['GPS_time'], u8['x'], kind='nearest')(tnew),\n",
    "                      'ypos':interp1d(u8['GPS_time'], u8['y'], kind='nearest')(tnew)})\n",
    "\n",
    "u13pos = pd.DataFrame({'time':tnew, 'xpos':interp1d(u13['GPS_time'], u13['x'], kind='nearest')(tnew),\n",
    "                      'ypos':interp1d(u13['GPS_time'], u13['y'], kind='nearest')(tnew)})\n",
    "\n",
    "u20pos = pd.DataFrame({'time':tnew, 'xpos':interp1d(u20['GPS_time'], u20['x'], kind='nearest')(tnew),\n",
    "                      'ypos':interp1d(u20['GPS_time'], u20['y'], kind='nearest')(tnew)})"
   ]
  },
  {
   "cell_type": "code",
   "execution_count": null,
   "metadata": {},
   "outputs": [],
   "source": [
    "u7snaps['dirtimer'] = u7snaps['dirtime'].round()\n",
    "u7snaps = u7snaps.loc[:, ['dirtime', 'dirtimer']];\n",
    "u7postime = u7pos.iloc[u7snaps[u7snaps['dirtimer'] < 1000]['dirtimer']]\n",
    "\n",
    "u8snaps['dirtimer'] = u8snaps['dirtime'].round()\n",
    "u8snaps = u8snaps.loc[:, ['dirtime', 'dirtimer']];\n",
    "u8postime = u8pos.iloc[u8snaps[u8snaps['dirtimer'] < 1000]['dirtimer']]\n",
    "\n",
    "u13snaps['dirtimer'] = u13snaps['dirtime'].round()\n",
    "u13snaps = u13snaps.loc[:, ['dirtime', 'dirtimer']];\n",
    "u13postime = u13pos.iloc[u13snaps[u13snaps['dirtimer'] < 1000]['dirtimer']]\n",
    "\n",
    "u20snaps['dirtimer'] = u20snaps['dirtime'].round()\n",
    "u20snaps = u20snaps.loc[:, ['dirtime', 'dirtimer']];\n",
    "u20postime = u20pos.iloc[u20snaps[u20snaps['dirtimer'] < 1000]['dirtimer']]"
   ]
  },
  {
   "cell_type": "code",
   "execution_count": null,
   "metadata": {},
   "outputs": [],
   "source": [
    "direct = pd.DataFrame()\n",
    "\n",
    "direct['u7dir'] = u7snaps[u7snaps['dirtimer'] < 1000]['dirtime']\n",
    "direct['u8dir'] = u8snaps[u8snaps['dirtimer'] < 1000]['dirtime']\n",
    "direct['u13dir'] = u13snaps[u13snaps['dirtimer'] < 1000]['dirtime']\n",
    "direct['u20dir'] = u20snaps[u20snaps['dirtimer'] < 1000]['dirtime']\n",
    "\n",
    "direct\n",
    "dirdiff = pd.DataFrame()\n",
    "dirdiff['7-8'] = direct['u7dir']-direct['u8dir']\n",
    "dirdiff['7-13'] = direct['u7dir']-direct['u13dir']\n",
    "dirdiff['7-20'] = direct['u7dir']-direct['u20dir']\n",
    "dirdiff['8-13'] = direct['u8dir']-direct['u13dir']\n",
    "dirdiff['8-20'] = direct['u8dir']-direct['u20dir']\n",
    "dirdiff['13-20'] = direct['u13dir']-direct['u20dir']\n",
    "\n",
    "dirdiff.insert(0, \"time\", u7snaps['dirtimer'])\n"
   ]
  },
  {
   "cell_type": "code",
   "execution_count": null,
   "metadata": {},
   "outputs": [],
   "source": [
    "def getPosAtTime(s):\n",
    "    u7p = [u7postime.loc[u7postime['time']==s]['xpos'],u7postime.loc[u7postime['time']==s]['ypos']]\n",
    "    u8p = [u8postime.loc[u8postime['time']==s]['xpos'],u8postime.loc[u8postime['time']==s]['ypos']]\n",
    "    u13p = [u13postime.loc[u13postime['time']==s]['xpos'],u13postime.loc[u13postime['time']==s]['ypos']]\n",
    "    u20p = [u20postime.loc[u20postime['time']==s]['xpos'],u20postime.loc[u20postime['time']==s]['ypos']]\n",
    "    return [u7p, u8p, u13p, u20p]\n",
    "\n",
    "#getTimeDiff at signal specified at second s\n",
    "def getTimeDiffAtTime(s):\n",
    "    return dirdiff.loc[dirdiff['time']==s].values[0][1:7]\n",
    "\n"
   ]
  },
  {
   "cell_type": "code",
   "execution_count": null,
   "metadata": {},
   "outputs": [],
   "source": [
    "auvPos = getPosAtTime(6)\n",
    "timediff = getTimeDiffAtTime(6)\n",
    "\n"
   ]
  },
  {
   "cell_type": "code",
   "execution_count": null,
   "metadata": {},
   "outputs": [],
   "source": [
    "def getDiffFromShrimp(shrimpPos, auvPos):\n",
    "    diff = [[0,0],[0,0],[0,0],[0,0]]\n",
    "    for i in range(len(auvPos)):\n",
    "        diff[i] = [float(shrimpPos[0] - auvPos[i][0]),float(shrimpPos[1] - auvPos[i][1])];\n",
    "        \n",
    "    return diff\n",
    "\n",
    "\n",
    "def loss(s):\n",
    "    error = np.zeros(6)\n",
    "    k = 0\n",
    "    diff = getDiffFromShrimp(s, auvPos)\n",
    "    for i in range(4):\n",
    "        for j in range(i+1,4):\n",
    "            #print(i,j)\n",
    "            error[k] = timediff[k]-(np.linalg.norm(diff[i])-np.linalg.norm(diff[j]))\n",
    "            k = k+1\n",
    "    return error\n",
    "\n",
    "from scipy.optimize import least_squares\n",
    "#shrimp location estimate\n",
    "initial_estimates=[30,30]\n",
    "res = least_squares(loss, initial_estimates)\n",
    "print(res.x[1]/res.x[0])"
   ]
  },
  {
   "cell_type": "code",
   "execution_count": null,
   "metadata": {},
   "outputs": [],
   "source": [
    "float(diff[1][0])"
   ]
  },
  {
   "cell_type": "code",
   "execution_count": null,
   "metadata": {},
   "outputs": [],
   "source": []
  }
 ],
 "metadata": {
  "kernelspec": {
   "display_name": "Python 3",
   "language": "python",
   "name": "python3"
  },
  "language_info": {
   "codemirror_mode": {
    "name": "ipython",
    "version": 3
   },
   "file_extension": ".py",
   "mimetype": "text/x-python",
   "name": "python",
   "nbconvert_exporter": "python",
   "pygments_lexer": "ipython3",
   "version": "3.6.4"
  }
 },
 "nbformat": 4,
 "nbformat_minor": 2
}
