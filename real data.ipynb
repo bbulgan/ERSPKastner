{
 "cells": [
  {
   "cell_type": "code",
   "execution_count": 2,
   "metadata": {},
   "outputs": [],
   "source": [
    "import pandas as pd\n",
    "import numpy as np\n",
    "import matplotlib.pyplot as plt"
   ]
  },
  {
   "cell_type": "code",
   "execution_count": 3,
   "metadata": {},
   "outputs": [
    {
     "name": "stdout",
     "output_type": "stream",
     "text": [
      "236880 238080\n"
     ]
    }
   ],
   "source": [
    "init = pd.read_csv('locationData/time_wav5.csv', header=None).T\n",
    "u7 = pd.read_csv('locationData/unit7.csv')\n",
    "u8 = pd.read_csv('locationData/unit8.csv')\n",
    "u13 = pd.read_csv('locationData/unit13.csv')\n",
    "u20 = pd.read_csv('locationData/unit20.csv')\n",
    "\n",
    "startTime = init.iloc[1][0]\n",
    "endTime = init.iloc[1][1]\n",
    "print(startTime, endTime)"
   ]
  },
  {
   "cell_type": "code",
   "execution_count": 4,
   "metadata": {},
   "outputs": [],
   "source": [
    "u7['GPS_time']=u7['GPS_time']-startTime\n",
    "u8['GPS_time']=u8['GPS_time']-startTime\n",
    "u13['GPS_time']=u13['GPS_time']-startTime\n",
    "u20['GPS_time']=u20['GPS_time']-startTime\n"
   ]
  },
  {
   "cell_type": "code",
   "execution_count": 5,
   "metadata": {},
   "outputs": [],
   "source": [
    "sampFreq = 65501\n",
    "u7snaps = pd.read_csv('PeakTimeLocationData/Unit7PeakTimes.csv', header=None, names = [\"dirtime\", \"reftime\"])\n",
    "u8snaps = pd.read_csv('PeakTimeLocationData/Unit8PeakTimes.csv', header=None, names = [\"dirtime\", \"reftime\"])\n",
    "u13snaps = pd.read_csv('PeakTimeLocationData/Unit13PeakTimes.csv', header=None, names = [\"dirtime\", \"reftime\"])\n",
    "u20snaps = pd.read_csv('PeakTimeLocationData/Unit20PeakTimes.csv', header=None, names = [\"dirtime\", \"reftime\"])\n",
    "\n"
   ]
  },
  {
   "cell_type": "code",
   "execution_count": 6,
   "metadata": {},
   "outputs": [],
   "source": [
    "from scipy.interpolate import interp1d\n",
    "import matplotlib.pyplot as plt\n",
    "time = u7['GPS_time']\n",
    "xpos = u7['x']\n",
    "ypos = u7['y']"
   ]
  },
  {
   "cell_type": "code",
   "execution_count": 7,
   "metadata": {},
   "outputs": [],
   "source": [
    "tnew = np.linspace(0, 1200, num=1201)\n",
    "xinter = interp1d(time, xpos, kind='nearest')\n",
    "yinter = interp1d(time, ypos, kind='nearest')"
   ]
  },
  {
   "cell_type": "markdown",
   "metadata": {},
   "source": [
    "### u7pos is an interpolation from 0 to 1000 \n",
    "### u7test"
   ]
  },
  {
   "cell_type": "code",
   "execution_count": 8,
   "metadata": {},
   "outputs": [],
   "source": [
    "u7 = u7[u7['GPS_time'] <= 1100]  \n",
    "u8 = u8[u8['GPS_time'] <= 1100]  \n",
    "u13 = u13[u13['GPS_time'] <= 1100]  \n",
    "u20 = u20[u20['GPS_time'] <= 1100]  \n"
   ]
  },
  {
   "cell_type": "code",
   "execution_count": null,
   "metadata": {},
   "outputs": [],
   "source": []
  },
  {
   "cell_type": "code",
   "execution_count": 9,
   "metadata": {},
   "outputs": [],
   "source": [
    "tnew = np.linspace(20, 1000, num=981)\n",
    "u7pos = pd.DataFrame({'time':tnew, 'xpos':interp1d(u7['GPS_time'], u7['x'], kind='nearest')(tnew),\n",
    "                      'ypos':interp1d(u7['GPS_time'], u7['y'], kind='nearest')(tnew)})\n",
    "\n",
    "u8pos = pd.DataFrame({'time':tnew, 'xpos':interp1d(u8['GPS_time'], u8['x'], kind='nearest')(tnew),\n",
    "                      'ypos':interp1d(u8['GPS_time'], u8['y'], kind='nearest')(tnew)})\n",
    "\n",
    "u13pos = pd.DataFrame({'time':tnew, 'xpos':interp1d(u13['GPS_time'], u13['x'], kind='nearest')(tnew),\n",
    "                      'ypos':interp1d(u13['GPS_time'], u13['y'], kind='nearest')(tnew)})\n",
    "\n",
    "u20pos = pd.DataFrame({'time':tnew, 'xpos':interp1d(u20['GPS_time'], u20['x'], kind='nearest')(tnew),\n",
    "                      'ypos':interp1d(u20['GPS_time'], u20['y'], kind='nearest')(tnew)})"
   ]
  },
  {
   "cell_type": "code",
   "execution_count": 10,
   "metadata": {},
   "outputs": [
    {
     "data": {
      "image/png": "[encoded data removed]",
      "text/plain": [
       "<matplotlib.figure.Figure at 0x7f6a61482358>"
      ]
     },
     "metadata": {},
     "output_type": "display_data"
    }
   ],
   "source": [
    "plt.plot(u7pos['xpos'], u7pos['ypos'])\n",
    "plt.show();"
   ]
  },
  {
   "cell_type": "code",
   "execution_count": null,
   "metadata": {},
   "outputs": [],
   "source": []
  },
  {
   "cell_type": "code",
   "execution_count": 11,
   "metadata": {},
   "outputs": [],
   "source": [
    "u7snaps['dirtimer'] = u7snaps['dirtime'].round()\n",
    "u7snaps = u7snaps.loc[:, ['dirtime', 'dirtimer']];\n",
    "\n",
    "u7snaps=u7snaps[u7snaps['dirtime'] >= 0]\n",
    "u8snaps=u8snaps[u8snaps['dirtime'] >= 0]\n",
    "u13snaps=u13snaps[u13snaps['dirtime'] >= 0]\n",
    "u20naps=u20snaps[u20snaps['dirtime'] >= 0]\n",
    "\n",
    "p = u7snaps[u7snaps['dirtimer'] < 1000]['dirtimer']\n",
    "\n"
   ]
  },
  {
   "cell_type": "code",
   "execution_count": null,
   "metadata": {},
   "outputs": [],
   "source": []
  },
  {
   "cell_type": "code",
   "execution_count": 12,
   "metadata": {},
   "outputs": [],
   "source": [
    "u7snaps['dirtimer'] = u7snaps['dirtime'].round()\n",
    "u7snaps = u7snaps.loc[:, ['dirtime', 'dirtimer']];\n",
    "u7postime = u7pos.loc[u7pos['time'].isin(p)]\n",
    "u7postime = u7postime.drop_duplicates()\n",
    "\n",
    "u8snaps['dirtimer'] = u8snaps['dirtime'].round()\n",
    "u8snaps = u8snaps.loc[:, ['dirtime', 'dirtimer']];\n",
    "u8postime = u8pos.loc[u8pos['time'].isin(p)]\n",
    "u8postime = u8postime.drop_duplicates()\n",
    "\n",
    "u13snaps['dirtimer'] = u13snaps['dirtime'].round()\n",
    "u13snaps = u13snaps.loc[:, ['dirtime', 'dirtimer']];\n",
    "u13postime = u13pos.loc[u13pos['time'].isin(p)]\n",
    "u13postime = u13postime.drop_duplicates()\n",
    "\n",
    "u20snaps['dirtimer'] = u20snaps['dirtime'].round()\n",
    "u20snaps = u20snaps.loc[:, ['dirtime', 'dirtimer']];\n",
    "u20postime = u20pos.loc[u20pos['time'].isin(p)]\n",
    "u20postime = u20postime.drop_duplicates()"
   ]
  },
  {
   "cell_type": "code",
   "execution_count": null,
   "metadata": {},
   "outputs": [],
   "source": []
  },
  {
   "cell_type": "code",
   "execution_count": 13,
   "metadata": {},
   "outputs": [],
   "source": [
    "direct = pd.DataFrame()\n",
    "\n",
    "direct['u7dir'] = u7snaps[u7snaps['dirtimer'] < 1000]['dirtime']\n",
    "direct['u8dir'] = u8snaps[u8snaps['dirtimer'] < 1000]['dirtime']\n",
    "direct['u13dir'] = u13snaps[u13snaps['dirtimer'] < 1000]['dirtime']\n",
    "direct['u20dir'] = u20snaps[u20snaps['dirtimer'] < 1000]['dirtime']\n",
    "\n",
    "dirdiff = pd.DataFrame()\n",
    "dirdiff['7-8'] = direct['u7dir']-direct['u8dir']\n",
    "dirdiff['7-13'] = direct['u7dir']-direct['u13dir']\n",
    "dirdiff['7-20'] = direct['u7dir']-direct['u20dir']\n",
    "dirdiff['8-13'] = direct['u8dir']-direct['u13dir']\n",
    "dirdiff['8-20'] = direct['u8dir']-direct['u20dir']\n",
    "dirdiff['13-20'] = direct['u13dir']-direct['u20dir']\n",
    "\n",
    "dirdiff.insert(0, \"time\", u7snaps['dirtimer'])\n"
   ]
  },
  {
   "cell_type": "code",
   "execution_count": null,
   "metadata": {},
   "outputs": [],
   "source": []
  },
  {
   "cell_type": "code",
   "execution_count": 14,
   "metadata": {},
   "outputs": [],
   "source": [
    "def getPosAtTime(t):\n",
    "    u7p = u7postime.loc[u7postime['time']==t][['xpos','ypos']]\n",
    "    u8p = u8postime.loc[u8postime['time']==t][['xpos','ypos']]\n",
    "    u13p = u13postime.loc[u13postime['time']==t][['xpos','ypos']]\n",
    "    u20p = u20postime.loc[u20postime['time']==t][['xpos','ypos']]\n",
    "    return [u7p, u8p, u13p, u20p]\n",
    "\n",
    "#getTimeDiff at signal specified at second s\n",
    "def getTimeDiffAtTime(t):\n",
    "    return dirdiff.loc[dirdiff['time']==t].values[0][1:7]\n"
   ]
  },
  {
   "cell_type": "code",
   "execution_count": 15,
   "metadata": {},
   "outputs": [
    {
     "data": {
      "text/plain": [
       "[        xpos        ypos\n",
       " 6 -87.283773  725.824537,         xpos        ypos\n",
       " 6 -93.342424  684.416364,        xpos        ypos\n",
       " 6 -9.990024  673.012236,         xpos        ypos\n",
       " 6 -40.470198  720.841834]"
      ]
     },
     "execution_count": 15,
     "metadata": {},
     "output_type": "execute_result"
    }
   ],
   "source": [
    "\n",
    "getPosAtTime(26)"
   ]
  },
  {
   "cell_type": "code",
   "execution_count": 16,
   "metadata": {},
   "outputs": [
    {
     "data": {
      "text/plain": [
       "[         xpos        ypos\n",
       " 69 -91.687425  731.059533,          xpos        ypos\n",
       " 69 -96.753014  687.882339,          xpos        ypos\n",
       " 69 -12.148667  675.183271,          xpos        ypos\n",
       " 69 -43.986596  722.824241]"
      ]
     },
     "execution_count": 16,
     "metadata": {},
     "output_type": "execute_result"
    }
   ],
   "source": [
    "getPosAtTime(89)"
   ]
  },
  {
   "cell_type": "code",
   "execution_count": 17,
   "metadata": {},
   "outputs": [],
   "source": [
    "def getDiffFromShrimp(shrimpPos):\n",
    "    diff = [[0,0],[0,0],[0,0],[0,0]]\n",
    "    for i in range(len(auvPos)):\n",
    "        #print(shrimpPos[0])\n",
    "        #print(auvPos[i][0])\n",
    "        #print(shrimpPos[0])\n",
    "        diff[i] = [float(shrimpPos[0] - auvPos[i]['xpos']), float(shrimpPos[1] - auvPos[i]['ypos'])];\n",
    "    return diff\n",
    "\n",
    "\n",
    "def loss(s):\n",
    "    error = np.zeros(6)\n",
    "    k = 0\n",
    "    diff = getDiffFromShrimp(s)\n",
    "    for i in range(4):\n",
    "        for j in range(i+1,4):\n",
    "            #print(i,j)\n",
    "            #print(s)\n",
    "            error[k] = timediff[k]-(np.linalg.norm(diff[i])-np.linalg.norm(diff[j]))\n",
    "            \n",
    "            k = k+1\n",
    "    return error\n"
   ]
  },
  {
   "cell_type": "code",
   "execution_count": 18,
   "metadata": {},
   "outputs": [
    {
     "data": {
      "text/plain": [
       "[-12.716227070000002, -625.824537]"
      ]
     },
     "execution_count": 18,
     "metadata": {},
     "output_type": "execute_result"
    }
   ],
   "source": [
    "auvPos = getPosAtTime(26)\n",
    "auvPos[0]\n",
    "\n",
    "a = getDiffFromShrimp([-100, 100])\n",
    "a[0]"
   ]
  },
  {
   "cell_type": "code",
   "execution_count": 19,
   "metadata": {},
   "outputs": [
    {
     "data": {
      "text/html": [
       "<div>\n",
       "<style scoped>\n",
       "    .dataframe tbody tr th:only-of-type {\n",
       "        vertical-align: middle;\n",
       "    }\n",
       "\n",
       "    .dataframe tbody tr th {\n",
       "        vertical-align: top;\n",
       "    }\n",
       "\n",
       "    .dataframe thead th {\n",
       "        text-align: right;\n",
       "    }\n",
       "</style>\n",
       "<table border=\"1\" class=\"dataframe\">\n",
       "  <thead>\n",
       "    <tr style=\"text-align: right;\">\n",
       "      <th></th>\n",
       "      <th>xpos</th>\n",
       "      <th>ypos</th>\n",
       "    </tr>\n",
       "  </thead>\n",
       "  <tbody>\n",
       "    <tr>\n",
       "      <th>6</th>\n",
       "      <td>-87.283773</td>\n",
       "      <td>725.824537</td>\n",
       "    </tr>\n",
       "  </tbody>\n",
       "</table>\n",
       "</div>"
      ],
      "text/plain": [
       "        xpos        ypos\n",
       "6 -87.283773  725.824537"
      ]
     },
     "execution_count": 19,
     "metadata": {},
     "output_type": "execute_result"
    }
   ],
   "source": [
    "auvPos[0]"
   ]
  },
  {
   "cell_type": "code",
   "execution_count": null,
   "metadata": {},
   "outputs": [],
   "source": []
  },
  {
   "cell_type": "code",
   "execution_count": 20,
   "metadata": {},
   "outputs": [
    {
     "data": {
      "text/plain": [
       "array([-0.01935848, -0.06207539, -0.02683928, -0.04271691, -0.0074808 ,\n",
       "        0.0352361 ])"
      ]
     },
     "execution_count": 20,
     "metadata": {},
     "output_type": "execute_result"
    }
   ],
   "source": [
    "getTimeDiffAtTime(26)"
   ]
  },
  {
   "cell_type": "code",
   "execution_count": null,
   "metadata": {},
   "outputs": [],
   "source": []
  },
  {
   "cell_type": "code",
   "execution_count": 61,
   "metadata": {},
   "outputs": [
    {
     "data": {
      "image/png": "[encoded data removed]",
      "text/plain": [
       "<matplotlib.figure.Figure at 0x7f6a5f2196d8>"
      ]
     },
     "metadata": {},
     "output_type": "display_data"
    }
   ],
   "source": [
    "from scipy.optimize import least_squares\n",
    "from matplotlib import cm\n",
    "co=0\n",
    "colors=['red','green','blue', 'orange', 'purple']\n",
    "t = np.arange(100)\n",
    "colors = cm.winter(np.linspace(0,1,266))\n",
    "colors2 = cm.autumn(np.linspace(0,1,266))\n",
    "\n",
    "for i in dirdiff['time']:\n",
    "    #print(auvPos)\n",
    "    auvPos = getPosAtTime(i)\n",
    "    timediff = getTimeDiffAtTime(i)\n",
    "    try:\n",
    "        initial_estimates=[-200,-80]\n",
    "        res = least_squares(loss, initial_estimates)\n",
    "        #print(i)\n",
    "        plt.scatter(res.x[0],res.x[1],c=colors2[co], cmap=cm.hot, linewidth=0.0)\n",
    "    except TypeError:\n",
    "        continue\n",
    "    #plt.scatter(auvPos[:,0],auvPos[:,1],c='b')\n",
    "    #plt.scatter(res.x[0],res.x[1],c=co)\n",
    "    plt.scatter(auvPos[0]['xpos'],auvPos[0]['ypos'],c=colors[co], cmap=cm.jet, linewidth=0.0)\n",
    "    plt.scatter(auvPos[1]['xpos'],auvPos[1]['ypos'],c=colors[co], cmap=cm.jet, linewidth=0.0)\n",
    "    plt.scatter(auvPos[2]['xpos'],auvPos[2]['ypos'],c=colors[co], cmap=cm.jet, linewidth=0.0)\n",
    "    plt.scatter(auvPos[3]['xpos'],auvPos[3]['ypos'],c=colors[co], cmap=cm.jet, linewidth=0.0)\n",
    "    co = (co + 1) % 266\n",
    "\n",
    "#    plt.xlim(-5000,100)\n",
    "plt.rc('xtick', labelsize=15) \n",
    "plt.rc('ytick', labelsize=15) \n",
    "plt.rc('axes', labelsize=20) \n",
    "plt.xlabel('x-axis (m)')\n",
    "plt.ylabel('y-axis (m)')\n",
    "plt.show()\n",
    "\n",
    "    "
   ]
  },
  {
   "cell_type": "code",
   "execution_count": 53,
   "metadata": {},
   "outputs": [
    {
     "data": {
      "text/plain": [
       "266"
      ]
     },
     "execution_count": 53,
     "metadata": {},
     "output_type": "execute_result"
    }
   ],
   "source": [
    "len(dirdiff['time'])"
   ]
  },
  {
   "cell_type": "code",
   "execution_count": 40,
   "metadata": {},
   "outputs": [
    {
     "name": "stdout",
     "output_type": "stream",
     "text": [
      "<matplotlib.colors.LinearSegmentedColormap object at 0x7f6a63fb3780>\n"
     ]
    },
    {
     "ename": "TypeError",
     "evalue": "'NoneType' object is not subscriptable",
     "output_type": "error",
     "traceback": [
      "\u001b[0;31m---------------------------------------------------------------------------\u001b[0m",
      "\u001b[0;31mTypeError\u001b[0m                                 Traceback (most recent call last)",
      "\u001b[0;32m<ipython-input-40-632acf6c0812>\u001b[0m in \u001b[0;36m<module>\u001b[0;34m()\u001b[0m\n\u001b[0;32m----> 1\u001b[0;31m \u001b[0mprint\u001b[0m\u001b[0;34m(\u001b[0m\u001b[0mcm\u001b[0m\u001b[0;34m.\u001b[0m\u001b[0mjet\u001b[0m\u001b[0;34m)\u001b[0m\u001b[0;34m[\u001b[0m\u001b[0;36m0\u001b[0m\u001b[0;34m]\u001b[0m\u001b[0;34m\u001b[0m\u001b[0m\n\u001b[0m",
      "\u001b[0;31mTypeError\u001b[0m: 'NoneType' object is not subscriptable"
     ]
    }
   ],
   "source": [
    "print(cm.jet)[0]\n"
   ]
  },
  {
   "cell_type": "code",
   "execution_count": 22,
   "metadata": {},
   "outputs": [
    {
     "data": {
      "image/png": "[encoded data removed]",
      "text/plain": [
       "<matplotlib.figure.Figure at 0x7f6a5e62bac8>"
      ]
     },
     "metadata": {},
     "output_type": "display_data"
    },
    {
     "name": "stdout",
     "output_type": "stream",
     "text": [
      "[ -58.03148161  688.51560665]\n",
      "[         xpos        ypos\n",
      "69 -91.687425  731.059533,          xpos        ypos\n",
      "69 -96.753014  687.882339,          xpos        ypos\n",
      "69 -12.148667  675.183271,          xpos        ypos\n",
      "69 -43.986596  722.824241]\n"
     ]
    }
   ],
   "source": [
    "i = 89\n",
    "auvPos = getPosAtTime(i)\n",
    "#print(auvPos)\n",
    "timediff = getTimeDiffAtTime(i)\n",
    "\n",
    "initial_estimates=[-1000,-1000]\n",
    "for i in range(-1000, 0, 250):\n",
    "    for j in range(-1000, 0, 250):\n",
    "        init =  [i,j];\n",
    "        res = least_squares(loss, init)\n",
    "        plt.scatter(res.x[0],res.x[1],marker='x',c='r')\n",
    "    plt.scatter(auvPos[0]['xpos'],auvPos[0]['ypos'],c='b')\n",
    "    plt.scatter(auvPos[1]['xpos'],auvPos[1]['ypos'],c='b')\n",
    "    plt.scatter(auvPos[2]['xpos'],auvPos[2]['ypos'],c='b')\n",
    "    plt.scatter(auvPos[3]['xpos'],auvPos[3]['ypos'],c='b')\n",
    "\n",
    "plt.xlabel('x-axis (m)')\n",
    "plt.ylabel('y-axis (m)')\n",
    "plt.rc('xtick', labelsize=15) \n",
    "plt.rc('ytick', labelsize=15) \n",
    "plt.rc('axes', labelsize=20) \n",
    "plt.show();\n",
    "print(res.x)\n",
    "print(auvPos)"
   ]
  },
  {
   "cell_type": "code",
   "execution_count": 23,
   "metadata": {},
   "outputs": [],
   "source": [
    "timediff = getTimeDiffAtTime(89)\n"
   ]
  },
  {
   "cell_type": "code",
   "execution_count": 24,
   "metadata": {},
   "outputs": [
    {
     "data": {
      "text/plain": [
       "array([ 0.02529732, -0.01661043, -0.01995389, -0.04190776, -0.04525122,\n",
       "       -0.00334346])"
      ]
     },
     "execution_count": 24,
     "metadata": {},
     "output_type": "execute_result"
    }
   ],
   "source": [
    "timediff"
   ]
  },
  {
   "cell_type": "code",
   "execution_count": null,
   "metadata": {},
   "outputs": [],
   "source": []
  }
 ],
 "metadata": {
  "kernelspec": {
   "display_name": "Python 3",
   "language": "python",
   "name": "python3"
  },
  "language_info": {
   "codemirror_mode": {
    "name": "ipython",
    "version": 3
   },
   "file_extension": ".py",
   "mimetype": "text/x-python",
   "name": "python",
   "nbconvert_exporter": "python",
   "pygments_lexer": "ipython3",
   "version": "3.5.2"
  }
 },
 "nbformat": 4,
 "nbformat_minor": 2
}
