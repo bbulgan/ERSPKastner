{
 "cells": [
  {
   "cell_type": "code",
   "execution_count": 311,
   "metadata": {},
   "outputs": [],
   "source": [
    "import random as rand\n",
    "import numpy as np\n"
   ]
  },
  {
   "cell_type": "code",
   "execution_count": 312,
   "metadata": {},
   "outputs": [],
   "source": [
    "auvRange = 10\n",
    "shrimpRange = 20\n",
    "rate = shrimpRange/auvRange\n",
    "\n",
    "auvPos = [[0,0],[0,0],[0,0],[0,0]]\n",
    "def createPositions(auvPos):\n",
    "    for i in range(len(auvPos)):\n",
    "        auvPos[i] = [rand.random()*auvRange, rand.random()*auvRange]\n",
    "    return auvPos\n",
    "pos = createPositions(auvPos)\n",
    "\n",
    "shrimpPos = [rand.random()*shrimpRange, rand.random()*shrimpRange]\n"
   ]
  },
  {
   "cell_type": "code",
   "execution_count": 313,
   "metadata": {},
   "outputs": [
    {
     "data": {
      "text/plain": [
       "[[-4.245668212471499, 14.141420599193964],\n",
       " [-6.066647618415567, 16.711466499147583],\n",
       " [-8.561233567669902, 11.918154322021763],\n",
       " [-0.393406802969235, 13.827467608816555]]"
      ]
     },
     "execution_count": 313,
     "metadata": {},
     "output_type": "execute_result"
    }
   ],
   "source": [
    "diff = [[0,0],[0,0],[0,0],[0,0]]\n",
    "def getDiffFromShrimp(shrimpPos, auvPos):\n",
    "    for i in range(len(auvPos)):\n",
    "        diff[i] = [shrimpPos[0] - auvPos[i][0],shrimpPos[1] - auvPos[i][1]];\n",
    "        \n",
    "    return diff\n",
    "getDiffFromShrimp(shrimpPos, auvPos)"
   ]
  },
  {
   "cell_type": "code",
   "execution_count": 314,
   "metadata": {},
   "outputs": [],
   "source": [
    "functions = []\n",
    "soundSpeed = 1498\n",
    "#gets deltas in seconds\n",
    "def getMags():\n",
    "    mag = [[0,0],[0,0],[0,0],[0,0],[0,0],[0,0]]\n",
    "    k = 0\n",
    "    for i in range(4):\n",
    "        for j in range(i+1, 4):\n",
    "            #print(i,j)\n",
    "            mag[k] = (np.linalg.norm(diff[i])-np.linalg.norm(diff[j])) * rate/1498\n",
    "            k = k+1\n",
    "    return mag\n",
    "#i want a for loop that prints 0,1 0,2 0,3 1,2,1,3 2,3 \n",
    "\n",
    "timediff = getMags()"
   ]
  },
  {
   "cell_type": "code",
   "execution_count": 315,
   "metadata": {},
   "outputs": [],
   "source": [
    "def loss(s):\n",
    "    error = np.zeros(6)\n",
    "    k = 0\n",
    "    diff = getDiffFromShrimp(s, auvPos)\n",
    "    for i in range(4):\n",
    "        for j in range(i+1,4):\n",
    "            #print(i,j)\n",
    "            error[k] = timediff[k]-(np.linalg.norm(diff[i])-np.linalg.norm(diff[j]))*rate/1498\n",
    "            k = k+1\n",
    "    return error"
   ]
  },
  {
   "cell_type": "code",
   "execution_count": 316,
   "metadata": {},
   "outputs": [
    {
     "name": "stdout",
     "output_type": "stream",
     "text": [
      "[ 0.67692892 17.31364076]\n",
      "[0.6759517522553127, 17.316145722489637]\n"
     ]
    }
   ],
   "source": [
    "from scipy.optimize import least_squares\n",
    "initial_estimates=auvPos[1]\n",
    "res = least_squares(loss, initial_estimates)\n",
    "print(res.x)\n",
    "print(shrimpPos)"
   ]
  },
  {
   "cell_type": "code",
   "execution_count": 317,
   "metadata": {},
   "outputs": [
    {
     "name": "stdout",
     "output_type": "stream",
     "text": [
      "[[4.921619964726812, 3.174725123295672], [6.74259937067088, 0.6046792233420539], [9.237185319925214, 5.397991400467873], [1.0693585552245477, 3.4886781136730827]]\n",
      "1.5317182196076036\n",
      "1.5317802121547208\n"
     ]
    }
   ],
   "source": [
    "res.cost\n",
    "print(auvPos)\n",
    "print(np.arctan(res.x[1]/res.x[0]))\n",
    "print(np.arctan(shrimpPos[1]/shrimpPos[0]))\n"
   ]
  }
 ],
 "metadata": {
  "kernelspec": {
   "display_name": "Python 3",
   "language": "python",
   "name": "python3"
  },
  "language_info": {
   "codemirror_mode": {
    "name": "ipython",
    "version": 3
   },
   "file_extension": ".py",
   "mimetype": "text/x-python",
   "name": "python",
   "nbconvert_exporter": "python",
   "pygments_lexer": "ipython3",
   "version": "3.6.4"
  }
 },
 "nbformat": 4,
 "nbformat_minor": 2
}
