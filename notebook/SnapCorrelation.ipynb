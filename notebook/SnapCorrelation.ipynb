{
 "cells": [
  {
   "cell_type": "code",
   "execution_count": 14,
   "metadata": {},
   "outputs": [],
   "source": [
    "import numpy as np\n",
    "from scipy.io.wavfile import read\n",
    "from scipy import signal, arange\n",
    "from scipy.signal import hilbert, find_peaks_cwt\n",
    "import matplotlib.pyplot as plt\n",
    "import matplotlib.axes as matax\n",
    "import matplotlib.mlab as mlab\n",
    "import sys\n",
    "from math import exp\n",
    "import operator"
   ]
  },
  {
   "cell_type": "code",
   "execution_count": 5,
   "metadata": {},
   "outputs": [],
   "source": [
    "sampFreq7, unit7sampArray = read('unit7wav5.wav');\n",
    "sampFreq8, unit8sampArray = read('unit8wav5.wav');\n",
    "sampFreq13, unit13sampArray = read('unit13wav5.wav');\n",
    "sampFreq20, unit20sampArray = read('unit20wav5.wav');"
   ]
  },
  {
   "cell_type": "code",
   "execution_count": 28,
   "metadata": {},
   "outputs": [],
   "source": [
    "#sample frequency set equal to one of the sound files\n",
    "#sound frequency since it should be the same for all\n",
    "#files anyway\n",
    "sampFreq = sampFreq7\n",
    "\n",
    "#start time and duration measured in seconds\n",
    "startTime = 0;\n",
    "duration = duration = int(len(unit7sampArray)/sampFreq);\n",
    "\n",
    "#in seconds\n",
    "deadzoneInSeconds = 0.01\n",
    "\n",
    "###DO NOT CHANGE THE NEXT TWO VARIABLES!!! \n",
    "#IF CHANGED PLEASE RESET leftOffset TO 50 AND rightOffset to 200\n",
    "leftOffsetClassif = 50;  # how many frames we should expand the interval to the left (for the classfication algorithm)\n",
    "rightOffsetClassif = 200; # how many frames we should expand ther interval to the right (for the classificaiton algorithm)\n",
    "###DO NOT CHANGE THE LAST TWO VARIABLES!!!\n",
    "\n",
    "#The deltaT (in seconds) for finding the same snap, for now I'll set it as some number that's \n",
    "#somewhat reasonable? idk....\n",
    "deltaTinSeconds = 0.25;\n",
    "\n",
    "#actual array indexes for splicing\n",
    "startIndex = sampFreq7 * startTime;\n",
    "endIndex = startIndex + sampFreq * duration;\n",
    "\n",
    "\n",
    "unit7splicedArray = unit7sampArray[startIndex:endIndex];\n",
    "unit8splicedArray = unit8sampArray[startIndex:endIndex];\n",
    "unit13splicedArray = unit13sampArray[startIndex:endIndex];\n",
    "unit20splicedArray = unit20sampArray[startIndex:endIndex];"
   ]
  },
  {
   "cell_type": "code",
   "execution_count": 20,
   "metadata": {},
   "outputs": [],
   "source": [
    "#preparing 2 time arrays for the spliced signals for plotting (if needed) the x axis. \n",
    "#Indexes and seconds.\n",
    "timeArrayInIndexes = np.arange(0, endIndex-startIndex, 1)\n",
    "timeArrayInSeconds = timeArrayInIndexes / sampFreq"
   ]
  },
  {
   "cell_type": "code",
   "execution_count": 21,
   "metadata": {},
   "outputs": [],
   "source": [
    "#takes in the sliced array and \n",
    "#returns an array of indexes and seconds where the amplitude\n",
    "#is above the threshold. Already takes into account\n",
    "#the small deadzone\n",
    "def detectAboveThreshold(splicedArray):\n",
    "    #setting up the amplitude threshold\n",
    "    ampThreshold = np.std(splicedArray) * 10;\n",
    "    \n",
    "    #creates a boolean array for each index of the spiced sound array\n",
    "    #each index of this boolean array corresponds to 1 index of the \n",
    "    #spliced sound array. The value will be true if above threshold,\n",
    "    #false otherwise\n",
    "    aboveThres = splicedArray > ampThreshold \n",
    "    \n",
    "    #pick out the time when the amplitude is above threshold\n",
    "    # current = the first time in seconds frame has amplitude above threshold\n",
    "    # highAmplitudeSeconds = the time where each loud signal above threshold\n",
    "    # highAmplitudeIndexes = the time frame indices of each loud signal above threshold\n",
    "    highAmplitudeSeconds = [];\n",
    "    highAmplitudeIndexes = [];\n",
    "    current = timeArrayInSeconds[aboveThres][0] \n",
    "    \n",
    "    #initializing the arrays with the first values before the loop \n",
    "    highAmplitudeSeconds.append(current)\n",
    "    highAmplitudeIndexes.append(current * sampFreq)\n",
    "    \n",
    "    # set a deadzone (set to 0.01 seconds in the earlier cell) \n",
    "    # time window that slides across the current array\n",
    "    # so that we only collect one time data for each loud signal\n",
    "    for timeInSeconds in timeArrayInSeconds[aboveThres]: \n",
    "    \n",
    "        if (timeInSeconds > current + deadzoneInSeconds ):\n",
    "            highAmplitudeIndexes.append(timeInSeconds * sampFreq)\n",
    "            highAmplitudeSeconds.append(timeInSeconds)\n",
    "            current = timeInSeconds\n",
    "            \n",
    "    \n",
    "    return highAmplitudeIndexes, highAmplitudeSeconds;\n",
    "    "
   ]
  },
  {
   "cell_type": "code",
   "execution_count": 22,
   "metadata": {},
   "outputs": [],
   "source": [
    "#grabs the indexes and times when amplitude goes above threshold\n",
    "highAmpIndexesUnit7, highAmpSecondsUnit7 = detectAboveThreshold(unit7splicedArray)\n",
    "highAmpIndexesUnit8, highAmpSecondsUnit8 = detectAboveThreshold(unit8splicedArray)\n",
    "highAmpIndexesUnit13, highAmpSecondsUnit13 = detectAboveThreshold(unit13splicedArray)\n",
    "highAmpIndexesUnit20, highAmpSecondsUnit20 = detectAboveThreshold(unit20splicedArray)"
   ]
  },
  {
   "cell_type": "code",
   "execution_count": 30,
   "metadata": {},
   "outputs": [],
   "source": [
    "#a function that takes in the array of indexes of all signals (both snaps and pings)\n",
    "#above threshold and outputs the array of indexes where SNAPS were found. \n",
    "def getSnapIndexes(splicedArray, highAmpIndexes):\n",
    "    snapIndexes = [];\n",
    "    \n",
    "    for i in range(0, len(highAmpIndexes)):\n",
    "        frontIndex = int(highAmpIndexes[i] - leftOffsetClassif);\n",
    "        backIndex = int(highAmpIndexes[i] + rightOffsetClassif);\n",
    "        \n",
    "        signalForClassification = splicedArray[frontIndex:backIndex]\n",
    "        classification = classify(signalForClassification)\n",
    "        \n",
    "        \n",
    "        if(classification == \"Snap\"):\n",
    "            snapIndexes.append(highAmpIndexes[i]);\n",
    "        \n",
    "    \n",
    "    return snapIndexes;\n",
    "            "
   ]
  },
  {
   "cell_type": "code",
   "execution_count": 31,
   "metadata": {},
   "outputs": [],
   "source": [
    "def getFrequencies(signal):\n",
    "    length = len(signal) # length of the signal\n",
    "    #k = arange(length)\n",
    "    #T = length/sampFreq\n",
    "    #frq = k/T # two sides frequency range\n",
    "    #frq = frq[range(np.int(length/2))] # one side frequency range\n",
    "\n",
    "    frequencies = np.fft.fft(signal)/length # fft computing and normalization\n",
    "    frequencies = frequencies[range(np.int(length/2))]\n",
    "    \n",
    "    return abs(frequencies)"
   ]
  },
  {
   "cell_type": "code",
   "execution_count": 32,
   "metadata": {},
   "outputs": [],
   "source": [
    "#I did not change this snippet of code, it should be identical to the other one\n",
    "def getRatio(signal):\n",
    "    frequencies = getFrequencies(signal)\n",
    "    ratio = sum(frequencies[34:68] * 100/sum(frequencies))\n",
    "    return ratio;\n",
    "    "
   ]
  },
  {
   "cell_type": "code",
   "execution_count": 33,
   "metadata": {},
   "outputs": [],
   "source": [
    "#I did not change this snippet of code, it should be identical to the other one\n",
    "def classify(signal):\n",
    "    #print(len(signal))\n",
    "    \n",
    "    ratio = getRatio(signal)\n",
    "    #print(ratio)\n",
    "    if (ratio > 70):\n",
    "        return \"Ping\"\n",
    "    \n",
    "    elif (ratio < 50):\n",
    "        return \"Snap\"\n",
    "    else:\n",
    "        return \"Undefined\""
   ]
  },
  {
   "cell_type": "code",
   "execution_count": 34,
   "metadata": {},
   "outputs": [],
   "source": [
    "snapIndexesUnit7 = getSnapIndexes(unit7splicedArray, highAmpIndexesUnit7);\n",
    "snapIndexesUnit8 = getSnapIndexes(unit8splicedArray, highAmpIndexesUnit8);\n",
    "snapIndexesUnit13 = getSnapIndexes(unit13splicedArray, highAmpIndexesUnit13);\n",
    "snapIndexesUnit20 = getSnapIndexes(unit20splicedArray, highAmpIndexesUnit20);"
   ]
  },
  {
   "cell_type": "code",
   "execution_count": 39,
   "metadata": {},
   "outputs": [
    {
     "name": "stdout",
     "output_type": "stream",
     "text": [
      "948\n",
      "1733\n"
     ]
    }
   ],
   "source": [
    "#test\n",
    "print(len(snapIndexesUnit20))\n",
    "\n",
    "print(len(highAmpIndexesUnit20))\n"
   ]
  },
  {
   "cell_type": "code",
   "execution_count": null,
   "metadata": {},
   "outputs": [],
   "source": [
    "#TODO: function that would look at the snapIndexes of the 4 files and \n",
    "#group the snaps"
   ]
  }
 ],
 "metadata": {
  "kernelspec": {
   "display_name": "Python 3",
   "language": "python",
   "name": "python3"
  },
  "language_info": {
   "codemirror_mode": {
    "name": "ipython",
    "version": 3
   },
   "file_extension": ".py",
   "mimetype": "text/x-python",
   "name": "python",
   "nbconvert_exporter": "python",
   "pygments_lexer": "ipython3",
   "version": "3.6.3"
  }
 },
 "nbformat": 4,
 "nbformat_minor": 2
}
