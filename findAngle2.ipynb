{
 "cells": [
  {
   "cell_type": "code",
   "execution_count": 2,
   "metadata": {},
   "outputs": [],
   "source": [
    "statusBadCount = 0;import random as rand\n",
    "import numpy as np\n",
    "import matplotlib.pyplot as plt"
   ]
  },
  {
   "cell_type": "code",
   "execution_count": null,
   "metadata": {},
   "outputs": [],
   "source": []
  },
  {
   "cell_type": "code",
   "execution_count": 216,
   "metadata": {},
   "outputs": [],
   "source": [
    "auvRange = 20\n",
    "shrimpRange = 1000\n",
    "#rate = shrimpRange/auvRange\n",
    "timeNoiseRange = 0.0005\n",
    "distNoiseRange = (1/100)*auvRange\n",
    "\n",
    "auvPos = [[0,0],[0,0],[0,0],[0,0]]\n",
    "auvPosWN = [[0,0],[0,0],[0,0],[0,0]]\n",
    "\n",
    "def createPositions(auvPos):\n",
    "    for i in range(len(auvPos)):\n",
    "        auvPos[i] = [rand.random()*auvRange, rand.random()*auvRange]\n",
    "        rand1 = rand.random()*distNoiseRange \n",
    "        rand2 = rand.random()*distNoiseRange\n",
    "        auvPosWN[i] = [(auvPos[i][0]+rand1),(auvPos[i][1]+rand2)]\n",
    "    return auvPos,auvPosWN\n",
    "auvPos,auvPosWN = createPositions(auvPos)\n",
    "\n",
    "shrimpPos = [rand.random()*shrimpRange, rand.random()*shrimpRange]\n",
    "#print(auvPos)\n",
    "#print(auvPosWN)"
   ]
  },
  {
   "cell_type": "code",
   "execution_count": 4,
   "metadata": {},
   "outputs": [],
   "source": [
    "diff = [[0,0],[0,0],[0,0],[0,0]]\n",
    "def getDiffFromShrimp(shrimpPos, auvPos):\n",
    "    for i in range(len(auvPos)):\n",
    "        diff[i] = [shrimpPos[0] - auvPos[i][0],shrimpPos[1] - auvPos[i][1]];\n",
    "        \n",
    "    return diff\n",
    "\n",
    "diff = getDiffFromShrimp(shrimpPos, auvPos)\n",
    "#diff = getDiffFromShrimp(shrimpPos, auvPosWN) \n",
    "#auvPos = auvPosWN"
   ]
  },
  {
   "cell_type": "code",
   "execution_count": 5,
   "metadata": {},
   "outputs": [],
   "source": [
    "functions = []\n",
    "soundSpeed = 1498\n",
    "#gets deltas in seconds\n",
    "def getMags():\n",
    "    mag = [[0,0],[0,0],[0,0],[0,0],[0,0],[0,0]]\n",
    "    k = 0\n",
    "    for i in range(4):\n",
    "        for j in range(i+1, 4):\n",
    "           # print(i,j)\n",
    "            mag[k] = (np.linalg.norm(diff[i])-np.linalg.norm(diff[j]))\n",
    "            #mag[k] = mag[k] + rand.random()*noiseRange;\n",
    "            k = k+1\n",
    "    return mag\n",
    "#i want a for loop that prints 0,1 0,2 0,3 1,2,1,3 2,3 \n",
    "\n",
    "timediff = getMags()"
   ]
  },
  {
   "cell_type": "code",
   "execution_count": 6,
   "metadata": {},
   "outputs": [],
   "source": [
    "def loss(s):\n",
    "    error = np.zeros(6)\n",
    "    k = 0\n",
    "    diff = getDiffFromShrimp(s, auvPos)\n",
    "    for i in range(4):\n",
    "        for j in range(i+1,4):\n",
    "            #print(i,j)\n",
    "            error[k] = timediff[k]-(np.linalg.norm(diff[i])-np.linalg.norm(diff[j]))\n",
    "            k = k+1\n",
    "    return error"
   ]
  },
  {
   "cell_type": "code",
   "execution_count": 20,
   "metadata": {},
   "outputs": [
    {
     "name": "stdout",
     "output_type": "stream",
     "text": [
      "[ 68.73411786  15.0368368 ]\n",
      "[68.73411786444386, 15.036836799937593]\n"
     ]
    }
   ],
   "source": [
    "from scipy.optimize import least_squares\n",
    "#shrimp location estimate\n",
    "initial_estimates=shrimpPos\n",
    "res = least_squares(loss, initial_estimates)\n",
    "print(res.x)\n",
    "print(shrimpPos)"
   ]
  },
  {
   "cell_type": "code",
   "execution_count": 21,
   "metadata": {},
   "outputs": [
    {
     "name": "stdout",
     "output_type": "stream",
     "text": [
      "0.215375034573\n",
      "0.215375034573\n"
     ]
    }
   ],
   "source": [
    "res.cost\n",
    "#angle\n",
    "print(np.arctan(res.x[1]/res.x[0]))\n",
    "print(np.arctan(shrimpPos[1]/shrimpPos[0]))\n"
   ]
  },
  {
   "cell_type": "code",
   "execution_count": null,
   "metadata": {},
   "outputs": [],
   "source": [
    "auvPos = [[0,0],[0,0],[0,0],[0,0]]\n",
    "auvPosWN = [[0,0],[0,0],[0,0],[0,0]]\n",
    "auvPos,auvPosWN = createPositions(auvPos)\n",
    "shrimpPos = [rand.random()*shrimpRange, rand.random()*shrimpRange]\n",
    "diff = getDiffFromShrimp(shrimpPos, auvPos)\n",
    "timediff = getMags()"
   ]
  },
  {
   "cell_type": "code",
   "execution_count": 238,
   "metadata": {
    "scrolled": true
   },
   "outputs": [
    {
     "name": "stdout",
     "output_type": "stream",
     "text": [
      "1\n"
     ]
    },
    {
     "data": {
      "image/png": "[encoded data removed]",
      "text/plain": [
       "<matplotlib.figure.Figure at 0x7fe25f4c6da0>"
      ]
     },
     "metadata": {},
     "output_type": "display_data"
    },
    {
     "name": "stdout",
     "output_type": "stream",
     "text": [
      "1.61118630721e-09 (-2.6594526616463554e-06, -8.2822546687566501e-07)\n",
      "[ 679.69884221  217.05976036]\n",
      "[679.6988448649287, 217.05976118851743]\n"
     ]
    }
   ],
   "source": [
    "\n",
    "results = []\n",
    "initial_est = []\n",
    "\n",
    "auvPos = [[0,0],[0,0],[0,0],[0,0]]\n",
    "auvPosWN = [[0,0],[0,0],[0,0],[0,0]]\n",
    "auvPos,auvPosWN = createPositions(auvPos)\n",
    "shrimpPos = [rand.random()*shrimpRange, rand.random()*shrimpRange]\n",
    "diff = getDiffFromShrimp(shrimpPos, auvPos)\n",
    "timediff = getMags()\n",
    "for i in range(15):\n",
    "    for j in range(15):\n",
    "        #initial_estimates = [rand.random()*shrimpRange, rand.random()*shrimpRange];\n",
    "        initial_estimates = [i * 50, j * 50];\n",
    "        initial_est.append(initial_estimates)\n",
    "        result = (least_squares(loss, initial_estimates, bounds=[-1500,1500]))\n",
    "        plt.plot([initial_estimates[0],result.x[0]], [initial_estimates[1], result.x[1]],c='r')\n",
    "        plt.scatter(result.x[0], result.x[1], c='y')\n",
    "        results.append(list(result.x))\n",
    "\n",
    "    '''\n",
    "init_guess = [0,0]\n",
    "plt.scatter(result.x[0], result.x[1], c='y')\n",
    "result = least_squares(loss, init_guess)\n",
    "'''\n",
    "\n",
    "\n",
    "angleguess = np.arctan(result.x[1]/result.x[0])\n",
    "real = np.arctan(shrimpPos[1]/shrimpPos[0])\n",
    "anglediff = (angleguess - real)*180/np.pi\n",
    "posdiff = (result.x[0]-shrimpPos[0], result.x[1]-shrimpPos[1])\n",
    "\n",
    "#plt.plot([0,res.x[0]], [0, res.x[1]], marker = 'o',c='b')\n",
    "plt.scatter([shrimpPos[0]], [shrimpPos[1]], marker = 'o',c='r')\n",
    "#plt.scatter([shrimpPos[0]], [shrimpPos[1]], marker = 'o',c='r')\n",
    "x,y = zip(*auvPos)\n",
    "\n",
    "plt.scatter(x,y)\n",
    "#plt.scatter(shrimpPos[0], shrimpPos[1])\n",
    "#plt.scatter(res.x[0], res.x[1], c='g')\n",
    "print(result.status)\n",
    "plt.show()\n",
    "print(anglediff, posdiff)\n",
    "#print(results)\n",
    "print(result.x)\n",
    "print(shrimpPos)\n"
   ]
  },
  {
   "cell_type": "code",
   "execution_count": 182,
   "metadata": {},
   "outputs": [
    {
     "name": "stdout",
     "output_type": "stream",
     "text": [
      "-5.2161096776e-13 (3.6448621898443889e-13, -9.3081098384573124e-13)\n"
     ]
    }
   ],
   "source": [
    "#According to the least squares algorithm, convergence always occurs, but result is inaccurate\n",
    "\n",
    "auvPos = [[0,0],[0,0],[0,0],[0,0]]\n",
    "print(anglediff, posdiff)\n",
    "auvPosWN = [[0,0],[0,0],[0,0],[0,0]]\n",
    "\n",
    "auvPos,auvPosWN = createPositions(auvPos)\n",
    "shrimpPos = [rand.random()*shrimpRange, rand.random()*shrimpRange]\n",
    "diff = getDiffFromShrimp(shrimpPos, auvPos)\n",
    "timediff = getMags()"
   ]
  },
  {
   "cell_type": "code",
   "execution_count": 71,
   "metadata": {},
   "outputs": [],
   "source": [
    "\n",
    "auvPos = [[0,0],[0,0],[0,0],[0,0]]\n",
    "auvPosWN = [[0,0],[0,0],[0,0],[0,0]]\n",
    "auvPos,auvPosWN = createPositions(auvPos)\n",
    "shrimpPos = [rand.random()*shrimpRange, rand.random()*shrimpRange]\n",
    "diff = getDiffFromShrimp(shrimpPos, auvPos)\n",
    "timediff = getMags()"
   ]
  },
  {
   "cell_type": "code",
   "execution_count": 111,
   "metadata": {},
   "outputs": [
    {
     "name": "stdout",
     "output_type": "stream",
     "text": [
      " active_mask: array([ 0.,  0.])\n",
      "        cost: 27.818988153272201\n",
      "         fun: array([ 2.63397772,  0.55690467,  4.72521597, -2.07707305,  2.09123825,\n",
      "        4.1683113 ])\n",
      "        grad: array([ -6.41244794e-08,   2.94424507e-07])\n",
      "         jac: array([[ -1.33091213e-04,  -2.28729960e-04],\n",
      "       [ -8.24573162e-05,  -1.41708128e-04],\n",
      "       [ -1.09649011e-05,  -1.88060242e-05],\n",
      "       [  5.06338965e-05,   8.70218328e-05],\n",
      "       [  1.22126312e-04,   2.09923936e-04],\n",
      "       [  7.14924152e-05,   1.22902103e-04]])\n",
      "     message: '`xtol` termination condition is satisfied.'\n",
      "        nfev: 38\n",
      "        njev: 28\n",
      "  optimality: 2.9442450727782104e-07\n",
      "      status: 3\n",
      "     success: True\n",
      "           x: array([-30993.781857  ,  18045.04048476])\n",
      " active_mask: array([ 0.,  0.])\n",
      "        cost: 3.8159106611309907e-21\n",
      "         fun: array([  5.06759079e-11,   2.82369683e-11,  -2.40873987e-12,\n",
      "        -2.24389396e-11,  -5.30846478e-11,  -3.06457082e-11])\n",
      "        grad: array([  1.51987755e-11,  -1.89987282e-11])\n",
      "         jac: array([[ 0.08247887, -0.10684288],\n",
      "       [ 0.05874507, -0.07292627],\n",
      "       [-0.03075368,  0.03317314],\n",
      "       [-0.0237338 ,  0.03391661],\n",
      "       [-0.11323255,  0.14001602],\n",
      "       [-0.08949875,  0.10609941]])\n",
      "     message: '`gtol` termination condition is satisfied.'\n",
      "        nfev: 8\n",
      "        njev: 8\n",
      "  optimality: 1.8998728220290748e-11\n",
      "      status: 1\n",
      "     success: True\n",
      "           x: array([ 62.40683152,  42.52121146])\n"
     ]
    }
   ],
   "source": [
    "init_guess = [0,0]\n",
    "plt.scatter(result.x[0], result.x[1], c='y')\n",
    "result1 = least_squares(loss, init_guess)\n",
    "result2 = least_squares(loss, [30,30])\n",
    "print(result1)\n",
    "print(result2)"
   ]
  },
  {
   "cell_type": "code",
   "execution_count": 108,
   "metadata": {},
   "outputs": [
    {
     "data": {
      "text/plain": [
       "array([-2.40666869, -1.77849132,  1.29296111,  0.62817737,  3.6996298 ,\n",
       "        3.07145243])"
      ]
     },
     "execution_count": 108,
     "metadata": {},
     "output_type": "execute_result"
    }
   ],
   "source": [
    "loss(init_guess)"
   ]
  },
  {
   "cell_type": "code",
   "execution_count": 105,
   "metadata": {},
   "outputs": [
    {
     "data": {
      "text/plain": [
       "[[-16.84998449303258, -2.1641010805765104],\n",
       " [-17.74660411446452, -12.626986224652505],\n",
       " [-16.6622023554446, -9.079002555530796],\n",
       " [-19.903856211477226, -1.2918659953141431]]"
      ]
     },
     "execution_count": 105,
     "metadata": {},
     "output_type": "execute_result"
    }
   ],
   "source": []
  },
  {
   "cell_type": "code",
   "execution_count": 116,
   "metadata": {},
   "outputs": [
    {
     "name": "stdout",
     "output_type": "stream",
     "text": [
      "[[16.84998449303258, 2.1641010805765104], [17.74660411446452, 12.626986224652505], [16.6622023554446, 9.079002555530796], [19.903856211477226, 1.2918659953141431]]\n"
     ]
    }
   ],
   "source": [
    "print(auvPos)"
   ]
  },
  {
   "cell_type": "code",
   "execution_count": 225,
   "metadata": {},
   "outputs": [
    {
     "name": "stdout",
     "output_type": "stream",
     "text": [
      "done\n"
     ]
    }
   ],
   "source": [
    "results = []\n",
    "initial_est = []\n",
    "statusOneCount = 0;\n",
    "statusBadCount = 0;\n",
    "BadResults = 0;\n",
    "GoodResults = 0;\n",
    "for k in range(100):\n",
    "    auvPos = [[0,0],[0,0],[0,0],[0,0]]\n",
    "    auvPosWN = [[0,0],[0,0],[0,0],[0,0]]\n",
    "    auvPos,auvPosWN = createPositions(auvPos)\n",
    "    shrimpPos = [rand.random()*shrimpRange, rand.random()*shrimpRange]\n",
    "    diff = getDiffFromShrimp(shrimpPos, auvPos)\n",
    "    timediff = getMags()\n",
    "    for i in range(15):\n",
    "        for j in range(15):\n",
    "            #initial_estimates = [rand.random()*shrimpRange, rand.random()*shrimpRange];\n",
    "            initial_estimates = [i * 5, j * 5];\n",
    "            initial_est.append(initial_estimates)\n",
    "            result = (least_squares(loss, initial_estimates,  bounds=[-1500,1500]))\n",
    "            results.append(list(result.x))\n",
    "\n",
    "            if(result.status == 1):\n",
    "                statusOneCount = statusOneCount + 1;\n",
    "                angleguess = np.arctan(result.x[1]/result.x[0])\n",
    "                real = np.arctan(shrimpPos[1]/shrimpPos[0])\n",
    "                anglediff = (angleguess - real)*180/np.pi\n",
    "                posdiff = [result.x[0]-shrimpPos[0], result.x[1]-shrimpPos[1]]    \n",
    "                if(anglediff > 0.05 or posdiff[0] > 0.05 or posdiff[1] > 0.05):\n",
    "                    BadResults = BadResults + 1;\n",
    "                    '''\n",
    "                    plt.scatter([initial_estimates[0]], [initial_estimates[1]], c='g')\n",
    "                    plt.scatter([result.x[0]], [result.x[1]], c='y')\n",
    "                    plt.scatter([shrimpPos[0]], [shrimpPos[1]], marker = 'o',c='r')\n",
    "                    x,y = zip(*auvPos)\n",
    "                    plt.scatter(x,y)\n",
    "                    plt.show();\n",
    "                    '''\n",
    "                else:\n",
    "                    GoodResults = GoodResults + 1;\n",
    "                    break;\n",
    "            else:\n",
    "                statusBadCount = statusBadCount + 1;\n",
    "            results.append(list(result.x))\n",
    "            if(result.status == 1):\n",
    "                break;\n",
    "        if(result.status != 1):\n",
    "            statusBadCount = statusBadCount + 1;\n",
    "    \n",
    "print(\"done\");"
   ]
  },
  {
   "cell_type": "code",
   "execution_count": 226,
   "metadata": {},
   "outputs": [
    {
     "name": "stdout",
     "output_type": "stream",
     "text": [
      "6\n",
      "1492\n",
      "1498\n",
      "438\n"
     ]
    }
   ],
   "source": [
    "print(BadResults)\n",
    "print(GoodResults)\n",
    "print(statusOneCount)\n",
    "print(statusBadCount)"
   ]
  },
  {
   "cell_type": "code",
   "execution_count": null,
   "metadata": {},
   "outputs": [],
   "source": []
  }
 ],
 "metadata": {
  "kernelspec": {
   "display_name": "Python 3",
   "language": "python",
   "name": "python3"
  },
  "language_info": {
   "codemirror_mode": {
    "name": "ipython",
    "version": 3
   },
   "file_extension": ".py",
   "mimetype": "text/x-python",
   "name": "python",
   "nbconvert_exporter": "python",
   "pygments_lexer": "ipython3",
   "version": "3.5.2"
  }
 },
 "nbformat": 4,
 "nbformat_minor": 2
}
