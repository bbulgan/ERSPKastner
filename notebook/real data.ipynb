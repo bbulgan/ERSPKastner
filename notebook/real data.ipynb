{
 "cells": [
  {
   "cell_type": "code",
   "execution_count": 200,
   "metadata": {},
   "outputs": [],
   "source": [
    "import pandas as pd\n",
    "import numpy as np\n",
    "import matplotlib.pyplot as plt"
   ]
  },
  {
   "cell_type": "code",
   "execution_count": 380,
   "metadata": {},
   "outputs": [
    {
     "name": "stdout",
     "output_type": "stream",
     "text": [
      "236880 238080\n"
     ]
    }
   ],
   "source": [
    "init = pd.read_csv('time_wav5.csv', header=None).T\n",
    "u7 = pd.read_csv('unit7.csv')\n",
    "u8 = pd.read_csv('unit8.csv')\n",
    "u13 = pd.read_csv('unit13.csv')\n",
    "u20 = pd.read_csv('unit8.csv')\n",
    "\n",
    "startTime = init.iloc[1][0]\n",
    "endTime = init.iloc[1][1]\n",
    "print(startTime, endTime)"
   ]
  },
  {
   "cell_type": "code",
   "execution_count": 381,
   "metadata": {},
   "outputs": [],
   "source": [
    "u7['GPS_time']=u7['GPS_time']-startTime\n",
    "u8['GPS_time']=u8['GPS_time']-startTime\n",
    "u13['GPS_time']=u13['GPS_time']-startTime\n",
    "u20['GPS_time']=u20['GPS_time']-startTime\n"
   ]
  },
  {
   "cell_type": "code",
   "execution_count": 702,
   "metadata": {},
   "outputs": [],
   "source": [
    "sampFreq = 65501\n",
    "\n",
    "\n",
    "u7snaps = pd.read_csv('Unit7PeakTimes.csv', header=None, names = [\"dirtime\", \"reftime\"])\n",
    "\n",
    "\n",
    "u8snaps = pd.read_csv('Unit8PeakTimes.csv', header=None, names = [\"dirtime\", \"reftime\"])\n",
    "\n",
    "\n",
    "u13snaps = pd.read_csv('Unit13PeakTimes.csv', header=None, names = [\"dirtime\", \"reftime\"])\n",
    "\n",
    "\n",
    "u20snaps = pd.read_csv('Unit20PeakTimes.csv', header=None, names = [\"dirtime\", \"reftime\"])\n"
   ]
  },
  {
   "cell_type": "code",
   "execution_count": 324,
   "metadata": {},
   "outputs": [],
   "source": [
    "from scipy.interpolate import interp1d\n",
    "import matplotlib.pyplot as plt\n",
    "time = u7['GPS_time']\n",
    "xpos = u7['x']\n",
    "ypos = u7['y']"
   ]
  },
  {
   "cell_type": "code",
   "execution_count": 390,
   "metadata": {},
   "outputs": [],
   "source": [
    "tnew = np.linspace(0, 1200, num=1201)\n",
    "xinter = interp1d(time, xpos, kind='nearest')\n",
    "yinter = interp1d(time, ypos, kind='nearest')"
   ]
  },
  {
   "cell_type": "code",
   "execution_count": 426,
   "metadata": {},
   "outputs": [],
   "source": [
    "#u7pos is an interpolation from 0 to 1000 \n",
    "#u7test"
   ]
  },
  {
   "cell_type": "code",
   "execution_count": 599,
   "metadata": {},
   "outputs": [],
   "source": [
    "u7 = u7[u7['GPS_time'] <= 1100]  \n",
    "u8 = u8[u8['GPS_time'] <= 1100]  \n",
    "u13 = u13[u13['GPS_time'] <= 1100]  \n",
    "u20 = u20[u20['GPS_time'] <= 1100]  \n"
   ]
  },
  {
   "cell_type": "code",
   "execution_count": 600,
   "metadata": {},
   "outputs": [],
   "source": [
    "tnew = np.linspace(0, 1000, num=1001)\n",
    "u7pos = pd.DataFrame({'time':tnew, 'xpos':interp1d(u7['GPS_time'], u7['x'], kind='nearest')(tnew),\n",
    "                      'ypos':interp1d(u7['GPS_time'], u7['y'], kind='nearest')(tnew)})\n",
    "\n",
    "u8pos = pd.DataFrame({'time':tnew, 'xpos':interp1d(u8['GPS_time'], u8['x'], kind='nearest')(tnew),\n",
    "                      'ypos':interp1d(u8['GPS_time'], u8['y'], kind='nearest')(tnew)})\n",
    "\n",
    "u13pos = pd.DataFrame({'time':tnew, 'xpos':interp1d(u13['GPS_time'], u13['x'], kind='nearest')(tnew),\n",
    "                      'ypos':interp1d(u13['GPS_time'], u13['y'], kind='nearest')(tnew)})\n",
    "\n",
    "u20pos = pd.DataFrame({'time':tnew, 'xpos':interp1d(u20['GPS_time'], u20['x'], kind='nearest')(tnew),\n",
    "                      'ypos':interp1d(u20['GPS_time'], u20['y'], kind='nearest')(tnew)})"
   ]
  },
  {
   "cell_type": "code",
   "execution_count": 715,
   "metadata": {},
   "outputs": [],
   "source": [
    "u7snaps['dirtimer'] = u7snaps['dirtime'].round()\n",
    "u7snaps = u7snaps.loc[:, ['dirtime', 'dirtimer']];\n",
    "u7postime = u7pos.iloc[u7snaps[u7snaps['dirtimer'] < 1000]['dirtimer']]\n",
    "\n",
    "u8snaps['dirtimer'] = u8snaps['dirtime'].round()\n",
    "u8snaps = u8snaps.loc[:, ['dirtime', 'dirtimer']];\n",
    "u8postime = u8pos.iloc[u8snaps[u8snaps['dirtimer'] < 1000]['dirtimer']]\n",
    "\n",
    "u13snaps['dirtimer'] = u13snaps['dirtime'].round()\n",
    "u13snaps = u13snaps.loc[:, ['dirtime', 'dirtimer']];\n",
    "u13postime = u13pos.iloc[u13snaps[u13snaps['dirtimer'] < 1000]['dirtimer']]\n",
    "\n",
    "u20snaps['dirtimer'] = u20snaps['dirtime'].round()\n",
    "u20snaps = u20snaps.loc[:, ['dirtime', 'dirtimer']];\n",
    "u20postime = u20pos.iloc[u20snaps[u20snaps['dirtimer'] < 1000]['dirtimer']]"
   ]
  },
  {
   "cell_type": "code",
   "execution_count": null,
   "metadata": {},
   "outputs": [],
   "source": [
    "direct = pd.DataFrame()\n",
    "\n",
    "direct['u7dir'] = u7snaps[u7snaps['dirtimer'] < 1000]['dirtime']\n",
    "direct['u8dir'] = u8snaps[u8snaps['dirtimer'] < 1000]['dirtime']\n",
    "direct['u13dir'] = u13snaps[u13snaps['dirtimer'] < 1000]['dirtime']\n",
    "direct['u20dir'] = u20snaps[u20snaps['dirtimer'] < 1000]['dirtime']\n",
    "\n",
    "direct\n",
    "dirdiff = pd.DataFrame()\n",
    "dirdiff['7-8'] = direct['u7dir']-direct['u8dir']\n",
    "dirdiff['7-13'] = direct['u7dir']-direct['u13dir']\n",
    "dirdiff['7-20'] = direct['u7dir']-direct['u20dir']\n",
    "dirdiff['8-13'] = direct['u8dir']-direct['u13dir']\n",
    "dirdiff['8-20'] = direct['u8dir']-direct['u20dir']\n",
    "dirdiff['13-20'] = direct['u13dir']-direct['u20dir']\n",
    "\n",
    "dirdiff.insert(0, \"time\", u7snaps['dirtimer'])\n"
   ]
  },
  {
   "cell_type": "code",
   "execution_count": 803,
   "metadata": {},
   "outputs": [],
   "source": [
    "def getPosAtTime(s):\n",
    "    u7p = [u7postime.loc[u7postime['time']==s]['xpos'],u7postime.loc[u7postime['time']==s]['ypos']]\n",
    "    u8p = [u8postime.loc[u8postime['time']==s]['xpos'],u8postime.loc[u8postime['time']==s]['ypos']]\n",
    "    u13p = [u13postime.loc[u13postime['time']==s]['xpos'],u13postime.loc[u13postime['time']==s]['ypos']]\n",
    "    u20p = [u20postime.loc[u20postime['time']==s]['xpos'],u20postime.loc[u20postime['time']==s]['ypos']]\n",
    "    return [u7p, u8p, u13p, u20p]\n",
    "\n",
    "#getTimeDiff at signal specified at second s\n",
    "def getTimeDiffAtTime(s):\n",
    "    return dirdiff.loc[dirdiff['time']==s].values[0][1:7]\n",
    "\n"
   ]
  },
  {
   "cell_type": "code",
   "execution_count": null,
   "metadata": {},
   "outputs": [],
   "source": []
  },
  {
   "cell_type": "code",
   "execution_count": 804,
   "metadata": {},
   "outputs": [],
   "source": [
    "auvPos = getPosAtTime(6)\n",
    "timediff = getTimeDiffAtTime(6)\n",
    "\n"
   ]
  },
  {
   "cell_type": "code",
   "execution_count": 808,
   "metadata": {},
   "outputs": [
    {
     "name": "stdout",
     "output_type": "stream",
     "text": [
      "[-136994.8462432  -347675.95151661]\n",
      "2.53787613951\n"
     ]
    }
   ],
   "source": [
    "def getDiffFromShrimp(shrimpPos, auvPos):\n",
    "    diff = [[0,0],[0,0],[0,0],[0,0]]\n",
    "    for i in range(len(auvPos)):\n",
    "        diff[i] = [float(shrimpPos[0] - auvPos[i][0]),float(shrimpPos[1] - auvPos[i][1])];\n",
    "        \n",
    "    return diff\n",
    "\n",
    "\n",
    "def loss(s):\n",
    "    error = np.zeros(6)\n",
    "    k = 0\n",
    "    diff = getDiffFromShrimp(s, auvPos)\n",
    "    for i in range(4):\n",
    "        for j in range(i+1,4):\n",
    "            #print(i,j)\n",
    "            error[k] = timediff[k]-(np.linalg.norm(diff[i])-np.linalg.norm(diff[j]))\n",
    "            k = k+1\n",
    "    return error\n",
    "\n",
    "from scipy.optimize import least_squares\n",
    "#shrimp location estimate\n",
    "initial_estimates=[30,30]\n",
    "res = least_squares(loss, initial_estimates)\n",
    "print(res.x[1]/res.x[0])"
   ]
  },
  {
   "cell_type": "code",
   "execution_count": 796,
   "metadata": {},
   "outputs": [
    {
     "data": {
      "text/plain": [
       "122.595688"
      ]
     },
     "execution_count": 796,
     "metadata": {},
     "output_type": "execute_result"
    }
   ],
   "source": [
    "float(diff[1][0])"
   ]
  },
  {
   "cell_type": "code",
   "execution_count": null,
   "metadata": {},
   "outputs": [],
   "source": []
  }
 ],
 "metadata": {
  "kernelspec": {
   "display_name": "Python 3",
   "language": "python",
   "name": "python3"
  },
  "language_info": {
   "codemirror_mode": {
    "name": "ipython",
    "version": 3
   },
   "file_extension": ".py",
   "mimetype": "text/x-python",
   "name": "python",
   "nbconvert_exporter": "python",
   "pygments_lexer": "ipython3",
   "version": "3.5.2"
  }
 },
 "nbformat": 4,
 "nbformat_minor": 2
}
