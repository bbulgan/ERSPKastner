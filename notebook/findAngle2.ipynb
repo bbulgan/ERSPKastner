{
 "cells": [
  {
   "cell_type": "code",
   "execution_count": 86,
   "metadata": {},
   "outputs": [],
   "source": [
    "import random as rand\n",
    "import numpy as np\n",
    "import matplotlib.pyplot as plt"
   ]
  },
  {
   "cell_type": "code",
   "execution_count": 87,
   "metadata": {
    "collapsed": true
   },
   "outputs": [],
   "source": [
    "auvRange = 20\n",
    "shrimpRange = 100\n",
    "#rate = shrimpRange/auvRange\n",
    "timeNoiseRange = 0.0005\n",
    "distNoiseRange = (1/100)*auvRange\n",
    "\n",
    "auvPos = [[0,0],[0,0],[0,0],[0,0]]\n",
    "auvPosWN = [[0,0],[0,0],[0,0],[0,0]]\n",
    "\n",
    "def createPositions(auvPos):\n",
    "    for i in range(len(auvPos)):\n",
    "        auvPos[i] = [rand.random()*auvRange, rand.random()*auvRange]\n",
    "        rand1 = rand.random()*distNoiseRange \n",
    "        rand2 = rand.random()*distNoiseRange\n",
    "        auvPosWN[i] = [(auvPos[i][0]+rand1),(auvPos[i][1]+rand2)]\n",
    "    return auvPos,auvPosWN\n",
    "auvPos,auvPosWN = createPositions(auvPos)\n",
    "\n",
    "shrimpPos = [rand.random()*shrimpRange, rand.random()*shrimpRange]\n",
    "#print(auvPos)\n",
    "#print(auvPosWN)"
   ]
  },
  {
   "cell_type": "code",
   "execution_count": 88,
   "metadata": {
    "collapsed": true
   },
   "outputs": [],
   "source": [
    "diff = [[0,0],[0,0],[0,0],[0,0]]\n",
    "def getDiffFromShrimp(shrimpPos, auvPos):\n",
    "    for i in range(len(auvPos)):\n",
    "        diff[i] = [shrimpPos[0] - auvPos[i][0],shrimpPos[1] - auvPos[i][1]];\n",
    "        \n",
    "    return diff\n",
    "\n",
    "diff = getDiffFromShrimp(shrimpPos, auvPos)\n",
    "#diff = getDiffFromShrimp(shrimpPos, auvPosWN)\n",
    "#auvPos = auvPosWN"
   ]
  },
  {
   "cell_type": "code",
   "execution_count": 91,
   "metadata": {},
   "outputs": [],
   "source": [
    "functions = []\n",
    "soundSpeed = 1498\n",
    "#gets deltas in seconds\n",
    "def getMags():\n",
    "    mag = [[0,0],[0,0],[0,0],[0,0],[0,0],[0,0]]\n",
    "    k = 0\n",
    "    for i in range(4):\n",
    "        for j in range(i+1, 4):\n",
    "           # print(i,j)\n",
    "            mag[k] = (np.linalg.norm(diff[i])-np.linalg.norm(diff[j])) /1498\n",
    "            #mag[k] = mag[k] + rand.random()*noiseRange;\n",
    "            k = k+1\n",
    "    return mag\n",
    "#i want a for loop that prints 0,1 0,2 0,3 1,2,1,3 2,3 \n",
    "\n",
    "timediff = getMags()"
   ]
  },
  {
   "cell_type": "code",
   "execution_count": 92,
   "metadata": {
    "collapsed": true
   },
   "outputs": [],
   "source": [
    "def loss(s):\n",
    "    error = np.zeros(6)\n",
    "    k = 0\n",
    "    diff = getDiffFromShrimp(s, auvPos)\n",
    "    for i in range(4):\n",
    "        for j in range(i+1,4):\n",
    "            #print(i,j)\n",
    "            error[k] = timediff[k]-(np.linalg.norm(diff[i])-np.linalg.norm(diff[j]))/1498\n",
    "            k = k+1\n",
    "    return error"
   ]
  },
  {
   "cell_type": "code",
   "execution_count": 93,
   "metadata": {},
   "outputs": [
    {
     "name": "stdout",
     "output_type": "stream",
     "text": [
      "[ 317.75614118  189.54325872]\n",
      "[91.80399603850954, 50.82214128749148]\n"
     ]
    }
   ],
   "source": [
    "from scipy.optimize import least_squares\n",
    "#shrimp location estimate\n",
    "initial_estimates=shrimpPos\n",
    "res = least_squares(loss, initial_estimates)\n",
    "print(res.x)\n",
    "print(shrimpPos)"
   ]
  },
  {
   "cell_type": "code",
   "execution_count": 94,
   "metadata": {},
   "outputs": [
    {
     "name": "stdout",
     "output_type": "stream",
     "text": [
      "0.537845990146\n",
      "0.505598330945\n"
     ]
    }
   ],
   "source": [
    "res.cost\n",
    "#angle\n",
    "print(np.arctan(res.x[1]/res.x[0]))\n",
    "print(np.arctan(shrimpPos[1]/shrimpPos[0]))\n"
   ]
  },
  {
   "cell_type": "code",
   "execution_count": 95,
   "metadata": {},
   "outputs": [
    {
     "name": "stdout",
     "output_type": "stream",
     "text": [
      "50\n"
     ]
    },
    {
     "ename": "TypeError",
     "evalue": "unsupported operand type(s) for -: 'float' and 'list'",
     "output_type": "error",
     "traceback": [
      "\u001b[0;31m---------------------------------------------------------------------------\u001b[0m",
      "\u001b[0;31mTypeError\u001b[0m                                 Traceback (most recent call last)",
      "\u001b[0;32m<ipython-input-95-82c3a535d776>\u001b[0m in \u001b[0;36m<module>\u001b[0;34m()\u001b[0m\n\u001b[1;32m      6\u001b[0m \u001b[0;34m\u001b[0m\u001b[0m\n\u001b[1;32m      7\u001b[0m \u001b[0mauvPos\u001b[0m \u001b[0;34m=\u001b[0m \u001b[0mcreatePositions\u001b[0m\u001b[0;34m(\u001b[0m\u001b[0mauvPos\u001b[0m\u001b[0;34m)\u001b[0m\u001b[0;34m\u001b[0m\u001b[0m\n\u001b[0;32m----> 8\u001b[0;31m \u001b[0mdiff\u001b[0m \u001b[0;34m=\u001b[0m \u001b[0mgetDiffFromShrimp\u001b[0m\u001b[0;34m(\u001b[0m\u001b[0mshrimpPos\u001b[0m\u001b[0;34m,\u001b[0m \u001b[0mauvPos\u001b[0m\u001b[0;34m)\u001b[0m\u001b[0;34m\u001b[0m\u001b[0m\n\u001b[0m\u001b[1;32m      9\u001b[0m \u001b[0mauvPos\u001b[0m\u001b[0;34m,\u001b[0m\u001b[0mauvPosWN\u001b[0m \u001b[0;34m=\u001b[0m \u001b[0mcreatePositions\u001b[0m\u001b[0;34m(\u001b[0m\u001b[0mauvPos\u001b[0m\u001b[0;34m)\u001b[0m\u001b[0;34m\u001b[0m\u001b[0m\n",
      "\u001b[0;32m<ipython-input-88-3ed96d38ac49>\u001b[0m in \u001b[0;36mgetDiffFromShrimp\u001b[0;34m(shrimpPos, auvPos)\u001b[0m\n\u001b[1;32m      2\u001b[0m \u001b[0;32mdef\u001b[0m \u001b[0mgetDiffFromShrimp\u001b[0m\u001b[0;34m(\u001b[0m\u001b[0mshrimpPos\u001b[0m\u001b[0;34m,\u001b[0m \u001b[0mauvPos\u001b[0m\u001b[0;34m)\u001b[0m\u001b[0;34m:\u001b[0m\u001b[0;34m\u001b[0m\u001b[0m\n\u001b[1;32m      3\u001b[0m     \u001b[0;32mfor\u001b[0m \u001b[0mi\u001b[0m \u001b[0;32min\u001b[0m \u001b[0mrange\u001b[0m\u001b[0;34m(\u001b[0m\u001b[0mlen\u001b[0m\u001b[0;34m(\u001b[0m\u001b[0mauvPos\u001b[0m\u001b[0;34m)\u001b[0m\u001b[0;34m)\u001b[0m\u001b[0;34m:\u001b[0m\u001b[0;34m\u001b[0m\u001b[0m\n\u001b[0;32m----> 4\u001b[0;31m         \u001b[0mdiff\u001b[0m\u001b[0;34m[\u001b[0m\u001b[0mi\u001b[0m\u001b[0;34m]\u001b[0m \u001b[0;34m=\u001b[0m \u001b[0;34m[\u001b[0m\u001b[0mshrimpPos\u001b[0m\u001b[0;34m[\u001b[0m\u001b[0;36m0\u001b[0m\u001b[0;34m]\u001b[0m \u001b[0;34m-\u001b[0m \u001b[0mauvPos\u001b[0m\u001b[0;34m[\u001b[0m\u001b[0mi\u001b[0m\u001b[0;34m]\u001b[0m\u001b[0;34m[\u001b[0m\u001b[0;36m0\u001b[0m\u001b[0;34m]\u001b[0m\u001b[0;34m,\u001b[0m\u001b[0mshrimpPos\u001b[0m\u001b[0;34m[\u001b[0m\u001b[0;36m1\u001b[0m\u001b[0;34m]\u001b[0m \u001b[0;34m-\u001b[0m \u001b[0mauvPos\u001b[0m\u001b[0;34m[\u001b[0m\u001b[0mi\u001b[0m\u001b[0;34m]\u001b[0m\u001b[0;34m[\u001b[0m\u001b[0;36m1\u001b[0m\u001b[0;34m]\u001b[0m\u001b[0;34m]\u001b[0m\u001b[0;34m;\u001b[0m\u001b[0;34m\u001b[0m\u001b[0m\n\u001b[0m\u001b[1;32m      5\u001b[0m \u001b[0;34m\u001b[0m\u001b[0m\n\u001b[1;32m      6\u001b[0m     \u001b[0;32mreturn\u001b[0m \u001b[0mdiff\u001b[0m\u001b[0;34m\u001b[0m\u001b[0m\n",
      "\u001b[0;31mTypeError\u001b[0m: unsupported operand type(s) for -: 'float' and 'list'"
     ]
    }
   ],
   "source": [
    "#error = guess - real\n",
    "NoiseOfDistance = np.arange(0, 1, 0.02)\n",
    "print(len(errorOfDistance))\n",
    "\n",
    "shrimpPos = [rand.random()*shrimpRange, rand.random()*shrimpRange]\n",
    "\n",
    "auvPos = createPositions(auvPos)\n",
    "diff = getDiffFromShrimp(shrimpPos, auvPos)\n",
    "auvPos,auvPosWN = createPositions(auvPos)\n"
   ]
  },
  {
   "cell_type": "code",
   "execution_count": 266,
   "metadata": {
    "scrolled": true
   },
   "outputs": [
    {
     "name": "stdout",
     "output_type": "stream",
     "text": [
      "[ 66.687679    46.44983277]\n",
      "[10.366567606137089, 36.02419624487448]\n"
     ]
    },
    {
     "data": {
      "image/png": "[encoded data removed]",
      "text/plain": [
       "<matplotlib.figure.Figure at 0x7f74f14212e8>"
      ]
     },
     "metadata": {},
     "output_type": "display_data"
    },
    {
     "name": "stdout",
     "output_type": "stream",
     "text": [
      "-39.0876484154 (56.321111393008415, 10.425636529463738)\n",
      "[  15.66473953  114.12052179]\n",
      "[10.366567606137089, 36.02419624487448]\n",
      "True\n"
     ]
    }
   ],
   "source": [
    "\n",
    "results = []\n",
    "initial_est = []\n",
    "\n",
    "auvPos = [[0,0],[0,0],[0,0],[0,0]]\n",
    "auvPosWN = [[0,0],[0,0],[0,0],[0,0]]\n",
    "\n",
    "auvPos,auvPosWN = createPositions(auvPos)\n",
    "shrimpPos = [rand.random()*shrimpRange, rand.random()*shrimpRange]\n",
    "diff = getDiffFromShrimp(shrimpPos, auvPos)\n",
    "timediff = getMags()\n",
    "\n",
    "\n",
    "for i in range(15):\n",
    "    for j in range(15):\n",
    "        #initial_estimates = [rand.random()*shrimpRange, rand.random()*shrimpRange];\n",
    "        initial_estimates = [i * 5, j * 5];\n",
    "        initial_est.append(initial_estimates)\n",
    "        result = (least_squares(loss, initial_estimates))\n",
    "        if(result.success == False):\n",
    "            print(\"NO\")\n",
    "        plt.scatter(result.x[0], result.x[1], c='y')\n",
    "        results.append(result.x)\n",
    "\n",
    "x,y = zip(*auvPos)\n",
    "\n",
    "\n",
    "angleguess = np.arctan(res.x[1]/res.x[0])\n",
    "real = np.arctan(shrimpPos[1]/shrimpPos[0])\n",
    "anglediff = (angleguess - real)*180/np.pi\n",
    "posdiff = (res.x[0]-shrimpPos[0], res.x[1]-shrimpPos[1])\n",
    "\n",
    "#plt.plot([0,res.x[0]], [0, res.x[1]], marker = 'o',c='b')\n",
    "plt.scatter([shrimpPos[0]], [shrimpPos[1]], marker = 'o',c='r')\n",
    "\n",
    "plt.scatter(x,y)\n",
    "#plt.scatter(shrimpPos[0], shrimpPos[1])\n",
    "#plt.scatter(res.x[0], res.x[1], c='g')\n",
    "print(res.x)\n",
    "print(shrimpPos)\n",
    "plt.show()\n",
    "print(anglediff, posdiff)\n",
    "\n",
    "#print(results)\n",
    "print(result.x)\n",
    "print(shrimpPos)\n",
    "print(result.success)"
   ]
  },
  {
   "cell_type": "code",
   "execution_count": 263,
   "metadata": {
    "collapsed": true
   },
   "outputs": [],
   "source": [
    "#According to the least squares algorithm, convergence always occurs, but result is inaccurate\n",
    "\n",
    "auvPos = [[0,0],[0,0],[0,0],[0,0]]\n",
    "auvPosWN = [[0,0],[0,0],[0,0],[0,0]]\n",
    "\n",
    "auvPos,auvPosWN = createPositions(auvPos)\n",
    "shrimpPos = [rand.random()*shrimpRange, rand.random()*shrimpRange]\n",
    "diff = getDiffFromShrimp(shrimpPos, auvPos)\n",
    "timediff = getMags()"
   ]
  },
  {
   "cell_type": "code",
   "execution_count": null,
   "metadata": {
    "collapsed": true
   },
   "outputs": [],
   "source": []
  },
  {
   "cell_type": "code",
   "execution_count": null,
   "metadata": {
    "collapsed": true
   },
   "outputs": [],
   "source": []
  }
 ],
 "metadata": {
  "kernelspec": {
   "display_name": "Python 3",
   "language": "python",
   "name": "python3"
  },
  "language_info": {
   "codemirror_mode": {
    "name": "ipython",
    "version": 3
   },
   "file_extension": ".py",
   "mimetype": "text/x-python",
   "name": "python",
   "nbconvert_exporter": "python",
   "pygments_lexer": "ipython3",
   "version": "3.6.3"
  }
 },
 "nbformat": 4,
 "nbformat_minor": 2
}
