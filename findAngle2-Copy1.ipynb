{
 "cells": [
  {
   "cell_type": "code",
   "execution_count": 137,
   "metadata": {},
   "outputs": [],
   "source": [
    "import random as rand\n",
    "import numpy as np\n",
    "import matplotlib.pyplot as plt\n",
    "from scipy.optimize import least_squares\n"
   ]
  },
  {
   "cell_type": "code",
   "execution_count": 138,
   "metadata": {},
   "outputs": [],
   "source": [
    "#Gets the difference in position.\n",
    "def getDiffFromShrimp(shrimpPos, auvPos):\n",
    "    diff = [[0,0],[0,0],[0,0],[0,0]]\n",
    "\n",
    "    for i in range(len(auvPos)):\n",
    "        diff[i] = [shrimpPos[0] - auvPos[i][0],shrimpPos[1] - auvPos[i][1]];\n",
    "        \n",
    "    return diff\n"
   ]
  },
  {
   "cell_type": "code",
   "execution_count": 180,
   "metadata": {},
   "outputs": [],
   "source": [
    "#gets magnitude of position difference between each auvposition, and shrimp.\n",
    "\n",
    "def posdiffMagnitude(diff, error=0):\n",
    "    mag = [[0,0],[0,0],[0,0],[0,0],[0,0],[0,0]]\n",
    "    k = 0\n",
    "    for i in range(4):\n",
    "        for j in range(i+1, 4):\n",
    "            mag[k] = (np.linalg.norm(diff[i])-np.linalg.norm(diff[j]))\n",
    "            mag[k] = mag[k] + error;\n",
    "\n",
    "            k = k+1\n",
    "    return mag\n"
   ]
  },
  {
   "cell_type": "code",
   "execution_count": 494,
   "metadata": {},
   "outputs": [
    {
     "name": "stdout",
     "output_type": "stream",
     "text": [
      "[18.362684616102193, 18.362684616102193, 56.568542494923804, 0.0, 38.205857878821611, 38.205857878821611]\n",
      "[17.476819153353894, 18.675982344651306, 56.562782580857231, 0.19133980301016196, 37.376463731707055, 38.349564443613282]\n"
     ]
    }
   ],
   "source": [
    "auvPos = [[0,0],[0,0],[0,0],[0,0]]\n",
    "pivotAuv = [20, 20];\n",
    "auvPos[0] = pivotAuv;\n",
    "auvPos[1] = [pivotAuv[0]+50, pivotAuv[1]];\n",
    "auvPos[2] = [pivotAuv[0], pivotAuv[1]+50];\n",
    "auvPos[3] = [pivotAuv[0]+50, pivotAuv[1]+50];\n",
    "shrimpPos=[65,65]\n",
    "\n",
    "posidiff = getDiffFromShrimp(shrimpPos, auvPos)\n",
    "posidiff = posdiffMagnitude(posidiff)\n",
    "\n",
    "print(posidiff)\n",
    "\n",
    "posidiff = getDiffFromShrimp(shrimpPos, auvPos)\n",
    "posidiff = posdiffMagnitude(posidiff, error=1)\n",
    "\n",
    "print(posidiff)\n"
   ]
  },
  {
   "cell_type": "code",
   "execution_count": 165,
   "metadata": {},
   "outputs": [],
   "source": [
    "def loss(s):\n",
    "    error = np.zeros(6)\n",
    "    k = 0\n",
    "    diff = getDiffFromShrimp(s, auvPos)\n",
    "    for i in range(4):\n",
    "        for j in range(i+1,4):\n",
    "            #print(i,j)\n",
    "            error[k] = posidiff[k]-(np.linalg.norm(diff[i])-np.linalg.norm(diff[j]))\n",
    "            k = k+1\n",
    "    return error"
   ]
  },
  {
   "cell_type": "code",
   "execution_count": 198,
   "metadata": {},
   "outputs": [
    {
     "data": {
      "image/png": "[encoded data removed]",
      "text/plain": [
       "<matplotlib.figure.Figure at 0x7f01a4e7fb00>"
      ]
     },
     "metadata": {},
     "output_type": "display_data"
    }
   ],
   "source": [
    "auvPos = [[0,0],[0,0],[0,0],[0,0]]\n",
    "pivotAuv = [20, 20];\n",
    "auvPos[0] = pivotAuv;\n",
    "auvPos[1] = [pivotAuv[0]+50, pivotAuv[1]];\n",
    "auvPos[2] = [pivotAuv[0], pivotAuv[1]+50];\n",
    "auvPos[3] = [pivotAuv[0]+50, pivotAuv[1]+50];\n",
    "shrimpPos=[65,65]\n",
    "\n",
    "posidiff = getDiffFromShrimp(shrimpPos, auvPos)\n",
    "posidiff = posdiffMagnitude(posidiff)\n",
    "\n",
    "for i in range(-100, 100, 10):\n",
    "    for j in range(-100, 100, 10):\n",
    "        initial = [i,j]\n",
    "        res = least_squares(loss, initial)\n",
    "        #plt.plot([initial[0],res.x[0]], [initial[1], res.x[1]],c='r')\n",
    "\n",
    "        plt.scatter(res.x[0], res.x[1], marker = 'x', c='r');\n",
    "\n",
    "x,y = zip(*auvPos)\n",
    "plt.scatter(x,y);\n",
    "\n",
    "#plt.scatter(res.x[0], res.x[1], marker = 'x', c='r');\n",
    "plt.scatter(shrimpPos[0], shrimpPos[1], marker = 's', c='g');\n",
    "plt.show();\n",
    "\n"
   ]
  },
  {
   "cell_type": "code",
   "execution_count": 152,
   "metadata": {},
   "outputs": [
    {
     "name": "stdout",
     "output_type": "stream",
     "text": [
      "[ 50.  55.]\n",
      "0.0\n"
     ]
    }
   ],
   "source": [
    "print(res.x)\n",
    "print(np.arctan(res.x[1]/res.x[0]) - np.arctan(shrimpPos[1]/shrimpPos[0]))"
   ]
  },
  {
   "cell_type": "code",
   "execution_count": 260,
   "metadata": {},
   "outputs": [
    {
     "data": {
      "text/plain": [
       "0.47611221490918326"
      ]
     },
     "execution_count": 260,
     "metadata": {},
     "output_type": "execute_result"
    }
   ],
   "source": [
    "a = np.random.randn();\n",
    "a"
   ]
  },
  {
   "cell_type": "code",
   "execution_count": 349,
   "metadata": {},
   "outputs": [
    {
     "data": {
      "image/png": "[encoded data removed]",
      "text/plain": [
       "<matplotlib.figure.Figure at 0x7f01a4bf5358>"
      ]
     },
     "metadata": {},
     "output_type": "display_data"
    },
    {
     "name": "stdout",
     "output_type": "stream",
     "text": [
      "\n"
     ]
    }
   ],
   "source": [
    "auvPos = [[0,0],[0,0],[0,0],[0,0]]\n",
    "pivotAuv = [40, 40];\n",
    "auvPos[0] = pivotAuv;\n",
    "auvPos[1] = [pivotAuv[0]+50, pivotAuv[1]];\n",
    "auvPos[2] = [pivotAuv[0], pivotAuv[1]+50];\n",
    "auvPos[3] = [pivotAuv[0]+50, pivotAuv[1]+50];\n",
    "shrimpPos=[70,70]\n",
    "initial=[40, 40]\n",
    "errors = []\n",
    "for i in range(-1, 20, 1):\n",
    "    error = 10**(-1*i)*np.random.randn();\n",
    "    posidiff = getDiffFromShrimp(shrimpPos, auvPos)\n",
    "    posidiff = posdiffMagnitude(posidiff, error=error)\n",
    "    res = least_squares(loss, initial)\n",
    "    errors.append([error, res.x])\n",
    "    plt.scatter(res.x[0], res.x[1], marker = 'o', c='r');\n",
    "    #print(10**(-1*i))\n",
    "                  \n",
    "x,y = zip(*auvPos)\n",
    "plt.scatter(x,y);\n",
    "plt.scatter(shrimpPos[0], shrimpPos[1], marker = 's', c='g');\n",
    "\n",
    "plt.show();\n",
    "\n",
    "print()"
   ]
  },
  {
   "cell_type": "code",
   "execution_count": 300,
   "metadata": {},
   "outputs": [
    {
     "data": {
      "text/plain": [
       "0.5521882748215672"
      ]
     },
     "execution_count": 300,
     "metadata": {},
     "output_type": "execute_result"
    }
   ],
   "source": [
    "np.random.randn()"
   ]
  },
  {
   "cell_type": "code",
   "execution_count": 478,
   "metadata": {},
   "outputs": [],
   "source": [
    "auvr = 50; #auvrange\n",
    "sr = 50; #squarerange\n",
    "shr = 400; #shrimprange\n",
    "errors = []\n",
    "errorangle = []\n",
    "for i in range(30):\n",
    "    pivotAuv = [50*np.random.randn(), auvRange*np.random.randn()]\n",
    "    auvPos[0] = pivotAuv;\n",
    "    auvPos[1] = [pivotAuv[0]+sr, pivotAuv[1]];\n",
    "    auvPos[2] = [pivotAuv[0], pivotAuv[1]+sr];\n",
    "    auvPos[3] = [pivotAuv[0]+sr, pivotAuv[1]+sr];\n",
    "    \n",
    "    shrimpPos=[400*np.random.randn(),400*np.random.randn()]\n",
    "    initial=auvPos[3]\n",
    "    posidiff = getDiffFromShrimp(shrimpPos, auvPos)\n",
    "    posidiff = posdiffMagnitude(posidiff, error=10**(-1*i)*np.random.randn())\n",
    "    res = least_squares(loss, initial)\n",
    "    errors.append((0, np.linalg.norm(res.x-shrimpPos)))\n",
    "    errorangle.append((0, abs(np.arctan(res.x[1]/res.x[0]) - np.arctan(shrimpPos[1]/shrimpPos[0]))))\n",
    "    \n",
    "    for i in range(-1, 4, 1):\n",
    "        posidiff = getDiffFromShrimp(shrimpPos, auvPos)\n",
    "        posidiff = posdiffMagnitude(posidiff, error=10**(-1*i)*np.random.randn())\n",
    "        res = least_squares(loss, initial)\n",
    "        errors.append((10**(-1*i), np.linalg.norm(res.x-shrimpPos)))\n",
    "        errorangle.append((10**(-1*i), abs(np.arctan(res.x[1]/res.x[0]) - np.arctan(shrimpPos[1]/shrimpPos[0]))))\n",
    "\n",
    "        #plt.scatter(res.x[0], res.x[1], marker = 'o', c='r');\n",
    "        #print(10**(-1*i))\n",
    "                  \n"
   ]
  },
  {
   "cell_type": "code",
   "execution_count": 505,
   "metadata": {},
   "outputs": [
    {
     "data": {
      "text/plain": [
       "0.04505628693120357"
      ]
     },
     "execution_count": 505,
     "metadata": {},
     "output_type": "execute_result"
    }
   ],
   "source": [
    "10**(-1*1)*np.random.randn()"
   ]
  },
  {
   "cell_type": "code",
   "execution_count": 490,
   "metadata": {},
   "outputs": [
    {
     "data": {
      "image/png": "[encoded data removed]",
      "text/plain": [
       "<matplotlib.figure.Figure at 0x7f01a4b648d0>"
      ]
     },
     "metadata": {},
     "output_type": "display_data"
    },
    {
     "data": {
      "image/png": "[encoded data removed]",
      "text/plain": [
       "<matplotlib.figure.Figure at 0x7f01a4ea20f0>"
      ]
     },
     "metadata": {},
     "output_type": "display_data"
    }
   ],
   "source": [
    "x,y = zip(*errors)\n",
    "xa, ya = zip(*errorangle)\n",
    "plt.scatter(x,y)\n",
    "plt.yscale('log')\n",
    "plt.xscale('log')\n",
    "plt.xlim([10e-6,10e2])\n",
    "plt.ylim([1, 10e2])\n",
    "plt.xlabel('measurement inaccuracy (m)')\n",
    "plt.ylabel('distance error (m)')\n",
    "plt.rc('xtick', labelsize=15)\n",
    "plt.rc('ytick', labelsize=15) \n",
    "plt.rc('axes', labelsize=20)     # fontsize of the axes title\n",
    "plt.show();\n",
    "\n",
    "\n",
    "plt.scatter(xa,ya)\n",
    "plt.xscale('log')\n",
    "plt.xlim([10e-6,10e2])\n",
    "plt.ylim([0, 0.5])\n",
    "plt.xlabel('measurement inaccuracy (m)')\n",
    "plt.ylabel('angle error (rad)')\n",
    "plt.rc('xtick', labelsize=15) \n",
    "plt.rc('ytick', labelsize=15) \n",
    "plt.rc('axes', labelsize=20) \n",
    "plt.show();\n"
   ]
  },
  {
   "cell_type": "code",
   "execution_count": 469,
   "metadata": {},
   "outputs": [
    {
     "data": {
      "text/plain": [
       "[(10, 0.047346872315209454),\n",
       " (1, 0.023560875574611118),\n",
       " (0.1, 0.00030117187551914615),\n",
       " (0.01, 5.7133456439095731e-05),\n",
       " (0.001, 2.5559855285794963e-05),\n",
       " (10, 0.4073042637230711),\n",
       " (1, 0.032872464176409766),\n",
       " (0.1, 0.41457550473827731),\n",
       " (0.01, 0.4140162548477867),\n",
       " (0.001, 0.41402419726752382),\n",
       " (10, 0.70222780364331661),\n",
       " (1, 0.031221652260588706),\n",
       " (0.1, 0.0030369944647009595),\n",
       " (0.01, 0.0015875350789856801),\n",
       " (0.001, 0.00012469008299120787),\n",
       " (10, 1.5129630318937488),\n",
       " (1, 0.0019772759866195644),\n",
       " (0.1, 0.0046063209344548994),\n",
       " (0.01, 0.00022758195608330034),\n",
       " (0.001, 2.6929529525543394e-05),\n",
       " (10, 0.00077317405082938384),\n",
       " (1, 0.02881299069078741),\n",
       " (0.1, 0.0036811269138768699),\n",
       " (0.01, 6.819403424201953e-06),\n",
       " (0.001, 6.7283946921237181e-06),\n",
       " (10, 2.3807227298556923),\n",
       " (1, 0.00063694353475973742),\n",
       " (0.1, 0.000700788059063151),\n",
       " (0.01, 4.3962216219495254e-05),\n",
       " (0.001, 5.1062216271380301e-05),\n",
       " (10, 0.015051411904402345),\n",
       " (1, 0.0014296420344423466),\n",
       " (0.1, 0.00010188888669870888),\n",
       " (0.01, 4.5810967430726102e-05),\n",
       " (0.001, 3.6745631160073344e-07),\n",
       " (10, 0.16830214913843355),\n",
       " (1, 0.0015407901822547254),\n",
       " (0.1, 0.00049479297048360404),\n",
       " (0.01, 0.00041001270760643305),\n",
       " (0.001, 7.3313800572627486e-06),\n",
       " (10, 0.016227459017451595),\n",
       " (1, 0.010072245531713708),\n",
       " (0.1, 0.00087200049750646436),\n",
       " (0.01, 0.00036808815529987271),\n",
       " (0.001, 1.763148933076053e-05),\n",
       " (10, 0.096651803791194313),\n",
       " (1, 0.11044398193826421),\n",
       " (0.1, 0.11126123105023622),\n",
       " (0.01, 0.11157810941271717),\n",
       " (0.001, 0.1113855951958197),\n",
       " (10, 0.046479814344464465),\n",
       " (1, 0.03450355522141435),\n",
       " (0.1, 4.6761488725621803e-07),\n",
       " (0.01, 7.6242601167786361e-05),\n",
       " (0.001, 1.0022138243748202e-06),\n",
       " (10, 0.073423127281144029),\n",
       " (1, 0.062146504556971016),\n",
       " (0.1, 0.00020613775582678517),\n",
       " (0.01, 3.9911289164695773e-06),\n",
       " (0.001, 0.00010351843234057689),\n",
       " (10, 0.14540486561962163),\n",
       " (1, 0.0356099441276716),\n",
       " (0.1, 0.003756932598318885),\n",
       " (0.01, 0.00030221277519726364),\n",
       " (0.001, 1.3033119128591508e-05),\n",
       " (10, 0.23056742973487554),\n",
       " (1, 0.013984252246474344),\n",
       " (0.1, 0.0048980908520588617),\n",
       " (0.01, 7.658992291231792e-05),\n",
       " (0.001, 3.8040621065049685e-05),\n",
       " (10, 0.0020748951510490832),\n",
       " (1, 0.0097440911732380731),\n",
       " (0.1, 0.00096042823058567484),\n",
       " (0.01, 0.00032418935761080458),\n",
       " (0.001, 1.0953020395387814e-05),\n",
       " (10, 0.022037154763962397),\n",
       " (1, 0.011781355057536302),\n",
       " (0.1, 0.00035128374530146722),\n",
       " (0.01, 6.6438923824518881e-05),\n",
       " (0.001, 0.00015052086779898666),\n",
       " (10, 0.12135430094684713),\n",
       " (1, 0.044677178489202773),\n",
       " (0.1, 0.00592197842342157),\n",
       " (0.01, 0.00061210478708634275),\n",
       " (0.001, 0.00010385291070202918),\n",
       " (10, 0.052815302058640823),\n",
       " (1, 9.097487529929893e-05),\n",
       " (0.1, 0.00037703348459316999),\n",
       " (0.01, 0.00014198780827334723),\n",
       " (0.001, 1.320164349838393e-06),\n",
       " (10, 0.050678558825496767),\n",
       " (1, 0.010282806985630222),\n",
       " (0.1, 0.00030460802160381384),\n",
       " (0.01, 0.00012225827370815345),\n",
       " (0.001, 2.0999815008027056e-06),\n",
       " (10, 0.062585228213731373),\n",
       " (1, 0.018141729894087674),\n",
       " (0.1, 8.6802668987237541e-05),\n",
       " (0.01, 1.7215460016012374e-06),\n",
       " (0.001, 9.8191102953781861e-06),\n",
       " (10, 2.711450421077632),\n",
       " (1, 0.0017832007057336785),\n",
       " (0.1, 1.056806990362702e-06),\n",
       " (0.01, 0.00052818618095029635),\n",
       " (0.001, 2.9763044274044859e-05),\n",
       " (10, 0.12171131622379124),\n",
       " (1, 0.012711161555152922),\n",
       " (0.1, 0.001163726522916797),\n",
       " (0.01, 1.2494659919926043e-05),\n",
       " (0.001, 1.4185881175521331e-05),\n",
       " (10, 0.14926046040492252),\n",
       " (1, 0.14516296561076014),\n",
       " (0.1, 0.011212150750979588),\n",
       " (0.01, 0.00045377810740976354),\n",
       " (0.001, 6.4614166960352826e-05),\n",
       " (10, 0.40493765918291103),\n",
       " (1, 0.00078601342924600193),\n",
       " (0.1, 0.0014646329374138345),\n",
       " (0.01, 3.7623932189201348e-05),\n",
       " (0.001, 6.4919392097628759e-06),\n",
       " (10, 0.14144085945846058),\n",
       " (1, 0.0095353153138070523),\n",
       " (0.1, 0.0037122512752429948),\n",
       " (0.01, 0.00073882618174730963),\n",
       " (0.001, 4.9012490899752459e-05),\n",
       " (10, 0.34753432325169897),\n",
       " (1, 0.011255143188242389),\n",
       " (0.1, 0.0040140365899672403),\n",
       " (0.01, 9.792275600828404e-06),\n",
       " (0.001, 2.5363174603887373e-05),\n",
       " (10, 0.061603213874918628),\n",
       " (1, 0.008646828887976854),\n",
       " (0.1, 3.0490342084354971e-05),\n",
       " (0.01, 3.9373760055361195e-05),\n",
       " (0.001, 3.9891549473702881e-06),\n",
       " (10, 0.0050585657082594781),\n",
       " (1, 0.016580288596775832),\n",
       " (0.1, 0.0012984251058350566),\n",
       " (0.01, 9.3651426230783458e-05),\n",
       " (0.001, 4.4285388994497882e-05),\n",
       " (10, 0.039657239446920012),\n",
       " (1, 0.015712832008202615),\n",
       " (0.1, 0.00074194695430584989),\n",
       " (0.01, 8.4757901199661312e-05),\n",
       " (0.001, 7.0464733523678547e-06),\n",
       " (10, 0.11329467403450888),\n",
       " (1, 0.022689975111999106),\n",
       " (0.1, 0.0014807970679473481),\n",
       " (0.01, 4.8164579942167052e-06),\n",
       " (0.001, 1.3541141966388892e-05)]"
      ]
     },
     "execution_count": 469,
     "metadata": {},
     "output_type": "execute_result"
    }
   ],
   "source": [
    "errorangle"
   ]
  },
  {
   "cell_type": "code",
   "execution_count": 215,
   "metadata": {},
   "outputs": [
    {
     "name": "stdout",
     "output_type": "stream",
     "text": [
      "[-11745. -11745.]\n",
      "0.0\n"
     ]
    }
   ],
   "source": [
    "print(res.x)\n",
    "print(np.arctan(res.x[1]/res.x[0]) - np.arctan(shrimpPos[1]/shrimpPos[0]))"
   ]
  },
  {
   "cell_type": "code",
   "execution_count": 216,
   "metadata": {},
   "outputs": [
    {
     "data": {
      "text/plain": [
       "[0.00046378442318079831,\n",
       " -1.5064823166743319e-05,\n",
       " 0.0012538075735702584,\n",
       " 0.00066696091026603819,\n",
       " 0.00061682473995828624,\n",
       " 0.00044789025839272448]"
      ]
     },
     "execution_count": 216,
     "metadata": {},
     "output_type": "execute_result"
    }
   ],
   "source": [
    "posidiff = getDiffFromShrimp(shrimpPos, auvPos)\n",
    "posidiff = posdiffMagnitude(posidiff, error=1e-3)\n",
    "posidiff"
   ]
  },
  {
   "cell_type": "code",
   "execution_count": 187,
   "metadata": {},
   "outputs": [
    {
     "data": {
      "text/plain": [
       "[18.362684616102193,\n",
       " 18.362684616102193,\n",
       " 56.568542494923804,\n",
       " 0.0,\n",
       " 38.205857878821611,\n",
       " 38.205857878821611]"
      ]
     },
     "execution_count": 187,
     "metadata": {},
     "output_type": "execute_result"
    }
   ],
   "source": [
    "posidiff = getDiffFromShrimp(shrimpPos, auvPos)\n",
    "posidiff = posdiffMagnitude(posidiff, error=0)\n",
    "posidiff"
   ]
  },
  {
   "cell_type": "code",
   "execution_count": 185,
   "metadata": {},
   "outputs": [
    {
     "data": {
      "text/plain": [
       "[0.00013036843791880415,\n",
       " -38.205715206028898,\n",
       " 18.361489024373682,\n",
       " -38.205845574466814,\n",
       " 18.361358655935764,\n",
       " 56.567204230402581]"
      ]
     },
     "execution_count": 185,
     "metadata": {},
     "output_type": "execute_result"
    }
   ],
   "source": [
    "posidiff"
   ]
  },
  {
   "cell_type": "code",
   "execution_count": 512,
   "metadata": {},
   "outputs": [],
   "source": [
    "auvPos[0] = [-91, 731]\n",
    "auvPos[1] = [-96, 687]\n",
    "auvPos[2] = [-12, 675]\n",
    "auvPos[3] = [-43, 723];\n",
    "shrimpPos=[-58, 688]\n",
    "initial=[-120, -80]\n",
    "posidiff = getDiffFromShrimp(shrimpPos, auvPos)\n",
    "posidiff = posdiffMagnitude(posidiff, error=0)\n",
    "res = least_squares(loss, initial)"
   ]
  },
  {
   "cell_type": "code",
   "execution_count": 511,
   "metadata": {},
   "outputs": [
    {
     "data": {
      "text/plain": [
       "array([ -58.,  688.])"
      ]
     },
     "execution_count": 511,
     "metadata": {},
     "output_type": "execute_result"
    }
   ],
   "source": [
    "ires.x"
   ]
  },
  {
   "cell_type": "code",
   "execution_count": 513,
   "metadata": {},
   "outputs": [],
   "source": [
    "posidiff = getDiffFromShrimp(shrimpPos, auvPos)\n",
    "posidiff = posdiffMagnitude(posidiff, error=0)"
   ]
  },
  {
   "cell_type": "code",
   "execution_count": 516,
   "metadata": {},
   "outputs": [
    {
     "data": {
      "text/plain": [
       "[16.190165313974184,\n",
       " 6.4016473206021303,\n",
       " 16.124455402151064,\n",
       " -9.7885179933720536,\n",
       " -0.065709911823120137,\n",
       " 9.7228080815489335]"
      ]
     },
     "execution_count": 516,
     "metadata": {},
     "output_type": "execute_result"
    }
   ],
   "source": [
    "posidiff"
   ]
  },
  {
   "cell_type": "code",
   "execution_count": 518,
   "metadata": {},
   "outputs": [],
   "source": [
    "newList = [x / 1498 for x in posidiff]"
   ]
  },
  {
   "cell_type": "code",
   "execution_count": 527,
   "metadata": {},
   "outputs": [
    {
     "data": {
      "text/plain": [
       "[0.010807854014669015,\n",
       " 0.0042734628308425436,\n",
       " 0.010763988919994034,\n",
       " -0.006534391183826471,\n",
       " -4.3865094674980062e-05,\n",
       " 0.0064905260891514908]"
      ]
     },
     "execution_count": 527,
     "metadata": {},
     "output_type": "execute_result"
    }
   ],
   "source": [
    "newList"
   ]
  },
  {
   "cell_type": "code",
   "execution_count": 525,
   "metadata": {},
   "outputs": [],
   "source": [
    "a = np.array([ 0.02529732, -0.01661043, -0.01995389, -0.04190776, -0.04525122,\n",
    "       -0.00334346])"
   ]
  },
  {
   "cell_type": "code",
   "execution_count": 526,
   "metadata": {},
   "outputs": [
    {
     "data": {
      "text/plain": [
       "array([-0.01448947,  0.02088389,  0.03071788,  0.03537337,  0.04520735,\n",
       "        0.00983399])"
      ]
     },
     "execution_count": 526,
     "metadata": {},
     "output_type": "execute_result"
    }
   ],
   "source": [
    "newList - a"
   ]
  },
  {
   "cell_type": "code",
   "execution_count": null,
   "metadata": {},
   "outputs": [],
   "source": []
  }
 ],
 "metadata": {
  "kernelspec": {
   "display_name": "Python 3",
   "language": "python",
   "name": "python3"
  },
  "language_info": {
   "codemirror_mode": {
    "name": "ipython",
    "version": 3
   },
   "file_extension": ".py",
   "mimetype": "text/x-python",
   "name": "python",
   "nbconvert_exporter": "python",
   "pygments_lexer": "ipython3",
   "version": "3.5.2"
  }
 },
 "nbformat": 4,
 "nbformat_minor": 2
}
