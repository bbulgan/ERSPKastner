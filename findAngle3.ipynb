{
 "cells": [
  {
   "cell_type": "code",
   "execution_count": 1,
   "metadata": {
    "collapsed": true
   },
   "outputs": [],
   "source": [
    "import random as rand\n",
    "import numpy as np\n",
    "import matplotlib.pyplot as plt\n",
    "from scipy.optimize import least_squares\n"
   ]
  },
  {
   "cell_type": "code",
   "execution_count": 2,
   "metadata": {
    "collapsed": true
   },
   "outputs": [],
   "source": [
    "#Gets the difference in position in terms of distance\n",
    "def getDiffFromShrimp(shrimpPos, auvPos):\n",
    "    diff = [[0,0],[0,0],[0,0],[0,0]]\n",
    "\n",
    "    for i in range(len(auvPos)):\n",
    "        diff[i] = [shrimpPos[0] - auvPos[i][0],shrimpPos[1] - auvPos[i][1]];\n",
    "        \n",
    "    return diff\n"
   ]
  },
  {
   "cell_type": "code",
   "execution_count": 3,
   "metadata": {
    "collapsed": true
   },
   "outputs": [],
   "source": [
    "#gets magnitude of position difference between each auvposition, and shrimp, in terms of distance\n",
    "def posdiffMagnitude(diff, error=0):\n",
    "    mag = [[0,0],[0,0],[0,0],[0,0],[0,0],[0,0]]\n",
    "    k = 0\n",
    "    for i in range(4):\n",
    "        for j in range(i+1, 4):\n",
    "            mag[k] = (np.linalg.norm(diff[i])-np.linalg.norm(diff[j]))\n",
    "            mag[k] = mag[k] + error;\n",
    "\n",
    "            k = k+1\n",
    "    return mag\n"
   ]
  },
  {
   "cell_type": "code",
   "execution_count": 4,
   "metadata": {},
   "outputs": [
    {
     "name": "stdout",
     "output_type": "stream",
     "text": [
      "[18.362684616102193, 18.362684616102193, 56.568542494923804, 0.0, 38.205857878821611, 38.205857878821611]\n",
      "[19.362684616102193, 19.362684616102193, 57.568542494923804, 1.0, 39.205857878821611, 39.205857878821611]\n"
     ]
    }
   ],
   "source": [
    "auvPos = [[0,0],[0,0],[0,0],[0,0]]\n",
    "pivotAuv = [20, 20];\n",
    "auvPos[0] = pivotAuv;\n",
    "auvPos[1] = [pivotAuv[0]+50, pivotAuv[1]];\n",
    "auvPos[2] = [pivotAuv[0], pivotAuv[1]+50];\n",
    "auvPos[3] = [pivotAuv[0]+50, pivotAuv[1]+50];\n",
    "shrimpPos=[65,65]\n",
    "\n",
    "posidiff = getDiffFromShrimp(shrimpPos, auvPos)\n",
    "posidiff = posdiffMagnitude(posidiff)\n",
    "\n",
    "print(posidiff)\n",
    "\n",
    "posidiff = getDiffFromShrimp(shrimpPos, auvPos)\n",
    "posidiff = posdiffMagnitude(posidiff, error=1)\n",
    "\n",
    "print(posidiff)\n"
   ]
  },
  {
   "cell_type": "code",
   "execution_count": 5,
   "metadata": {
    "collapsed": true
   },
   "outputs": [],
   "source": [
    "def loss(s):\n",
    "    error = np.zeros(6)\n",
    "    k = 0\n",
    "    diff = getDiffFromShrimp(s, auvPos)\n",
    "    for i in range(4):\n",
    "        for j in range(i+1,4):\n",
    "            #print(i,j)\n",
    "            error[k] = posidiff[k]-(np.linalg.norm(diff[i])-np.linalg.norm(diff[j]))\n",
    "            k = k+1\n",
    "    return error"
   ]
  },
  {
   "cell_type": "code",
   "execution_count": 53,
   "metadata": {},
   "outputs": [
    {
     "data": {
      "image/png": "[encoded data removed]",
      "text/plain": [
       "<matplotlib.figure.Figure at 0x7f4c311aaa58>"
      ]
     },
     "metadata": {},
     "output_type": "display_data"
    }
   ],
   "source": [
    "auvPos = [[0,0],[0,0],[0,0],[0,0]]\n",
    "pivotAuv = [20, 20];\n",
    "auvPos[0] = pivotAuv;\n",
    "auvPos[1] = [pivotAuv[0]+50, pivotAuv[1]];\n",
    "auvPos[2] = [pivotAuv[0], pivotAuv[1]+50];\n",
    "auvPos[3] = [pivotAuv[0]+50, pivotAuv[1]+50];\n",
    "initial = [100, 100];\n",
    "xsum = 0;\n",
    "ysum = 0;\n",
    "for i in range(4):\n",
    "    xsum = auvPos[i][0] + xsum;\n",
    "    ysum = auvPos[i][1] + ysum;\n",
    "\n",
    "center = [0,0];\n",
    "center[0] = xsum /4;\n",
    "center[1] = ysum/ 4;\n",
    "\n",
    "x,y = zip(*auvPos)\n",
    "\n",
    "\n",
    "ang_range = np.arange(0,2*np.pi,2*np.pi/72);\n",
    "#We have AUV positions..Now we evaluate accuracy based on distance\n",
    "shrimp_orig = [center[0], center[1]];\n",
    "plt.scatter(x,y);\n",
    "for i in ang_range:\n",
    "    shrimpPos = [shrimp_orig[0]+50*np.cos(i), shrimp_orig[1]+50*np.sin(i)];\n",
    "    posidiff = getDiffFromShrimp(shrimpPos, auvPos)\n",
    "    posidiff = posdiffMagnitude(posidiff, error=1e-2)\n",
    "    res = least_squares(loss, initial)\n",
    "    #plt.plot([initial[0],res.x[0]], [initial[1],res.x[1]])\n",
    "    #plt.plot([initial[0],shrimpPos[0]], [initial[1],shrimpPos[1]])\n",
    "\n",
    "    plt.scatter(res.x[0], res.x[1], color='b')\n",
    "plt.show();\n",
    "\n"
   ]
  },
  {
   "cell_type": "code",
   "execution_count": 163,
   "metadata": {},
   "outputs": [
    {
     "data": {
      "image/png": "[encoded data removed]",
      "text/plain": [
       "<matplotlib.figure.Figure at 0x7f4c310e1278>"
      ]
     },
     "metadata": {},
     "output_type": "display_data"
    }
   ],
   "source": [
    "auvPos = [[0,0],[0,0],[0,0],[0,0]]\n",
    "pivotAuv = [20, 20];\n",
    "auvPos[0] = pivotAuv;\n",
    "auvPos[1] = [pivotAuv[0]+50, pivotAuv[1]];\n",
    "auvPos[2] = [pivotAuv[0], pivotAuv[1]+50];\n",
    "auvPos[3] = [pivotAuv[0]+50, pivotAuv[1]+50];\n",
    "initial = [100, 100];\n",
    "xsum = 0;\n",
    "ysum = 0;\n",
    "for i in range(4):\n",
    "    xsum = auvPos[i][0] + xsum;\n",
    "    ysum = auvPos[i][1] + ysum;\n",
    "\n",
    "center = [0,0];\n",
    "center[0] = xsum /4;\n",
    "center[1] = ysum/ 4;\n",
    "\n",
    "x,y = zip(*auvPos)\n",
    "\n",
    "\n",
    "ang_range = np.arange(0,2*np.pi,2*np.pi/72);\n",
    "#We have AUV positions..Now we evaluate accuracy based on distance\n",
    "shrimp_orig = [center[0], center[1]];\n",
    "#plt.scatter(x,y);\n",
    "for i in ang_range:\n",
    "    shrimpPos = [shrimp_orig[0]+50*np.cos(i), shrimp_orig[1]+50*np.sin(i)];\n",
    "    posidiff = getDiffFromShrimp(shrimpPos, auvPos)\n",
    "    posidiff = posdiffMagnitude(posidiff, error=1e-2)\n",
    "    res = least_squares(loss, initial)\n",
    "    #plt.plot([initial[0],res.x[0]], [initial[1],res.x[1]])\n",
    "    #plt.plot([initial[0],shrimpPos[0]], [initial[1],shrimpPos[1]])\n",
    "    result_angle = np.arctan2(res.x[1]-shrimp_orig[1], res.x[0]-shrimp_orig[0]) - np.arctan2(shrimpPos[1]-shrimp_orig[1], shrimpPos[0]-shrimp_orig[0]);\n",
    "    plt.scatter(i * 360/(2*np.pi), abs(result_angle * 360/(2*np.pi)), color='C0')\n",
    "    #plt.scatter(res.x[0], res.x[1], color='b')\n",
    "\n",
    "plt.rc('axes', titlesize=25)     # fontsize of the axes title\n",
    "plt.rc('axes', labelsize=20)    # fontsize of the x and y labels\n",
    "plt.rc('xtick', labelsize=20)    # fontsize of the tick labels\n",
    "plt.xlabel(r'$ \\theta $');\n",
    "plt.ylabel(r'$| \\hat \\theta - \\theta |$')\n",
    "plt.ylim(0,0.2);\n",
    "plt.show();\n"
   ]
  },
  {
   "cell_type": "code",
   "execution_count": 154,
   "metadata": {},
   "outputs": [],
   "source": [
    "auvPos = [[0,0],[0,0],[0,0],[0,0]]\n",
    "pivotAuv = [20, 20];\n",
    "auvPos[0] = pivotAuv;\n",
    "auvPos[1] = [pivotAuv[0]+50, pivotAuv[1]];\n",
    "auvPos[2] = [pivotAuv[0], pivotAuv[1]+50];\n",
    "auvPos[3] = [pivotAuv[0]+50, pivotAuv[1]+50];\n",
    "initial = [100, 100];\n",
    "xsum = 0;\n",
    "ysum = 0;\n",
    "for i in range(4):\n",
    "    xsum = auvPos[i][0] + xsum;\n",
    "    ysum = auvPos[i][1] + ysum;\n",
    "\n",
    "center = [0,0];\n",
    "center[0] = xsum /4;\n",
    "center[1] = ysum/ 4;\n",
    "\n",
    "x,y = zip(*auvPos)\n",
    "direct_range = np.arange(0, 1000, 10);\n",
    "ang_range = np.arange(0,2*np.pi,2*np.pi/72);\n",
    "#We have AUV positions..Now we evaluate accuracy based on distance\n",
    "shrimp_orig = [center[0], center[1]];\n",
    "#plt.scatter(x,y);\n",
    "xvals = []\n",
    "yvals = []\n",
    "for j in direct_range:\n",
    "    result_diff = 0;\n",
    "    for i in ang_range:\n",
    "        shrimpPos = [shrimp_orig[0]+j*np.cos(i), shrimp_orig[1]+j*np.sin(i)];\n",
    "        posidiff = getDiffFromShrimp(shrimpPos, auvPos)\n",
    "        posidiff = posdiffMagnitude(posidiff, error=1e-2)\n",
    "        res = least_squares(loss, initial)\n",
    "        #plt.plot([initial[0],res.x[0]], [initial[1],res.x[1]])\n",
    "        #plt.plot([initial[0],shrimpPos[0]], [initial[1],shrimpPos[1]])\n",
    "        result_diff = result_diff + np.linalg.norm(shrimpPos-res.x);\n",
    "        #plt.scatter(res.x[0], res.x[1], color='b')    \n",
    "    result_diff = result_diff/72.0;\n",
    "    xvals.append(j)\n",
    "    yvals.append(abs(result_diff))\n"
   ]
  },
  {
   "cell_type": "code",
   "execution_count": null,
   "metadata": {
    "collapsed": true
   },
   "outputs": [],
   "source": [
    "auvPos = [[0,0],[0,0],[0,0],[0,0]]\n",
    "pivotAuv = [20, 20];\n",
    "auvPos[0] = pivotAuv;\n",
    "auvPos[1] = [pivotAuv[0]+50, pivotAuv[1]];\n",
    "auvPos[2] = [pivotAuv[0], pivotAuv[1]+50];\n",
    "auvPos[3] = [pivotAuv[0]+50, pivotAuv[1]+50];\n",
    "initial = [100, 100];\n",
    "xsum = 0;\n",
    "ysum = 0;\n",
    "for i in range(4):\n",
    "    xsum = auvPos[i][0] + xsum;\n",
    "    ysum = auvPos[i][1] + ysum;\n",
    "\n",
    "center = [0,0];\n",
    "center[0] = xsum /4;\n",
    "center[1] = ysum/ 4;\n",
    "\n",
    "x,y = zip(*auvPos)\n",
    "direct_range = np.arange(0, 1000, 10);\n",
    "ang_range = np.arange(0,2*np.pi,2*np.pi/72);\n",
    "#We have AUV positions..Now we evaluate accuracy based on distance\n",
    "shrimp_orig = [center[0], center[1]];\n",
    "#plt.scatter(x,y);\n",
    "xvals = []\n",
    "yvals = []\n",
    "for j in direct_range:\n",
    "    result_diff = 0;\n",
    "    for i in ang_range:\n",
    "        shrimpPos = [shrimp_orig[0]+j*np.cos(i), shrimp_orig[1]+j*np.sin(i)];\n",
    "        posidiff = getDiffFromShrimp(shrimpPos, auvPos)\n",
    "        posidiff = posdiffMagnitude(posidiff, error=1e-2)\n",
    "        res = least_squares(loss, initial)\n",
    "        #plt.plot([initial[0],res.x[0]], [initial[1],res.x[1]])\n",
    "        #plt.plot([initial[0],shrimpPos[0]], [initial[1],shrimpPos[1]])\n",
    "        result_diff = result_diff + np.linalg.norm(shrimpPos-res.x);\n",
    "        #plt.scatter(res.x[0], res.x[1], color='b')    \n",
    "    result_diff = result_diff/72.0;\n",
    "    xvals.append(j)\n",
    "    yvals.append(abs(result_diff))"
   ]
  },
  {
   "cell_type": "code",
   "execution_count": 164,
   "metadata": {},
   "outputs": [
    {
     "data": {
      "image/png": "[encoded data removed]",
      "text/plain": [
       "<matplotlib.figure.Figure at 0x7f4c30fa3d30>"
      ]
     },
     "metadata": {},
     "output_type": "display_data"
    }
   ],
   "source": [
    "plt.scatter(xvals[3:], yvals[3:]);\n",
    "plt.xlabel(\"$r$ (m)\");\n",
    "plt.ylabel(\"$| \\hat r - r |$ (m)\");\n",
    "plt.rc('axes', titlesize=25)     # fontsize of the axes title\n",
    "plt.rc('axes', labelsize=20)    # fontsize of the x and y labels\n",
    "plt.rc('xtick', labelsize=20)    # fontsize of the tick labels\n",
    "plt.rc('ytick', labelsize=20)    # fontsize of the tick labels\n",
    "\n",
    "plt.show();"
   ]
  },
  {
   "cell_type": "code",
   "execution_count": 150,
   "metadata": {
    "scrolled": true
   },
   "outputs": [
    {
     "data": {
      "image/png": "[encoded data removed]",
      "text/plain": [
       "<matplotlib.figure.Figure at 0x7f4c30582cc0>"
      ]
     },
     "metadata": {},
     "output_type": "display_data"
    }
   ],
   "source": [
    "auvPos = [[0,0],[0,0],[0,0],[0,0]]\n",
    "pivotAuv = [20, 20];\n",
    "auvPos[0] = pivotAuv;\n",
    "auvPos[1] = [pivotAuv[0]+50, pivotAuv[1]];\n",
    "auvPos[2] = [pivotAuv[0], pivotAuv[1]+50];\n",
    "auvPos[3] = [pivotAuv[0]+50, pivotAuv[1]+50];\n",
    "initial = [100, 100];\n",
    "xsum = 0;\n",
    "ysum = 0;\n",
    "for i in range(4):\n",
    "    xsum = auvPos[i][0] + xsum;\n",
    "    ysum = auvPos[i][1] + ysum;\n",
    "\n",
    "center = [0,0];\n",
    "center[0] = xsum /4;\n",
    "center[1] = ysum/ 4;\n",
    "\n",
    "x,y = zip(*auvPos)\n",
    "\n",
    "\n",
    "ang_range = np.arange(0,2*np.pi,2*np.pi/72);\n",
    "#We have AUV positions..Now we evaluate accuracy based on distance\n",
    "shrimp_orig = [center[0], center[1]];\n",
    "#plt.scatter(x,y);\n",
    "for i in np.arange(-2,5,0.1):\n",
    "    shrimpPos = [shrimp_orig[0]+50*np.cos(0), shrimp_orig[1]+50*np.sin(0)];\n",
    "    posidiff = getDiffFromShrimp(shrimpPos, auvPos)\n",
    "    posidiff = posdiffMagnitude(posidiff, error=10**i)\n",
    "    res = least_squares(loss, initial)\n",
    "    #plt.plot([initial[0],res.x[0]], [initial[1],res.x[1]])\n",
    "    #plt.plot([initial[0],shrimpPos[0]], [initial[1],shrimpPos[1]])\n",
    "    result_angle = np.arctan2(res.x[1]-shrimp_orig[1], res.x[0]-shrimp_orig[0]) - np.arctan2(shrimpPos[1]-shrimp_orig[1], shrimpPos[0]-shrimp_orig[0]);\n",
    "    plt.scatter(10**i, abs(result_angle * 360/(2*np.pi)), color='C0')\n",
    "    #plt.scatter(res.x[0], res.x[1], color='b')\n",
    "\n",
    "plt.xscale('log')\n",
    "plt.rc('axes', titlesize=25)     # fontsize of the axes title\n",
    "plt.rc('axes', labelsize=20)    # fontsize of the x and y labels\n",
    "plt.rc('xtick', labelsize=20)    # fontsize of the tick labels\n",
    "plt.rc('ytick', labelsize=20)    # fontsize of the tick labels\n",
    "\n",
    "plt.xlabel(r'$ noise$ (m)');\n",
    "plt.ylabel(r'$| \\hat \\theta - \\theta |$')\n",
    "plt.show();\n"
   ]
  },
  {
   "cell_type": "code",
   "execution_count": 152,
   "metadata": {},
   "outputs": [
    {
     "data": {
      "image/png": "[encoded data removed]",
      "text/plain": [
       "<matplotlib.figure.Figure at 0x7f4c3143ea58>"
      ]
     },
     "metadata": {},
     "output_type": "display_data"
    },
    {
     "name": "stdout",
     "output_type": "stream",
     "text": [
      "[120.0, 120.0]\n"
     ]
    }
   ],
   "source": [
    "auvPos = [[0,0],[0,0],[0,0],[0,0]]\n",
    "pivotAuv = [20, 20];\n",
    "auvPos[0] = pivotAuv;\n",
    "auvPos[1] = [pivotAuv[0]+50, pivotAuv[1]];\n",
    "auvPos[2] = [pivotAuv[0], pivotAuv[1]+50];\n",
    "auvPos[3] = [pivotAuv[0]+50, pivotAuv[1]+50];\n",
    "initial = [100, 100];\n",
    "xsum = 0;\n",
    "ysum = 0;\n",
    "for i in range(4):\n",
    "    xsum = auvPos[i][0] + xsum;\n",
    "    ysum = auvPos[i][1] + ysum;\n",
    "\n",
    "center = [0,0];\n",
    "center[0] = xsum /4;\n",
    "center[1] = ysum/ 4;\n",
    "\n",
    "x,y = zip(*auvPos)\n",
    "auvPos = [[0,0],[0,0],[0,0],[0,0]]\n",
    "pivotAuv = [20, 20];\n",
    "auvPos[0] = pivotAuv;\n",
    "auvPos[1] = [pivotAuv[0]+50, pivotAuv[1]];\n",
    "auvPos[2] = [pivotAuv[0], pivotAuv[1]+50];\n",
    "auvPos[3] = [pivotAuv[0]+50, pivotAuv[1]+50];\n",
    "initial = [100, 100];\n",
    "xsum = 0;\n",
    "ysum = 0;\n",
    "for i in range(4):\n",
    "    xsum = auvPos[i][0] + xsum;\n",
    "    ysum = auvPos[i][1] + ysum;\n",
    "\n",
    "center = [0,0];\n",
    "center[0] = xsum /4;\n",
    "center[1] = ysum/ 4;\n",
    "\n",
    "x,y = zip(*auvPos)\n",
    "direct_range = np.arange(0, 1000, 10);\n",
    "ang_range = np.arange(0,2*np.pi,2*np.pi/72);\n",
    "#We have AUV positions..Now we evaluate accuracy based on distance\n",
    "shrimp_orig = [center[0], center[1]];\n",
    "#plt.scatter(x,y);\n",
    "xvals = []\n",
    "yvals = []\n",
    "for j in np.arange(-2,5,0.1):\n",
    "    result_diff = 0;\n",
    "    shrimpPos = [shrimp_orig[0]+75, shrimp_orig[1]+75];\n",
    "    posidiff = getDiffFromShrimp(shrimpPos, auvPos)\n",
    "    posidiff = posdiffMagnitude(posidiff, error=10**j)\n",
    "    res = least_squares(loss, initial)\n",
    "    #plt.plot([initial[0],res.x[0]], [initial[1],res.x[1]])\n",
    "    #plt.plot([initial[0],shrimpPos[0]], [initial[1],shrimpPos[1]])\n",
    "    result_diff = result_diff + np.linalg.norm(shrimpPos-res.x);\n",
    "    #plt.scatter(res.x[0], res.x[1], color='b')    \n",
    "    #result_diff = result_diff/72.0;\n",
    "    xvals.append(10**j)\n",
    "    yvals.append(abs(result_diff))\n",
    "\n",
    "plt.scatter(xvals, yvals);\n",
    "plt.xscale('log')\n",
    "plt.rc('axes', titlesize=25)     # fontsize of the axes title\n",
    "plt.rc('axes', labelsize=20)    # fontsize of the x and y labels\n",
    "plt.rc('xtick', labelsize=20)    # fontsize of the tick labels\n",
    "plt.rc('ytick', labelsize=20)    # fontsize of the tick labels\n",
    "plt.xlim(10**(-2),10**4)\n",
    "plt.xlabel(r'$ noise $');\n",
    "plt.ylabel(r'$| \\hat r - r |$')\n",
    "plt.show();\n",
    "\n",
    "print(shrimpPos)"
   ]
  },
  {
   "cell_type": "code",
   "execution_count": 153,
   "metadata": {},
   "outputs": [
    {
     "data": {
      "image/png": "[encoded data removed]",
      "text/plain": [
       "<matplotlib.figure.Figure at 0x7f4c310c2b38>"
      ]
     },
     "metadata": {},
     "output_type": "display_data"
    }
   ],
   "source": [
    "plt.scatter(xvals, yvals);\n",
    "plt.xscale('log')\n",
    "plt.rc('axes', titlesize=25)     # fontsize of the axes title\n",
    "plt.rc('axes', labelsize=20)    # fontsize of the x and y labels\n",
    "plt.rc('xtick', labelsize=20)    # fontsize of the tick labels\n",
    "plt.rc('ytick', labelsize=20)    # fontsize of the tick labels\n",
    "plt.xlim(10**(-2),10**4)\n",
    "plt.xlabel(r'$ noise$ (m)');\n",
    "plt.ylabel(r'$| \\hat r - r |$')\n",
    "plt.show();\n"
   ]
  },
  {
   "cell_type": "code",
   "execution_count": null,
   "metadata": {},
   "outputs": [],
   "source": []
  },
  {
   "cell_type": "code",
   "execution_count": null,
   "metadata": {
    "collapsed": true
   },
   "outputs": [],
   "source": []
  },
  {
   "cell_type": "code",
   "execution_count": 107,
   "metadata": {},
   "outputs": [
    {
     "data": {
      "image/png": "[encoded data removed]",
      "text/plain": [
       "<matplotlib.figure.Figure at 0x7f4c30411390>"
      ]
     },
     "metadata": {},
     "output_type": "display_data"
    }
   ],
   "source": [
    "auvPos = [[0,0],[0,0],[0,0],[0,0]]\n",
    "\n",
    "ppivotAuv = [20, 20];\n",
    "auvPos[0] = pivotAuv;\n",
    "auvPos[1] = [pivotAuv[0]+50, pivotAuv[1]];\n",
    "auvPos[2] = [pivotAuv[0], pivotAuv[1]+50];\n",
    "auvPos[3] = [pivotAuv[0]+50, pivotAuv[1]+50];\n",
    "shrimpPos=[65,65]\n",
    "\n",
    "posidiff = getDiffFromShrimp(shrimpPos, auvPos)\n",
    "posidiff = posdiffMagnitude(posidiff)\n",
    "\n",
    "for i in range(-100, 100, 10):\n",
    "    for j in range(-100, 100, 10):\n",
    "        initial = [i,j]\n",
    "        res = least_squares(loss, initial)\n",
    "        #plt.plot([initial[0],res.x[0]], [initial[1], res.x[1]],c='r')\n",
    "\n",
    "        plt.scatter(res.x[0], res.x[1], marker = 'x', c='r');\n",
    "\n",
    "x,y = zip(*auvPos)\n",
    "plt.scatter(x,y);\n",
    "\n",
    "#plt.scatter(res.x[0], res.x[1], marker = 'x', c='r');\n",
    "plt.scatter(shrimpPos[0], shrimpPos[1], marker = 's', c='g');\n",
    "plt.show();\n",
    "\n"
   ]
  },
  {
   "cell_type": "code",
   "execution_count": 7,
   "metadata": {},
   "outputs": [
    {
     "name": "stdout",
     "output_type": "stream",
     "text": [
      "[ 86.03564707  86.03564707]\n",
      "0.0\n"
     ]
    }
   ],
   "source": [
    "print(res.x)\n",
    "print(np.arctan(res.x[1]/res.x[0]) - np.arctan(shrimpPos[1]/shrimpPos[0]))"
   ]
  },
  {
   "cell_type": "code",
   "execution_count": 8,
   "metadata": {},
   "outputs": [
    {
     "data": {
      "text/plain": [
       "-1.4550237474777201"
      ]
     },
     "execution_count": 8,
     "metadata": {},
     "output_type": "execute_result"
    }
   ],
   "source": [
    "a = np.random.randn();\n",
    "a"
   ]
  },
  {
   "cell_type": "code",
   "execution_count": 9,
   "metadata": {},
   "outputs": [
    {
     "data": {
      "image/png": "[encoded data removed]",
      "text/plain": [
       "<matplotlib.figure.Figure at 0x7f4c3173d6a0>"
      ]
     },
     "metadata": {},
     "output_type": "display_data"
    },
    {
     "name": "stdout",
     "output_type": "stream",
     "text": [
      "\n"
     ]
    }
   ],
   "source": [
    "auvPos = [[0,0],[0,0],[0,0],[0,0]]\n",
    "pivotAuv = [40, 40];\n",
    "auvPos[0] = pivotAuv;\n",
    "auvPos[1] = [pivotAuv[0]+50, pivotAuv[1]];\n",
    "auvPos[2] = [pivotAuv[0], pivotAuv[1]+50];\n",
    "auvPos[3] = [pivotAuv[0]+50, pivotAuv[1]+50];\n",
    "shrimpPos=[70,70]\n",
    "initial=[40, 40]\n",
    "errors = []\n",
    "for i in range(-1, 20, 1):\n",
    "    error = 10**(-1*i)*np.random.randn();\n",
    "    posidiff = getDiffFromShrimp(shrimpPos, auvPos)\n",
    "    posidiff = posdiffMagnitude(posidiff, error=error)\n",
    "    res = least_squares(loss, initial)\n",
    "    errors.append([error, res.x])\n",
    "    plt.scatter(res.x[0], res.x[1], marker = 'o', c='r');\n",
    "    #print(10**(-1*i))\n",
    "                  \n",
    "x,y = zip(*auvPos)\n",
    "plt.scatter(x,y);\n",
    "plt.scatter(shrimpPos[0], shrimpPos[1], marker = 's', c='g');\n",
    "\n",
    "plt.show();\n",
    "\n",
    "print()"
   ]
  },
  {
   "cell_type": "code",
   "execution_count": 10,
   "metadata": {},
   "outputs": [
    {
     "data": {
      "text/plain": [
       "-0.8745156854984313"
      ]
     },
     "execution_count": 10,
     "metadata": {},
     "output_type": "execute_result"
    }
   ],
   "source": [
    "np.random.randn()"
   ]
  },
  {
   "cell_type": "code",
   "execution_count": 12,
   "metadata": {
    "collapsed": true
   },
   "outputs": [],
   "source": [
    "auvr = 50; #auvrange\n",
    "sr = 50; #squarerange\n",
    "shr = 400; #shrimprange\n",
    "errors = []\n",
    "errorangle = []\n",
    "for i in range(30):\n",
    "    pivotAuv = [50*np.random.randn(), auvr*np.random.randn()]\n",
    "    auvPos[0] = pivotAuv;\n",
    "    auvPos[1] = [pivotAuv[0]+sr, pivotAuv[1]];\n",
    "    auvPos[2] = [pivotAuv[0], pivotAuv[1]+sr];\n",
    "    auvPos[3] = [pivotAuv[0]+sr, pivotAuv[1]+sr];\n",
    "    \n",
    "    shrimpPos=[400*np.random.randn(),400*np.random.randn()]\n",
    "    initial=auvPos[3]\n",
    "    posidiff = getDiffFromShrimp(shrimpPos, auvPos)\n",
    "    posidiff = posdiffMagnitude(posidiff, error=10**(-1*i)*np.random.randn())\n",
    "    res = least_squares(loss, initial)\n",
    "    errors.append((0, np.linalg.norm(res.x-shrimpPos)))\n",
    "    errorangle.append((0, abs(np.arctan(res.x[1]/res.x[0]) - np.arctan(shrimpPos[1]/shrimpPos[0]))))\n",
    "    \n",
    "    for i in range(-1, 4, 1):\n",
    "        posidiff = getDiffFromShrimp(shrimpPos, auvPos)\n",
    "        posidiff = posdiffMagnitude(posidiff, error=10**(-1*i)*np.random.randn())\n",
    "        res = least_squares(loss, initial)\n",
    "        errors.append((10**(-1*i), np.linalg.norm(res.x-shrimpPos)))\n",
    "        errorangle.append((10**(-1*i), abs(np.arctan(res.x[1]/res.x[0]) - np.arctan(shrimpPos[1]/shrimpPos[0]))))\n",
    "\n",
    "        #plt.scatter(res.x[0], res.x[1], marker = 'o', c='r');\n",
    "        #print(10**(-1*i))\n",
    "                  \n"
   ]
  },
  {
   "cell_type": "code",
   "execution_count": null,
   "metadata": {
    "collapsed": true
   },
   "outputs": [],
   "source": [
    "10**(-1*1)*np.random.randn()"
   ]
  },
  {
   "cell_type": "code",
   "execution_count": null,
   "metadata": {
    "collapsed": true
   },
   "outputs": [],
   "source": [
    "x,y = zip(*errors)\n",
    "xa, ya = zip(*errorangle)\n",
    "plt.scatter(x,y)\n",
    "plt.yscale('log')\n",
    "plt.xscale('log')\n",
    "plt.xlim([10e-6,10e2])\n",
    "plt.ylim([1, 10e2])\n",
    "plt.xlabel('measurement inaccuracy (m)')\n",
    "plt.ylabel('distance error (m)')\n",
    "plt.rc('xtick', labelsize=15)\n",
    "plt.rc('ytick', labelsize=15) \n",
    "plt.rc('axes', labelsize=20)     # fontsize of the axes title\n",
    "plt.show();\n",
    "\n",
    "\n",
    "plt.scatter(xa,ya)\n",
    "plt.xscale('log')\n",
    "plt.xlim([10e-6,10e2])\n",
    "plt.ylim([0, 0.5])\n",
    "plt.xlabel('measurement inaccuracy (m)')\n",
    "plt.ylabel('angle error (rad)')\n",
    "plt.rc('xtick', labelsize=15) \n",
    "plt.rc('ytick', labelsize=15) \n",
    "plt.rc('axes', labelsize=20) \n",
    "plt.show();\n"
   ]
  },
  {
   "cell_type": "code",
   "execution_count": null,
   "metadata": {
    "collapsed": true
   },
   "outputs": [],
   "source": [
    "errorangle"
   ]
  },
  {
   "cell_type": "code",
   "execution_count": null,
   "metadata": {
    "collapsed": true
   },
   "outputs": [],
   "source": [
    "print(res.x)\n",
    "print(np.arctan(res.x[1]/res.x[0]) - np.arctan(shrimpPos[1]/shrimpPos[0]))"
   ]
  },
  {
   "cell_type": "code",
   "execution_count": null,
   "metadata": {
    "collapsed": true
   },
   "outputs": [],
   "source": [
    "posidiff = getDiffFromShrimp(shrimpPos, auvPos)\n",
    "posidiff = posdiffMagnitude(posidiff, error=1e-3)\n",
    "posidiff"
   ]
  },
  {
   "cell_type": "code",
   "execution_count": null,
   "metadata": {
    "collapsed": true
   },
   "outputs": [],
   "source": [
    "posidiff = getDiffFromShrimp(shrimpPos, auvPos)\n",
    "posidiff = posdiffMagnitude(posidiff, error=0)\n",
    "posidiff"
   ]
  },
  {
   "cell_type": "code",
   "execution_count": null,
   "metadata": {
    "collapsed": true
   },
   "outputs": [],
   "source": [
    "posidiff"
   ]
  },
  {
   "cell_type": "code",
   "execution_count": null,
   "metadata": {
    "collapsed": true
   },
   "outputs": [],
   "source": [
    "auvPos[0] = [-91, 731]\n",
    "auvPos[1] = [-96, 687]\n",
    "auvPos[2] = [-12, 675]\n",
    "auvPos[3] = [-43, 723];\n",
    "shrimpPos=[-58, 688]\n",
    "initial=[-120, -80]\n",
    "posidiff = getDiffFromShrimp(shrimpPos, auvPos)\n",
    "posidiff = posdiffMagnitude(posidiff, error=0)\n",
    "res = least_squares(loss, initial)"
   ]
  },
  {
   "cell_type": "code",
   "execution_count": null,
   "metadata": {
    "collapsed": true
   },
   "outputs": [],
   "source": [
    "ires.x"
   ]
  },
  {
   "cell_type": "code",
   "execution_count": null,
   "metadata": {
    "collapsed": true
   },
   "outputs": [],
   "source": [
    "posidiff = getDiffFromShrimp(shrimpPos, auvPos)\n",
    "posidiff = posdiffMagnitude(posidiff, error=0)"
   ]
  },
  {
   "cell_type": "code",
   "execution_count": null,
   "metadata": {
    "collapsed": true
   },
   "outputs": [],
   "source": [
    "posidiff"
   ]
  },
  {
   "cell_type": "code",
   "execution_count": null,
   "metadata": {
    "collapsed": true
   },
   "outputs": [],
   "source": []
  },
  {
   "cell_type": "code",
   "execution_count": null,
   "metadata": {
    "collapsed": true
   },
   "outputs": [],
   "source": []
  },
  {
   "cell_type": "code",
   "execution_count": null,
   "metadata": {
    "collapsed": true
   },
   "outputs": [],
   "source": []
  },
  {
   "cell_type": "code",
   "execution_count": null,
   "metadata": {
    "collapsed": true
   },
   "outputs": [],
   "source": []
  },
  {
   "cell_type": "code",
   "execution_count": null,
   "metadata": {
    "collapsed": true
   },
   "outputs": [],
   "source": []
  }
 ],
 "metadata": {
  "kernelspec": {
   "display_name": "Python 3",
   "language": "python",
   "name": "python3"
  },
  "language_info": {
   "codemirror_mode": {
    "name": "ipython",
    "version": 3
   },
   "file_extension": ".py",
   "mimetype": "text/x-python",
   "name": "python",
   "nbconvert_exporter": "python",
   "pygments_lexer": "ipython3",
   "version": "3.6.3"
  }
 },
 "nbformat": 4,
 "nbformat_minor": 2
}
