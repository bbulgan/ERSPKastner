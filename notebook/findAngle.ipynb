{
 "cells": [
  {
   "cell_type": "code",
   "execution_count": 636,
   "metadata": {},
   "outputs": [],
   "source": [
    "import random as rand\n",
    "import numpy as np\n"
   ]
  },
  {
   "cell_type": "code",
   "execution_count": 637,
   "metadata": {},
   "outputs": [],
   "source": [
    "auvRange = 20\n",
    "shrimpRange = 100\n",
    "#rate = shrimpRange/auvRange\n",
    "timeNoiseRange = 0.0005\n",
    "distNoiseRange = (1/100)*auvRange\n",
    "\n",
    "auvPos = [[0,0],[0,0],[0,0],[0,0]]\n",
    "auvPosWN = [[0,0],[0,0],[0,0],[0,0]]\n",
    "\n",
    "def createPositions(auvPos):\n",
    "    for i in range(len(auvPos)):\n",
    "        auvPos[i] = [rand.random()*auvRange, rand.random()*auvRange]\n",
    "        rand1 = rand.random()*distNoiseRange\n",
    "        rand2 = rand.random()*distNoiseRange\n",
    "        auvPosWN[i] = [(auvPos[i][0]+rand1),(auvPos[i][1]+rand2)]\n",
    "    return auvPos,auvPosWN\n",
    "auvPos,auvPosWN = createPositions(auvPos)\n",
    "\n",
    "shrimpPos = [rand.random()*shrimpRange, rand.random()*shrimpRange]\n",
    "#print(auvPos)\n",
    "#print(auvPosWN)"
   ]
  },
  {
   "cell_type": "code",
   "execution_count": 638,
   "metadata": {},
   "outputs": [],
   "source": [
    "diff = [[0,0],[0,0],[0,0],[0,0]]\n",
    "def getDiffFromShrimp(shrimpPos, auvPos):\n",
    "    for i in range(len(auvPos)):\n",
    "        diff[i] = [shrimpPos[0] - auvPos[i][0],shrimpPos[1] - auvPos[i][1]];\n",
    "        \n",
    "    return diff\n",
    "\n",
    "diff = getDiffFromShrimp(shrimpPos, auvPos)\n",
    "#diff = getDiffFromShrimp(shrimpPos, auvPosWN)\n",
    "#auvPos = auvPosWN"
   ]
  },
  {
   "cell_type": "code",
   "execution_count": 639,
   "metadata": {},
   "outputs": [],
   "source": [
    "functions = []\n",
    "soundSpeed = 1498\n",
    "#gets deltas in seconds\n",
    "def getMags():\n",
    "    mag = [[0,0],[0,0],[0,0],[0,0],[0,0],[0,0]]\n",
    "    k = 0\n",
    "    for i in range(4):\n",
    "        for j in range(i+1, 4):\n",
    "            #print(i,j)\n",
    "            mag[k] = (np.linalg.norm(diff[i])-np.linalg.norm(diff[j])) /1498\n",
    "            #mag[k] = mag[k] + rand.random()*noiseRange;\n",
    "            k = k+1\n",
    "    return mag\n",
    "#i want a for loop that prints 0,1 0,2 0,3 1,2,1,3 2,3 \n",
    "\n",
    "timediff = getMags()"
   ]
  },
  {
   "cell_type": "code",
   "execution_count": 640,
   "metadata": {},
   "outputs": [],
   "source": [
    "def loss(s):\n",
    "    error = np.zeros(6)\n",
    "    k = 0\n",
    "    diff = getDiffFromShrimp(s, auvPos)\n",
    "    for i in range(4):\n",
    "        for j in range(i+1,4):\n",
    "            #print(i,j)\n",
    "            error[k] = timediff[k]-(np.linalg.norm(diff[i])-np.linalg.norm(diff[j]))/1498\n",
    "            k = k+1\n",
    "    return error"
   ]
  },
  {
   "cell_type": "code",
   "execution_count": 641,
   "metadata": {},
   "outputs": [
    {
     "name": "stdout",
     "output_type": "stream",
     "text": [
      "[78.73053673 54.07928209]\n",
      "[78.73053672884723, 54.079282094066585]\n"
     ]
    }
   ],
   "source": [
    "from scipy.optimize import least_squares\n",
    "#shrimp location estimate\n",
    "initial_estimates=shrimpPos\n",
    "res = least_squares(loss, initial_estimates)\n",
    "print(res.x)\n",
    "print(shrimpPos)"
   ]
  },
  {
   "cell_type": "code",
   "execution_count": 642,
   "metadata": {},
   "outputs": [
    {
     "name": "stdout",
     "output_type": "stream",
     "text": [
      "0.6018735605563597\n",
      "0.6018735605563597\n"
     ]
    }
   ],
   "source": [
    "res.cost\n",
    "#angle\n",
    "print(np.arctan(res.x[1]/res.x[0]))\n",
    "print(np.arctan(shrimpPos[1]/shrimpPos[0]))\n"
   ]
  },
  {
   "cell_type": "code",
   "execution_count": null,
   "metadata": {},
   "outputs": [],
   "source": []
  }
 ],
 "metadata": {
  "kernelspec": {
   "display_name": "Python 3",
   "language": "python",
   "name": "python3"
  },
  "language_info": {
   "codemirror_mode": {
    "name": "ipython",
    "version": 3
   },
   "file_extension": ".py",
   "mimetype": "text/x-python",
   "name": "python",
   "nbconvert_exporter": "python",
   "pygments_lexer": "ipython3",
   "version": "3.6.4"
  }
 },
 "nbformat": 4,
 "nbformat_minor": 2
}
