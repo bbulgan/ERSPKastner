{
 "cells": [
  {
   "cell_type": "code",
   "execution_count": 3,
   "metadata": {},
   "outputs": [],
   "source": [
    "statusBadCount = 0;import random as rand\n",
    "import numpy as np\n",
    "import matplotlib.pyplot as plt"
   ]
  },
  {
   "cell_type": "code",
   "execution_count": 4,
   "metadata": {},
   "outputs": [],
   "source": [
    "auvRange = 20\n",
    "shrimpRange = 1000\n",
    "#rate = shrimpRange/auvRange\n",
    "timeNoiseRange = 0.0005\n",
    "distNoiseRange = (1/100)*auvRange\n",
    "\n",
    "auvPos = [[0,0],[0,0],[0,0],[0,0]]\n",
    "auvPosWN = [[0,0],[0,0],[0,0],[0,0]]\n",
    "\n",
    "def createPositions(auvPos):\n",
    "    for i in range(len(auvPos)):\n",
    "        auvPos[i] = [rand.random()*auvRange, rand.random()*auvRange]\n",
    "        rand1 = rand.random()*distNoiseRange \n",
    "        rand2 = rand.random()*distNoiseRange\n",
    "        auvPosWN[i] = [(auvPos[i][0]+rand1),(auvPos[i][1]+rand2)]\n",
    "    return auvPos,auvPosWN\n",
    "auvPos,auvPosWN = createPositions(auvPos)\n",
    "\n",
    "shrimpPos = [rand.random()*shrimpRange, rand.random()*shrimpRange]\n",
    "#print(auvPos)\n",
    "#print(auvPosWN)"
   ]
  },
  {
   "cell_type": "code",
   "execution_count": 5,
   "metadata": {},
   "outputs": [],
   "source": [
    "diff = [[0,0],[0,0],[0,0],[0,0]]\n",
    "def getDiffFromShrimp(shrimpPos, auvPos):\n",
    "    for i in range(len(auvPos)):\n",
    "        diff[i] = [shrimpPos[0] - auvPos[i][0],shrimpPos[1] - auvPos[i][1]];\n",
    "        \n",
    "    return diff\n",
    "\n",
    "diff = getDiffFromShrimp(shrimpPos, auvPos)\n",
    "#diff = getDiffFromShrimp(shrimpPos, auvPosWN)\n",
    "#auvPos = auvPosWN"
   ]
  },
  {
   "cell_type": "code",
   "execution_count": 6,
   "metadata": {},
   "outputs": [
    {
     "name": "stdout",
     "output_type": "stream",
     "text": [
      "[1.5807635762797645, 0.80862217934463843, 16.895710346723945, -0.77214139693512607, 15.31494677044418, 16.087088167379306]\n"
     ]
    }
   ],
   "source": [
    "functions = []\n",
    "soundSpeed = 1498\n",
    "Error = 0.2;\n",
    "#gets deltas in seconds\n",
    "def getMags(e = 0):\n",
    "    mag = [[0,0],[0,0],[0,0],[0,0],[0,0],[0,0]]\n",
    "    k = 0\n",
    "    for i in range(4):\n",
    "        for j in range(i+1, 4):\n",
    "           # print(i,j)\n",
    "            mag[k] = (np.linalg.norm(diff[i])-np.linalg.norm(diff[j]))\n",
    "            mag[k] = mag[k] - e/2 + rand.random()*e;\n",
    "            #mag[k] = mag[k] + rand.random()*noiseRange;\n",
    "            k = k+1\n",
    "    return mag\n",
    "#i want a for loop that prints 0,1 0,2 0,3 1,2,1,3 2,3 \n",
    "\n",
    "timediff = getMags()\n",
    "print(timediff)"
   ]
  },
  {
   "cell_type": "code",
   "execution_count": 7,
   "metadata": {},
   "outputs": [],
   "source": [
    "def loss(s):\n",
    "    error = np.zeros(6)\n",
    "    k = 0\n",
    "    diff = getDiffFromShrimp(s, auvPos)\n",
    "    for i in range(4):\n",
    "        for j in range(i+1,4):\n",
    "            #print(i,j)\n",
    "            error[k] = timediff[k]-(np.linalg.norm(diff[i])-np.linalg.norm(diff[j]))\n",
    "            k = k+1\n",
    "    return error"
   ]
  },
  {
   "cell_type": "code",
   "execution_count": 8,
   "metadata": {},
   "outputs": [
    {
     "name": "stdout",
     "output_type": "stream",
     "text": [
      "[ 527.79378752  688.10436698]\n",
      "[527.7937875158088, 688.1043669757553]\n"
     ]
    }
   ],
   "source": [
    "from scipy.optimize import least_squares\n",
    "#shrimp location estimate\n",
    "initial_estimates=shrimpPos\n",
    "res = least_squares(loss, initial_estimates)\n",
    "print(res.x)\n",
    "print(shrimpPos)"
   ]
  },
  {
   "cell_type": "code",
   "execution_count": 9,
   "metadata": {},
   "outputs": [
    {
     "name": "stdout",
     "output_type": "stream",
     "text": [
      "0.916487469224\n",
      "0.916487469224\n"
     ]
    }
   ],
   "source": [
    "res.cost\n",
    "#angle\n",
    "print(np.arctan(res.x[1]/res.x[0]))\n",
    "print(np.arctan(shrimpPos[1]/shrimpPos[0]))\n"
   ]
  },
  {
   "cell_type": "code",
   "execution_count": 10,
   "metadata": {},
   "outputs": [],
   "source": [
    "auvPos = [[0,0],[0,0],[0,0],[0,0]]\n",
    "auvPosWN = [[0,0],[0,0],[0,0],[0,0]]\n",
    "auvPos,auvPosWN = createPositions(auvPos)\n",
    "shrimpPos = [rand.random()*shrimpRange, rand.random()*shrimpRange]\n",
    "diff = getDiffFromShrimp(shrimpPos, auvPos)\n",
    "timediff = getMags()"
   ]
  },
  {
   "cell_type": "code",
   "execution_count": 11,
   "metadata": {
    "scrolled": true
   },
   "outputs": [
    {
     "name": "stdout",
     "output_type": "stream",
     "text": [
      "2\n"
     ]
    },
    {
     "data": {
      "image/png": "[encoded data removed]",
      "text/plain": [
       "<matplotlib.figure.Figure at 0x7f3f1bf0db38>"
      ]
     },
     "metadata": {},
     "output_type": "display_data"
    },
    {
     "name": "stdout",
     "output_type": "stream",
     "text": [
      "-0.230334100855 (50.468090668955995, 5.723111503565292)\n",
      "[ 398.24256922   56.4211067 ]\n",
      "[347.7744785541614, 50.697995192146905]\n"
     ]
    },
    {
     "data": {
      "text/plain": [
       "[1.0725730361900399,\n",
       " -5.7673396582273577,\n",
       " -2.9746892435907011,\n",
       " -6.9404732181331816,\n",
       " -3.9844667668455314,\n",
       " 2.9956677924207114]"
      ]
     },
     "execution_count": 11,
     "metadata": {},
     "output_type": "execute_result"
    }
   ],
   "source": [
    "\n",
    "results = []\n",
    "initial_est = []\n",
    "\n",
    "auvPos = [[0,0],[0,0],[0,0],[0,0]]\n",
    "auvPosWN = [[0,0],[0,0],[0,0],[0,0]]\n",
    "auvPos,auvPosWN = createPositions(auvPos)\n",
    "shrimpPos = [rand.random()*shrimpRange, rand.random()*shrimpRange]\n",
    "diff = getDiffFromShrimp(shrimpPos, auvPos)\n",
    "timediff = getMags(0.2)\n",
    "for i in range(15):\n",
    "    for j in range(15):\n",
    "        #initial_estimates = [rand.random()*shrimpRange, rand.random()*shrimpRange];\n",
    "        initial_estimates = [i * 50, j * 50];\n",
    "        initial_est.append(initial_estimates)\n",
    "        result = (least_squares(loss, initial_estimates, bounds=[-1500,1500]))\n",
    "        plt.plot([initial_estimates[0],result.x[0]], [initial_estimates[1], result.x[1]],c='r')\n",
    "        plt.scatter(result.x[0], result.x[1], c='y')\n",
    "        results.append(list(result.x))\n",
    "\n",
    "\n",
    "angleguess = np.arctan(result.x[1]/result.x[0])\n",
    "real = np.arctan(shrimpPos[1]/shrimpPos[0])\n",
    "anglediff = (angleguess - real)*180/np.pi\n",
    "posdiff = (result.x[0]-shrimpPos[0], result.x[1]-shrimpPos[1])\n",
    "\n",
    "#plt.plot([0,res.x[0]], [0, res.x[1]], marker = 'o',c='b')\n",
    "plt.scatter([shrimpPos[0]], [shrimpPos[1]], marker = 'o',c='r')\n",
    "#plt.scatter([shrimpPos[0]], [shrimpPos[1]], marker = 'o',c='r')\n",
    "x,y = zip(*auvPos)\n",
    "\n",
    "plt.scatter(x,y)\n",
    "#plt.scatter(shrimpPos[0], shrimpPos[1])\n",
    "#plt.scatter(res.x[0], res.x[1], c='g')\n",
    "print(result.status)\n",
    "plt.show()\n",
    "print(anglediff, posdiff)\n",
    "#print(results)\n",
    "print(result.x)\n",
    "print(shrimpPos)\n",
    "\n",
    "timediff"
   ]
  },
  {
   "cell_type": "code",
   "execution_count": 12,
   "metadata": {},
   "outputs": [
    {
     "data": {
      "text/plain": [
       "50.791556198370259"
      ]
     },
     "execution_count": 12,
     "metadata": {},
     "output_type": "execute_result"
    }
   ],
   "source": [
    "np.linalg.norm(posdiff)"
   ]
  },
  {
   "cell_type": "code",
   "execution_count": 13,
   "metadata": {},
   "outputs": [
    {
     "name": "stdout",
     "output_type": "stream",
     "text": [
      "-0.230334100855 (50.468090668955995, 5.723111503565292)\n"
     ]
    }
   ],
   "source": [
    "#According to the least squares algorithm, convergence always occurs, but result is inaccurate\n",
    "\n",
    "auvPos = [[0,0],[0,0],[0,0],[0,0]]\n",
    "print(anglediff, posdiff)\n",
    "auvPosWN = [[0,0],[0,0],[0,0],[0,0]]\n",
    "\n",
    "auvPos,auvPosWN = createPositions(auvPos)\n",
    "shrimpPos = [rand.random()*shrimpRange, rand.random()*shrimpRange]\n",
    "diff = getDiffFromShrimp(shrimpPos, auvPos)\n",
    "timediff = getMags()"
   ]
  },
  {
   "cell_type": "code",
   "execution_count": 14,
   "metadata": {},
   "outputs": [],
   "source": [
    "\n",
    "auvPos = [[0,0],[0,0],[0,0],[0,0]]\n",
    "auvPosWN = [[0,0],[0,0],[0,0],[0,0]]\n",
    "auvPos,auvPosWN = createPositions(auvPos)\n",
    "shrimpPos = [rand.random()*shrimpRange, rand.random()*shrimpRange]\n",
    "diff = getDiffFromShrimp(shrimpPos, auvPos)\n",
    "timediff = getMags()"
   ]
  },
  {
   "cell_type": "code",
   "execution_count": 15,
   "metadata": {},
   "outputs": [
    {
     "name": "stdout",
     "output_type": "stream",
     "text": [
      " active_mask: array([ 0.,  0.])\n",
      "        cost: 2.1556327101980788\n",
      "         fun: array([ 0.40816837, -1.01598274, -0.25602288, -1.42415111, -0.66419124,\n",
      "        0.75995986])\n",
      "        grad: array([ -1.51804644e-06,  -4.96367453e-07])\n",
      "         jac: array([[ 0.38669095,  0.02117983],\n",
      "       [ 0.32422367,  0.0073689 ],\n",
      "       [-0.450325  ,  0.18280321],\n",
      "       [-0.06246728, -0.01381093],\n",
      "       [-0.83701595,  0.16162338],\n",
      "       [-0.77454867,  0.17543431]])\n",
      "     message: '`ftol` termination condition is satisfied.'\n",
      "        nfev: 9\n",
      "        njev: 9\n",
      "  optimality: 1.5180464411346239e-06\n",
      "      status: 2\n",
      "     success: True\n",
      "           x: array([ 7.90743674, -6.16987874])\n",
      " active_mask: array([ 0.,  0.])\n",
      "        cost: 7.3304161303472985e-12\n",
      "         fun: array([  2.36264680e-06,   1.30896740e-06,   2.29674674e-06,\n",
      "        -1.05367940e-06,  -6.59000534e-08,   9.87779345e-07])\n",
      "        grad: array([ -3.62368911e-09,   3.44810566e-09])\n",
      "         jac: array([[ 0.00724211, -0.00817268],\n",
      "       [ 0.0053362 , -0.00600438],\n",
      "       [-0.00774667,  0.00854684],\n",
      "       [-0.00190592,  0.00216831],\n",
      "       [-0.01498879,  0.01671953],\n",
      "       [-0.01308287,  0.01455122]])\n",
      "     message: '`gtol` termination condition is satisfied.'\n",
      "        nfev: 10\n",
      "        njev: 10\n",
      "  optimality: 3.6236891063378397e-09\n",
      "      status: 1\n",
      "     success: True\n",
      "           x: array([ 625.54994077,  565.0507287 ])\n"
     ]
    }
   ],
   "source": [
    "init_guess = [0,0]\n",
    "plt.scatter(result.x[0], result.x[1], c='y')\n",
    "result1 = least_squares(loss, init_guess)\n",
    "result2 = least_squares(loss, [30,30])\n",
    "print(result1)\n",
    "print(result2)"
   ]
  },
  {
   "cell_type": "code",
   "execution_count": 16,
   "metadata": {},
   "outputs": [
    {
     "data": {
      "text/plain": [
       "array([-3.71462437, -4.45301717,  4.78312254, -0.73839279,  8.49774691,\n",
       "        9.23613971])"
      ]
     },
     "execution_count": 16,
     "metadata": {},
     "output_type": "execute_result"
    }
   ],
   "source": [
    "loss(init_guess)"
   ]
  },
  {
   "cell_type": "code",
   "execution_count": null,
   "metadata": {},
   "outputs": [],
   "source": []
  },
  {
   "cell_type": "code",
   "execution_count": 17,
   "metadata": {},
   "outputs": [
    {
     "name": "stdout",
     "output_type": "stream",
     "text": [
      "[[10.79099780312172, 14.270238062104251], [1.6781984527015958, 18.268235877112193], [3.6002817268080767, 16.770080483510522], [18.712833488936155, 8.616498286951234]]\n"
     ]
    }
   ],
   "source": [
    "print(auvPos)"
   ]
  },
  {
   "cell_type": "code",
   "execution_count": 18,
   "metadata": {},
   "outputs": [
    {
     "name": "stdout",
     "output_type": "stream",
     "text": [
      "done\n"
     ]
    }
   ],
   "source": [
    "results = []\n",
    "initial_est = []\n",
    "statusOneCount = 0;\n",
    "statusBadCount = 0;\n",
    "BadResults = 0;\n",
    "GoodResults = 0;\n",
    "for k in range(100):\n",
    "    auvPos = [[0,0],[0,0],[0,0],[0,0]]\n",
    "    auvPosWN = [[0,0],[0,0],[0,0],[0,0]]\n",
    "    auvPos,auvPosWN = createPositions(auvPos)\n",
    "    shrimpPos = [rand.random()*shrimpRange, rand.random()*shrimpRange]\n",
    "    diff = getDiffFromShrimp(shrimpPos, auvPos)\n",
    "    timediff = getMags()\n",
    "    for i in range(15):\n",
    "        for j in range(15):\n",
    "            #initial_estimates = [rand.random()*shrimpRange, rand.random()*shrimpRange];\n",
    "            initial_estimates = [i * 50, j * 50];\n",
    "            initial_est.append(initial_estimates)\n",
    "            result = (least_squares(loss, initial_estimates,  bounds=[-1500,1500]))\n",
    "            results.append(list(result.x))\n",
    "\n",
    "            if(result.status == 1):\n",
    "                statusOneCount = statusOneCount + 1;\n",
    "                angleguess = np.arctan(result.x[1]/result.x[0])\n",
    "                real = np.arctan(shrimpPos[1]/shrimpPos[0])\n",
    "                anglediff = (angleguess - real)*180/np.pi\n",
    "                posdiff = [result.x[0]-shrimpPos[0], result.x[1]-shrimpPos[1]]    \n",
    "                if(anglediff > 0.05 or posdiff[0] > 0.05 or posdiff[1] > 0.05):\n",
    "                    BadResults = BadResults + 1;\n",
    "                    '''\n",
    "                    plt.scatter([initial_estimates[0]], [initial_estimates[1]], c='g')\n",
    "                    plt.scatter([result.x[0]], [result.x[1]], c='y')\n",
    "                    plt.scatter([shrimpPos[0]], [shrimpPos[1]], marker = 'o',c='r')\n",
    "                    x,y = zip(*auvPos)\n",
    "                    plt.scatter(x,y)\n",
    "                    plt.show();\n",
    "                    '''\n",
    "                else:\n",
    "                    GoodResults = GoodResults + 1;\n",
    "                    break;\n",
    "            else:\n",
    "                statusBadCount = statusBadCount + 1;\n",
    "            results.append(list(result.x))\n",
    "            if(result.status == 1):\n",
    "                break;\n",
    "        if(result.status != 1):\n",
    "            statusBadCount = statusBadCount + 1;\n",
    "    \n",
    "print(\"done\");"
   ]
  },
  {
   "cell_type": "code",
   "execution_count": 19,
   "metadata": {},
   "outputs": [
    {
     "name": "stdout",
     "output_type": "stream",
     "text": [
      "3\n",
      "1495\n",
      "1498\n",
      "80\n"
     ]
    }
   ],
   "source": [
    "print(BadResults)\n",
    "print(GoodResults)\n",
    "print(statusOneCount)\n",
    "print(statusBadCount)"
   ]
  },
  {
   "cell_type": "code",
   "execution_count": 22,
   "metadata": {},
   "outputs": [
    {
     "data": {
      "text/plain": [
       "0.03619743686199789"
      ]
     },
     "execution_count": 22,
     "metadata": {},
     "output_type": "execute_result"
    }
   ],
   "source": [
    "-0.25 + rand.random()*0.5"
   ]
  },
  {
   "cell_type": "code",
   "execution_count": 58,
   "metadata": {},
   "outputs": [
    {
     "name": "stdout",
     "output_type": "stream",
     "text": [
      "done\n"
     ]
    }
   ],
   "source": [
    "results = []\n",
    "initial_est = []\n",
    "statusOneCount = 0;\n",
    "statusBadCount = 0;\n",
    "BadResults = 0;\n",
    "GoodResults = 0;\n",
    "disterrors = []\n",
    "angleerrors = []\n",
    "\n",
    "for k in range(50):\n",
    "    for p in range(15):\n",
    "        auvPos = [[0,0],[0,0],[0,0],[0,0]]\n",
    "        auvPosWN = [[0,0],[0,0],[0,0],[0,0]]\n",
    "        auvPos,auvPosWN = createPositions(auvPos)\n",
    "        shrimpPos = [rand.random()*shrimpRange, rand.random()*shrimpRange]\n",
    "        diff = getDiffFromShrimp(shrimpPos, auvPos)\n",
    "        timediff = getMags(0.0025*k)\n",
    "        for i in range(15):\n",
    "            for j in range(15):\n",
    "                #initial_estimates = [rand.random()*shrimpRange, rand.random()*shrimpRange];\n",
    "                initial_estimates = [i * 50, j * 50];\n",
    "                initial_est.append(initial_estimates)\n",
    "                result = (least_squares(loss, initial_estimates,  bounds=[-1500,1500]))\n",
    "\n",
    "                if(result.status == 1):\n",
    "                    statusOneCount = statusOneCount + 1;\n",
    "                    angleguess = np.arctan(result.x[1]/result.x[0])\n",
    "                    real = np.arctan(shrimpPos[1]/shrimpPos[0])\n",
    "                    anglediff = (angleguess - real)*180/np.pi\n",
    "                    posdiff = [result.x[0]-shrimpPos[0], result.x[1]-shrimpPos[1]]    \n",
    "                    disterrors.append([0.0025*k, np.linalg.norm(posdiff)]);\n",
    "                    angleerrors.append([0.0025*k, angleerrors]);\n",
    "                    \n",
    "                    break;\n",
    "                   # if(anglediff < 1 or np.linalg.norm(posdiff) < 10):\n",
    "                    #    break;\n",
    "\n",
    "                    #statusBadCount = statusBadCount + 1;\n",
    "            if(result.status == 1):\n",
    "                    break;\n",
    "        if(result.status != 1):\n",
    "            statusBadCount = statusBadCount + 1;\n",
    "    \n",
    "print(\"done\");"
   ]
  },
  {
   "cell_type": "code",
   "execution_count": null,
   "metadata": {
    "scrolled": true
   },
   "outputs": [],
   "source": [
    "a,b = zip(*disterrors)\n",
    "c,d = zip(*angleerrors)\n",
    "\n",
    "plt.scatter(a,b)\n",
    "plt.xlabel(\"error size\")\n",
    "plt.ylabel(\"diff in distance\")\n",
    "plt.show();\n",
    "\n",
    "plt.scatter(c,d)\n",
    "plt.xlabel(\"error size\")\n",
    "plt.ylabel(\"diff in error\")\n",
    "plt.show();"
   ]
  },
  {
   "cell_type": "code",
   "execution_count": null,
   "metadata": {},
   "outputs": [],
   "source": [
    "c,d = zip(*angleerrors)\n"
   ]
  },
  {
   "cell_type": "code",
   "execution_count": 26,
   "metadata": {},
   "outputs": [
    {
     "name": "stdout",
     "output_type": "stream",
     "text": [
      "[0.1, [[0.0, [...]], [0.0025, [...]], [0.005, [...]], [0.0075, [...]], [0.01, [...]], [0.0125, [...]], [0.015, [...]], [0.0175, [...]], [0.02, [...]], [0.0225, [...]], [0.025, [...]], [0.0275, [...]], [0.03, [...]], [0.0325, [...]], [0.035, [...]], [0.0375, [...]], [0.04, [...]], [0.0425, [...]], [0.045, [...]], [0.0475, [...]], [0.05, [...]], [0.0525, [...]], [0.055, [...]], [0.0575, [...]], [0.06, [...]], [0.0625, [...]], [0.065, [...]], [0.0675, [...]], [0.07, [...]], [0.0725, [...]], [0.075, [...]], [0.0775, [...]], [0.08, [...]], [0.0825, [...]], [0.085, [...]], [0.08750000000000001, [...]], [0.09, [...]], [0.0925, [...]], [0.095, [...]], [0.0975, [...]], [...], [0.10250000000000001, [...]], [0.105, [...]], [0.1075, [...]], [0.11, [...]], [0.1125, [...]], [0.115, [...]], [0.11750000000000001, [...]], [0.12, [...]], [0.1225, [...]]]]\n"
     ]
    }
   ],
   "source": [
    "print(angleerrors[40])"
   ]
  },
  {
   "cell_type": "code",
   "execution_count": 55,
   "metadata": {},
   "outputs": [],
   "source": [
    "a = np.zeros((50, 15))\n",
    "a[0][2] = 3"
   ]
  },
  {
   "cell_type": "code",
   "execution_count": null,
   "metadata": {},
   "outputs": [],
   "source": [
    "[0] * 50\n"
   ]
  },
  {
   "cell_type": "code",
   "execution_count": null,
   "metadata": {},
   "outputs": [],
   "source": [
    "a[0] = [1,2]"
   ]
  },
  {
   "cell_type": "code",
   "execution_count": null,
   "metadata": {},
   "outputs": [],
   "source": []
  }
 ],
 "metadata": {
  "kernelspec": {
   "display_name": "Python 3",
   "language": "python",
   "name": "python3"
  },
  "language_info": {
   "codemirror_mode": {
    "name": "ipython",
    "version": 3
   },
   "file_extension": ".py",
   "mimetype": "text/x-python",
   "name": "python",
   "nbconvert_exporter": "python",
   "pygments_lexer": "ipython3",
   "version": "3.5.2"
  }
 },
 "nbformat": 4,
 "nbformat_minor": 2
}
