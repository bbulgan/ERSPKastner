{
 "cells": [
  {
   "cell_type": "markdown",
   "metadata": {},
   "source": [
    "# Ambient Noise Signal Processing Detector\n",
    "__Contributors:__ Bilguun Bulgan, Coraline Sun, Caitlyn Liu, Isaac Castillo\n",
    "<br>__Instructors:__ Ryan Kastner, Perry Naughton, Tahiya Salam\n",
    "<br>__Description:__ This project is a part of the UC San Diego Early Scholars Research Program (ERSP). This detector was built particularly to detect the signals of the snapping shrimp of the La Jolla shore waters. The detector takes in a sound file, calcuates the frequencies with the Fourier Transformation, then returns \"a snap\" as a unit. The snap should have comprehensive attributes of a sound wave, including the direct arrival of the snap, and its corresponding reflected waves. "
   ]
  },
  {
   "cell_type": "code",
   "execution_count": 47,
   "metadata": {},
   "outputs": [],
   "source": [
    "import numpy as np\n",
    "from scipy.io.wavfile import read\n",
    "from scipy import signal, arange\n",
    "import matplotlib.pyplot as plt\n",
    "import matplotlib.axes as matax\n",
    "import matplotlib.mlab as mlab\n",
    "import sys"
   ]
  },
  {
   "cell_type": "code",
   "execution_count": 48,
   "metadata": {},
   "outputs": [],
   "source": [
    "#samplingFrequency: \n",
    "#read() returns sample rate of wave file as sampFreq (int) and data read from wav file (numpy array)\n",
    "sampFreq, sound = read('wav1.wav');\n"
   ]
  },
  {
   "cell_type": "code",
   "execution_count": 49,
   "metadata": {},
   "outputs": [],
   "source": [
    "#taking 5 seconds of sample from 15s - 20sec in file \n",
    "#interval have 100 frames towards left and 400 frames towards right\n",
    "initTime = 0;    # the start time\n",
    "duration = 300;     # duration of time period start at initTime\n",
    "leftOffset = 100;  # how many frames we should expand the interval to the left\n",
    "rightOffset = 200; # how many frames we should expand ther interval to the right\n",
    "windowSize = 0.01; # the size of the window we will ignore after capture the frame above threshold\n",
    "\n",
    "#start and end will hold the indeces in the sound sample array\n",
    "start = sampFreq * initTime;\n",
    "end = start + sampFreq * duration;\n",
    "\n",
    "#s1 holds the spliced soundsample array\n",
    "s1 = sound[start:end];"
   ]
  },
  {
   "cell_type": "code",
   "execution_count": 50,
   "metadata": {},
   "outputs": [],
   "source": [
    "#preparing timeArray for plotting. The plot will have x-axis in seconds (and not in indeces)\n",
    "timeArray = np.arange(0, end-start, 1)\n",
    "timeArray = timeArray / sampFreq"
   ]
  },
  {
   "cell_type": "markdown",
   "metadata": {},
   "source": [
    "## This displayes the amplitude graph (with the points of interested noted in dots) and the spectrogram\n"
   ]
  },
  {
   "cell_type": "raw",
   "metadata": {},
   "source": [
    "fig = plt.figure()\n",
    "#fig, axes = plt.subplots(nrows=2, ncols=1)\n",
    "ax1 = fig.add_axes( [0.12, 0.55, 0.75, 0.4] )\n",
    "ax2 = fig.add_axes( [0.12, 0.1, 0.75, 0.4] )\n",
    "ax3 = fig.add_axes( [0.88, 0.1, 0.02, 0.4] )\n",
    "    \n",
    "#--- Figure 1. ---#\n",
    "ax1.plot(timeArray, s1)\n",
    "ax1.set_ylabel('Amplitude')\n",
    "ax1.set_xlim(0, duration)\n",
    "ax1.margins(x=0)\n",
    "\n",
    "#--- Figure 2. ---#\n",
    "f, t, Sxx = signal.spectrogram(s1, sampFreq, nperseg=256)\n",
    "im = ax2.pcolormesh(t, f/1000, np.log(Sxx), cmap='jet' )\n",
    "\n",
    "#setting up the amplitude threshold\n",
    "ampThreshold = np.std(s1) * 10\n",
    "\n",
    "#the boolean array about whether at each indexthe amplitude is above threshold or not\n",
    "aboveThres = s1 > ampThreshold \n",
    "\n",
    "#puts a mark at every point above the threshold\n",
    "ax1.scatter(timeArray[aboveThres],s1[aboveThres])\n",
    "\n",
    "ax2.set_ylabel('Frequency [kHz]')\n",
    "ax2.set_ylim(0,20)\n",
    "ax2.set_xlim(0, duration);\n",
    "ax2.set_xlabel('Time (s)')\n",
    "ax2.margins(x=0)\n",
    "im.set_clim(-10, 0)\n",
    "\n",
    "mappable = im\n",
    "cb = plt.colorbar(mappable = mappable, cax = ax3)\n",
    "cb.set_label('db/Hz')\n",
    "\n",
    "plt.show();"
   ]
  },
  {
   "cell_type": "markdown",
   "metadata": {},
   "source": [
    "#### Since "
   ]
  },
  {
   "cell_type": "code",
   "execution_count": 51,
   "metadata": {},
   "outputs": [],
   "source": [
    "#pick out the time when the amplitude is above threshold\n",
    "timeArray[aboveThres]\n",
    "snaps = [];\n",
    "snapIndex = [];\n",
    "\n",
    "# current = the first time frame has amplitude above threshold\n",
    "# snaps = the time where each loud signal above threshold\n",
    "# snapIndex = the time frame indices of each loud signal above threshold\n",
    "current = timeArray[aboveThres][0] \n",
    "snaps.append(current)\n",
    "snapIndex.append(current * sampFreq)\n",
    "\n",
    "# set a 0.01sec time window that slides across the current array\n",
    "# so that we only collect one time data for each loud signal\n",
    "for time in timeArray[aboveThres]: \n",
    "    \n",
    "    if (time > current + windowSize ):\n",
    "        snapIndex.append(time * sampFreq)\n",
    "        snaps.append(time)\n",
    "        current = time\n",
    "        "
   ]
  },
  {
   "cell_type": "code",
   "execution_count": 52,
   "metadata": {},
   "outputs": [],
   "source": [
    "def getFrequencies(signal):\n",
    "    length = len(signal) # length of the signal\n",
    "    #k = arange(length)\n",
    "    #T = length/sampFreq\n",
    "    #frq = k/T # two sides frequency range\n",
    "    #frq = frq[range(np.int(length/2))] # one side frequency range\n",
    "\n",
    "    frequencies = np.fft.fft(signal)/length # fft computing and normalization\n",
    "    frequencies = frequencies[range(np.int(length/2))]\n",
    "    \n",
    "    return abs(frequencies)"
   ]
  },
  {
   "cell_type": "code",
   "execution_count": 53,
   "metadata": {},
   "outputs": [],
   "source": [
    "def plotFrequencies(signal, ax):\n",
    "    length = len(signal) # length of the signal\n",
    "    k = arange(length)\n",
    "    T = length/sampFreq\n",
    "    frq = k/T # two sides frequency range\n",
    "    frq = frq[range(np.int(length/2))] # one side frequency range\n",
    " \n",
    "    \n",
    "    ax.plot(frq, getFrequencies(signal),'r') # plotting the spectrum\n",
    "\n",
    "    ax.set_xlabel('Freq (Hz)')\n",
    "    ax.set_ylabel('|Y(freq)|')"
   ]
  },
  {
   "cell_type": "code",
   "execution_count": 54,
   "metadata": {},
   "outputs": [],
   "source": [
    "def plotAmplitude(signal, time, ax):\n",
    "    \n",
    "    ax.plot(time, signal)\n",
    "    ax.set_xlabel('sample frames')\n",
    "    ax.set_ylabel('Amplitude')\n",
    "    ax.set_xlim(front, back)\n",
    "    ax.margins(x=0)"
   ]
  },
  {
   "cell_type": "code",
   "execution_count": 55,
   "metadata": {},
   "outputs": [],
   "source": [
    "def getRatio(signal):\n",
    "    frequencies = getFrequencies(signal)\n",
    "    ratio = sum(frequencies[34:68] * 100/sum(frequencies))\n",
    "    return ratio;\n",
    "    "
   ]
  },
  {
   "cell_type": "code",
   "execution_count": 56,
   "metadata": {},
   "outputs": [],
   "source": [
    "def classify(signal):\n",
    "    \n",
    "    ratio = getRatio(signal)\n",
    "    if (ratio > 70):\n",
    "        return \"Ping\"\n",
    "    \n",
    "    elif (ratio < 50):\n",
    "        return \"Snap\"\n",
    "    else:\n",
    "        return \"Undefined\""
   ]
  },
  {
   "cell_type": "code",
   "execution_count": 65,
   "metadata": {},
   "outputs": [],
   "source": [
    "# make a histogram\n",
    "sound_filtered = []\n",
    "for i in s1:\n",
    "    sound_filtered.append(abs(i))\n"
   ]
  },
  {
   "cell_type": "code",
   "execution_count": 67,
   "metadata": {},
   "outputs": [
    {
     "data": {
      "image/png": "[encoded data removed]",
      "text/plain": [
       "<matplotlib.figure.Figure at 0x12f0c9f98>"
      ]
     },
     "metadata": {},
     "output_type": "display_data"
    }
   ],
   "source": [
    "num_bins = 10\n",
    "n, bins, patches = plt.hist(sound_filtered, num_bins, facecolor='blue', alpha=0.5)\n",
    "plt.show()"
   ]
  },
  {
   "cell_type": "code",
   "execution_count": 24,
   "metadata": {},
   "outputs": [],
   "source": [
    "timeInterval = []  # the time array for each sound clip\n",
    "signalInterval = []\n",
    "freq = []\n",
    "\n",
    "for i in range(0, len(snapIndex)):\n",
    "    front= int(snapIndex[i]-leftOffset)\n",
    "    back=  int(snapIndex[i]+rightOffset)\n",
    "    \n",
    "    signal = s1[front:back]\n",
    "    time = timeArray[front:back] * sampFreq;\n",
    "    \n",
    "    fig, axes = plt.subplots(nrows=2, ncols=1)\n",
    "\n",
    "    #--- Figure 1. amplitude - time ---#\n",
    "    plotAmplitude(signal, time, axes[0])\n",
    "    \n",
    "    #--- Figure 2. Y(freq) - freq ---#\n",
    "    plotFrequencies(signal, axes[1])\n",
    "    \n",
    "    classification = classify(signal)\n",
    "    fig.suptitle(classification)\n",
    "    \n",
    "    fname = \"\"\n",
    "    \n",
    "    if (classification == \"Snap\"):\n",
    "        fname ='../Plots/Snaps/%f-%f.png'% (front/sampFreq, back/sampFreq)\n",
    "    elif (classification == \"Ping\"):\n",
    "        fname ='../Plots/Pings/%f-%f.png'% (front/sampFreq, back/sampFreq)\n",
    "    else:\n",
    "        fname ='../Plots/undefined/%f-%f.png'% (front/sampFreq, back/sampFreq)\n",
    "        \n",
    "    \n",
    "    #plt.show()\n",
    "     \n",
    "    #save image\n",
    "    fig.savefig(fname)\n",
    "    \n",
    "    plt.close()\n",
    "    \n",
    "    \n",
    "   "
   ]
  }
 ],
 "metadata": {
  "kernelspec": {
   "display_name": "Python 3",
   "language": "python",
   "name": "python3"
  },
  "language_info": {
   "codemirror_mode": {
    "name": "ipython",
    "version": 3
   },
   "file_extension": ".py",
   "mimetype": "text/x-python",
   "name": "python",
   "nbconvert_exporter": "python",
   "pygments_lexer": "ipython3",
   "version": "3.6.3"
  }
 },
 "nbformat": 4,
 "nbformat_minor": 2
}
